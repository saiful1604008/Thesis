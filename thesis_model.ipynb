{
  "nbformat": 4,
  "nbformat_minor": 0,
  "metadata": {
    "colab": {
      "name": "thesis_model.ipynb",
      "provenance": [],
      "collapsed_sections": [],
      "mount_file_id": "1CSPghdOCqF61Lb58jQwWxt8dMT8BRkuV",
      "authorship_tag": "ABX9TyMiw110ME919gAGgTexQ7Rb",
      "include_colab_link": true
    },
    "kernelspec": {
      "name": "python3",
      "display_name": "Python 3"
    },
    "language_info": {
      "name": "python"
    }
  },
  "cells": [
    {
      "cell_type": "markdown",
      "metadata": {
        "id": "view-in-github",
        "colab_type": "text"
      },
      "source": [
        "<a href=\"https://colab.research.google.com/github/saiful1604008/Thesis/blob/main/thesis_model.ipynb\" target=\"_parent\"><img src=\"https://colab.research.google.com/assets/colab-badge.svg\" alt=\"Open In Colab\"/></a>"
      ]
    },
    {
      "cell_type": "code",
      "execution_count": 1,
      "metadata": {
        "id": "yTDLCPRROJeo"
      },
      "outputs": [],
      "source": [
        "import numpy as np\n",
        "import pandas as pd\n",
        "import cv2 as cv\n",
        "import os \n",
        "import matplotlib.pyplot as plt\n",
        "import seaborn as sns\n",
        "\n",
        "import tensorflow as tf\n",
        "from keras.preprocessing.image import ImageDataGenerator\n",
        "\n",
        "from keras.layers import Conv2D,MaxPooling2D,Dropout,Dense,Flatten\n",
        "from keras.models import Sequential\n",
        "from tensorflow.keras.optimizers import Adam"
      ]
    },
    {
      "cell_type": "code",
      "source": [
        "data_dir = \"/content/drive/MyDrive/Dataset_epiliptic_seizure/\"\n",
        "num_classes = 2"
      ],
      "metadata": {
        "id": "05abSiQhQU-T"
      },
      "execution_count": 2,
      "outputs": []
    },
    {
      "cell_type": "code",
      "source": [
        "datagen = ImageDataGenerator(\n",
        "    rescale = 1.0/255,\n",
        "    validation_split = 0.1\n",
        ")\n",
        "\n",
        "train_gen = datagen.flow_from_directory(\n",
        "    directory= data_dir,\n",
        "    target_size = (125,125),\n",
        "    batch_size = 30,\n",
        "    color_mode = 'rgb',\n",
        "    shuffle = True,\n",
        "    subset = 'training',\n",
        "    class_mode = 'binary'\n",
        ")\n",
        "\n",
        "valid_gen = datagen.flow_from_directory(\n",
        "    directory= data_dir,\n",
        "    target_size = (125,125),\n",
        "    batch_size = 30,\n",
        "    color_mode = 'rgb',\n",
        "    shuffle = True,\n",
        "    subset = 'validation',\n",
        "    class_mode = 'binary'\n",
        "\n",
        ")"
      ],
      "metadata": {
        "colab": {
          "base_uri": "https://localhost:8080/"
        },
        "id": "nxZTk4k3QdjH",
        "outputId": "d97d52fc-08c0-4e4e-9c58-241fe947f4ce"
      },
      "execution_count": 3,
      "outputs": [
        {
          "output_type": "stream",
          "name": "stdout",
          "text": [
            "Found 560 images belonging to 2 classes.\n",
            "Found 61 images belonging to 2 classes.\n"
          ]
        }
      ]
    },
    {
      "cell_type": "code",
      "source": [
        "input_shape = train_gen.image_shape\n",
        "input_shape"
      ],
      "metadata": {
        "colab": {
          "base_uri": "https://localhost:8080/"
        },
        "id": "sEjmzLJXQoCR",
        "outputId": "ea0d1d78-029f-4ccf-a655-3fdff9e32c76"
      },
      "execution_count": 4,
      "outputs": [
        {
          "output_type": "execute_result",
          "data": {
            "text/plain": [
              "(125, 125, 3)"
            ]
          },
          "metadata": {},
          "execution_count": 4
        }
      ]
    },
    {
      "cell_type": "code",
      "source": [
        "model = Sequential([\n",
        "                    Conv2D(16,(6,6),\n",
        "                            strides=2,\n",
        "                            activation=\"relu\",\n",
        "                            padding='same',\n",
        "                            input_shape=input_shape),\n",
        "                    MaxPooling2D(pool_size = 2),\n",
        "                    Dropout(0.5),\n",
        "                    Conv2D(32,(3,3),\n",
        "                           strides=1,\n",
        "                           padding=\"same\",\n",
        "                           activation=\"relu\"),\n",
        "                    MaxPooling2D(pool_size = 2,strides = 2),\n",
        "                    Dropout(0.5),\n",
        "                    Conv2D(64,(3,3),\n",
        "                           strides=1,\n",
        "                           padding=\"same\",\n",
        "                           activation=\"relu\"),\n",
        "                    MaxPooling2D(pool_size = 2,strides = 2),\n",
        "                    Dropout(0.5),\n",
        "                    Conv2D(64,(3,3),\n",
        "                           strides=1,\n",
        "                           padding=\"same\",\n",
        "                           activation=\"relu\"),\n",
        "                    MaxPooling2D(pool_size = 2,strides = 2),\n",
        "                    Dropout(0.5),\n",
        "                    Flatten(),\n",
        "                    Dense(128,activation = 'relu'),\n",
        "                    Dropout(0.5),\n",
        "                    Dense(2,activation = 'softmax')\n",
        "                    \n",
        "])"
      ],
      "metadata": {
        "id": "3ZBokd0jQtz-"
      },
      "execution_count": 5,
      "outputs": []
    },
    {
      "cell_type": "code",
      "source": [
        "model.summary()"
      ],
      "metadata": {
        "colab": {
          "base_uri": "https://localhost:8080/"
        },
        "id": "I3_SnXMzSEcv",
        "outputId": "64dddba4-5c2c-47b9-9472-336fa0ecddd7"
      },
      "execution_count": 6,
      "outputs": [
        {
          "output_type": "stream",
          "name": "stdout",
          "text": [
            "Model: \"sequential\"\n",
            "_________________________________________________________________\n",
            " Layer (type)                Output Shape              Param #   \n",
            "=================================================================\n",
            " conv2d (Conv2D)             (None, 63, 63, 16)        1744      \n",
            "                                                                 \n",
            " max_pooling2d (MaxPooling2D  (None, 31, 31, 16)       0         \n",
            " )                                                               \n",
            "                                                                 \n",
            " dropout (Dropout)           (None, 31, 31, 16)        0         \n",
            "                                                                 \n",
            " conv2d_1 (Conv2D)           (None, 31, 31, 32)        4640      \n",
            "                                                                 \n",
            " max_pooling2d_1 (MaxPooling  (None, 15, 15, 32)       0         \n",
            " 2D)                                                             \n",
            "                                                                 \n",
            " dropout_1 (Dropout)         (None, 15, 15, 32)        0         \n",
            "                                                                 \n",
            " conv2d_2 (Conv2D)           (None, 15, 15, 64)        18496     \n",
            "                                                                 \n",
            " max_pooling2d_2 (MaxPooling  (None, 7, 7, 64)         0         \n",
            " 2D)                                                             \n",
            "                                                                 \n",
            " dropout_2 (Dropout)         (None, 7, 7, 64)          0         \n",
            "                                                                 \n",
            " conv2d_3 (Conv2D)           (None, 7, 7, 64)          36928     \n",
            "                                                                 \n",
            " max_pooling2d_3 (MaxPooling  (None, 3, 3, 64)         0         \n",
            " 2D)                                                             \n",
            "                                                                 \n",
            " dropout_3 (Dropout)         (None, 3, 3, 64)          0         \n",
            "                                                                 \n",
            " flatten (Flatten)           (None, 576)               0         \n",
            "                                                                 \n",
            " dense (Dense)               (None, 128)               73856     \n",
            "                                                                 \n",
            " dropout_4 (Dropout)         (None, 128)               0         \n",
            "                                                                 \n",
            " dense_1 (Dense)             (None, 2)                 258       \n",
            "                                                                 \n",
            "=================================================================\n",
            "Total params: 135,922\n",
            "Trainable params: 135,922\n",
            "Non-trainable params: 0\n",
            "_________________________________________________________________\n"
          ]
        }
      ]
    },
    {
      "cell_type": "code",
      "source": [
        "from keras.callbacks import EarlyStopping"
      ],
      "metadata": {
        "id": "fEnBnV_fSJG2"
      },
      "execution_count": 7,
      "outputs": []
    },
    {
      "cell_type": "code",
      "source": [
        "callback_list = EarlyStopping(monitor = 'val_loss',\n",
        "                              patience = 20,\n",
        "                              restore_best_weights=True)"
      ],
      "metadata": {
        "id": "0G4MNTgcSQDJ"
      },
      "execution_count": 8,
      "outputs": []
    },
    {
      "cell_type": "code",
      "source": [
        "model.compile(loss = 'sparse_categorical_crossentropy',\n",
        "              optimizer = Adam(learning_rate = 0.0001),\n",
        "              metrics = ['accuracy'])"
      ],
      "metadata": {
        "id": "Znnr2iX0SS52"
      },
      "execution_count": 9,
      "outputs": []
    },
    {
      "cell_type": "code",
      "source": [
        "Epoch = 100\n",
        "batchSize = 32\n",
        "\n",
        "history = model.fit(train_gen,\n",
        "                    batch_size = batchSize,\n",
        "                    epochs=Epoch,\n",
        "                    callbacks=[callback_list],\n",
        "                    validation_data=valid_gen,\n",
        "                    verbose = 1)"
      ],
      "metadata": {
        "colab": {
          "base_uri": "https://localhost:8080/"
        },
        "id": "5pebrmiuSXK2",
        "outputId": "2096adfc-f0b0-489c-dcfa-fbf613c545a9"
      },
      "execution_count": 10,
      "outputs": [
        {
          "output_type": "stream",
          "name": "stdout",
          "text": [
            "Epoch 1/100\n",
            "19/19 [==============================] - 7s 348ms/step - loss: 1.3314 - accuracy: 0.4625 - val_loss: 0.6903 - val_accuracy: 0.5082\n",
            "Epoch 2/100\n",
            "19/19 [==============================] - 6s 328ms/step - loss: 0.9026 - accuracy: 0.5054 - val_loss: 0.6899 - val_accuracy: 0.5246\n",
            "Epoch 3/100\n",
            "19/19 [==============================] - 6s 329ms/step - loss: 0.8672 - accuracy: 0.4643 - val_loss: 0.6907 - val_accuracy: 0.5410\n",
            "Epoch 4/100\n",
            "19/19 [==============================] - 6s 329ms/step - loss: 0.7763 - accuracy: 0.5268 - val_loss: 0.6911 - val_accuracy: 0.7213\n",
            "Epoch 5/100\n",
            "19/19 [==============================] - 6s 322ms/step - loss: 0.7421 - accuracy: 0.5161 - val_loss: 0.6902 - val_accuracy: 0.5902\n",
            "Epoch 6/100\n",
            "19/19 [==============================] - 6s 324ms/step - loss: 0.7374 - accuracy: 0.5250 - val_loss: 0.6903 - val_accuracy: 0.7869\n",
            "Epoch 7/100\n",
            "19/19 [==============================] - 6s 325ms/step - loss: 0.7321 - accuracy: 0.4679 - val_loss: 0.6907 - val_accuracy: 0.5246\n",
            "Epoch 8/100\n",
            "19/19 [==============================] - 6s 329ms/step - loss: 0.7185 - accuracy: 0.4929 - val_loss: 0.6910 - val_accuracy: 0.5246\n",
            "Epoch 9/100\n",
            "19/19 [==============================] - 7s 349ms/step - loss: 0.6911 - accuracy: 0.5214 - val_loss: 0.6901 - val_accuracy: 0.5246\n",
            "Epoch 10/100\n",
            "19/19 [==============================] - 6s 321ms/step - loss: 0.7078 - accuracy: 0.5036 - val_loss: 0.6897 - val_accuracy: 0.5410\n",
            "Epoch 11/100\n",
            "19/19 [==============================] - 6s 330ms/step - loss: 0.6851 - accuracy: 0.5286 - val_loss: 0.6891 - val_accuracy: 0.6230\n",
            "Epoch 12/100\n",
            "19/19 [==============================] - 7s 337ms/step - loss: 0.6799 - accuracy: 0.5411 - val_loss: 0.6879 - val_accuracy: 0.5902\n",
            "Epoch 13/100\n",
            "19/19 [==============================] - 6s 324ms/step - loss: 0.6774 - accuracy: 0.5232 - val_loss: 0.6847 - val_accuracy: 0.5082\n",
            "Epoch 14/100\n",
            "19/19 [==============================] - 6s 328ms/step - loss: 0.6471 - accuracy: 0.5679 - val_loss: 0.6802 - val_accuracy: 0.5082\n",
            "Epoch 15/100\n",
            "19/19 [==============================] - 6s 327ms/step - loss: 0.6473 - accuracy: 0.5571 - val_loss: 0.6768 - val_accuracy: 0.6885\n",
            "Epoch 16/100\n",
            "19/19 [==============================] - 6s 324ms/step - loss: 0.6235 - accuracy: 0.5357 - val_loss: 0.6688 - val_accuracy: 0.5738\n",
            "Epoch 17/100\n",
            "19/19 [==============================] - 6s 332ms/step - loss: 0.6024 - accuracy: 0.5321 - val_loss: 0.6610 - val_accuracy: 0.6066\n",
            "Epoch 18/100\n",
            "19/19 [==============================] - 6s 320ms/step - loss: 0.5828 - accuracy: 0.5625 - val_loss: 0.6499 - val_accuracy: 0.7049\n",
            "Epoch 19/100\n",
            "19/19 [==============================] - 6s 325ms/step - loss: 0.5407 - accuracy: 0.6429 - val_loss: 0.6339 - val_accuracy: 0.7049\n",
            "Epoch 20/100\n",
            "19/19 [==============================] - 6s 324ms/step - loss: 0.5091 - accuracy: 0.6696 - val_loss: 0.6192 - val_accuracy: 0.7049\n",
            "Epoch 21/100\n",
            "19/19 [==============================] - 6s 331ms/step - loss: 0.4825 - accuracy: 0.7911 - val_loss: 0.6037 - val_accuracy: 0.7049\n",
            "Epoch 22/100\n",
            "19/19 [==============================] - 6s 329ms/step - loss: 0.4631 - accuracy: 0.8679 - val_loss: 0.5912 - val_accuracy: 0.7049\n",
            "Epoch 23/100\n",
            "19/19 [==============================] - 7s 348ms/step - loss: 0.4317 - accuracy: 0.8661 - val_loss: 0.5804 - val_accuracy: 0.7213\n",
            "Epoch 24/100\n",
            "19/19 [==============================] - 7s 343ms/step - loss: 0.4160 - accuracy: 0.9286 - val_loss: 0.5688 - val_accuracy: 0.7049\n",
            "Epoch 25/100\n",
            "19/19 [==============================] - 6s 319ms/step - loss: 0.4049 - accuracy: 0.9179 - val_loss: 0.5621 - val_accuracy: 0.7049\n",
            "Epoch 26/100\n",
            "19/19 [==============================] - 6s 322ms/step - loss: 0.3918 - accuracy: 0.9411 - val_loss: 0.5480 - val_accuracy: 0.7213\n",
            "Epoch 27/100\n",
            "19/19 [==============================] - 6s 325ms/step - loss: 0.3691 - accuracy: 0.9446 - val_loss: 0.5313 - val_accuracy: 0.7213\n",
            "Epoch 28/100\n",
            "19/19 [==============================] - 6s 317ms/step - loss: 0.3550 - accuracy: 0.9429 - val_loss: 0.5174 - val_accuracy: 0.7213\n",
            "Epoch 29/100\n",
            "19/19 [==============================] - 6s 324ms/step - loss: 0.3309 - accuracy: 0.9393 - val_loss: 0.5183 - val_accuracy: 0.7213\n",
            "Epoch 30/100\n",
            "19/19 [==============================] - 6s 328ms/step - loss: 0.3059 - accuracy: 0.9518 - val_loss: 0.4897 - val_accuracy: 0.7377\n",
            "Epoch 31/100\n",
            "19/19 [==============================] - 6s 324ms/step - loss: 0.2851 - accuracy: 0.9429 - val_loss: 0.4482 - val_accuracy: 0.7541\n",
            "Epoch 32/100\n",
            "19/19 [==============================] - 6s 328ms/step - loss: 0.2504 - accuracy: 0.9464 - val_loss: 0.4511 - val_accuracy: 0.7377\n",
            "Epoch 33/100\n",
            "19/19 [==============================] - 6s 323ms/step - loss: 0.2289 - accuracy: 0.9393 - val_loss: 0.4527 - val_accuracy: 0.7377\n",
            "Epoch 34/100\n",
            "19/19 [==============================] - 6s 323ms/step - loss: 0.2051 - accuracy: 0.9446 - val_loss: 0.4907 - val_accuracy: 0.7213\n",
            "Epoch 35/100\n",
            "19/19 [==============================] - 6s 322ms/step - loss: 0.2078 - accuracy: 0.9321 - val_loss: 0.5151 - val_accuracy: 0.7213\n",
            "Epoch 36/100\n",
            "19/19 [==============================] - 6s 325ms/step - loss: 0.1720 - accuracy: 0.9464 - val_loss: 0.3401 - val_accuracy: 0.8361\n",
            "Epoch 37/100\n",
            "19/19 [==============================] - 6s 322ms/step - loss: 0.1966 - accuracy: 0.9411 - val_loss: 0.3567 - val_accuracy: 0.7705\n",
            "Epoch 38/100\n",
            "19/19 [==============================] - 6s 328ms/step - loss: 0.1698 - accuracy: 0.9393 - val_loss: 0.5018 - val_accuracy: 0.7213\n",
            "Epoch 39/100\n",
            "19/19 [==============================] - 6s 322ms/step - loss: 0.1905 - accuracy: 0.9464 - val_loss: 0.5706 - val_accuracy: 0.7049\n",
            "Epoch 40/100\n",
            "19/19 [==============================] - 6s 326ms/step - loss: 0.1950 - accuracy: 0.9357 - val_loss: 0.5885 - val_accuracy: 0.7049\n",
            "Epoch 41/100\n",
            "19/19 [==============================] - 6s 324ms/step - loss: 0.1784 - accuracy: 0.9446 - val_loss: 0.4588 - val_accuracy: 0.7213\n",
            "Epoch 42/100\n",
            "19/19 [==============================] - 6s 325ms/step - loss: 0.1590 - accuracy: 0.9518 - val_loss: 0.4214 - val_accuracy: 0.7377\n",
            "Epoch 43/100\n",
            "19/19 [==============================] - 6s 324ms/step - loss: 0.1488 - accuracy: 0.9482 - val_loss: 0.4328 - val_accuracy: 0.7213\n",
            "Epoch 44/100\n",
            "19/19 [==============================] - 6s 322ms/step - loss: 0.1542 - accuracy: 0.9446 - val_loss: 0.4701 - val_accuracy: 0.7213\n",
            "Epoch 45/100\n",
            "19/19 [==============================] - 6s 329ms/step - loss: 0.1701 - accuracy: 0.9518 - val_loss: 0.4412 - val_accuracy: 0.7213\n",
            "Epoch 46/100\n",
            "19/19 [==============================] - 6s 325ms/step - loss: 0.1588 - accuracy: 0.9500 - val_loss: 0.3667 - val_accuracy: 0.7705\n",
            "Epoch 47/100\n",
            "19/19 [==============================] - 6s 325ms/step - loss: 0.1491 - accuracy: 0.9482 - val_loss: 0.4288 - val_accuracy: 0.7213\n",
            "Epoch 48/100\n",
            "19/19 [==============================] - 6s 323ms/step - loss: 0.1334 - accuracy: 0.9536 - val_loss: 0.4716 - val_accuracy: 0.7213\n",
            "Epoch 49/100\n",
            "19/19 [==============================] - 6s 326ms/step - loss: 0.1475 - accuracy: 0.9429 - val_loss: 0.4801 - val_accuracy: 0.7213\n",
            "Epoch 50/100\n",
            "19/19 [==============================] - 6s 324ms/step - loss: 0.1458 - accuracy: 0.9500 - val_loss: 0.4662 - val_accuracy: 0.7213\n",
            "Epoch 51/100\n",
            "19/19 [==============================] - 6s 322ms/step - loss: 0.1469 - accuracy: 0.9429 - val_loss: 0.4558 - val_accuracy: 0.7213\n",
            "Epoch 52/100\n",
            "19/19 [==============================] - 6s 333ms/step - loss: 0.1284 - accuracy: 0.9536 - val_loss: 0.4658 - val_accuracy: 0.7213\n",
            "Epoch 53/100\n",
            "19/19 [==============================] - 6s 327ms/step - loss: 0.1441 - accuracy: 0.9500 - val_loss: 0.4219 - val_accuracy: 0.7213\n",
            "Epoch 54/100\n",
            "19/19 [==============================] - 6s 323ms/step - loss: 0.1524 - accuracy: 0.9518 - val_loss: 0.3612 - val_accuracy: 0.7705\n",
            "Epoch 55/100\n",
            "19/19 [==============================] - 6s 316ms/step - loss: 0.1388 - accuracy: 0.9500 - val_loss: 0.3264 - val_accuracy: 0.8361\n",
            "Epoch 56/100\n",
            "19/19 [==============================] - 6s 322ms/step - loss: 0.1486 - accuracy: 0.9429 - val_loss: 0.3903 - val_accuracy: 0.7377\n",
            "Epoch 57/100\n",
            "19/19 [==============================] - 6s 324ms/step - loss: 0.1309 - accuracy: 0.9607 - val_loss: 0.4065 - val_accuracy: 0.7213\n",
            "Epoch 58/100\n",
            "19/19 [==============================] - 6s 319ms/step - loss: 0.1247 - accuracy: 0.9554 - val_loss: 0.4482 - val_accuracy: 0.7213\n",
            "Epoch 59/100\n",
            "19/19 [==============================] - 6s 321ms/step - loss: 0.1390 - accuracy: 0.9571 - val_loss: 0.3613 - val_accuracy: 0.7541\n",
            "Epoch 60/100\n",
            "19/19 [==============================] - 6s 327ms/step - loss: 0.1218 - accuracy: 0.9571 - val_loss: 0.4051 - val_accuracy: 0.7213\n",
            "Epoch 61/100\n",
            "19/19 [==============================] - 6s 319ms/step - loss: 0.1354 - accuracy: 0.9536 - val_loss: 0.4805 - val_accuracy: 0.7049\n",
            "Epoch 62/100\n",
            "19/19 [==============================] - 6s 321ms/step - loss: 0.1511 - accuracy: 0.9482 - val_loss: 0.3747 - val_accuracy: 0.7377\n",
            "Epoch 63/100\n",
            "19/19 [==============================] - 6s 330ms/step - loss: 0.1094 - accuracy: 0.9554 - val_loss: 0.3685 - val_accuracy: 0.7541\n",
            "Epoch 64/100\n",
            "19/19 [==============================] - 6s 322ms/step - loss: 0.1192 - accuracy: 0.9607 - val_loss: 0.3376 - val_accuracy: 0.8033\n",
            "Epoch 65/100\n",
            "19/19 [==============================] - 6s 327ms/step - loss: 0.1374 - accuracy: 0.9500 - val_loss: 0.3768 - val_accuracy: 0.7377\n",
            "Epoch 66/100\n",
            "19/19 [==============================] - 6s 320ms/step - loss: 0.1303 - accuracy: 0.9554 - val_loss: 0.3805 - val_accuracy: 0.7377\n",
            "Epoch 67/100\n",
            "19/19 [==============================] - 6s 326ms/step - loss: 0.1230 - accuracy: 0.9625 - val_loss: 0.3841 - val_accuracy: 0.7377\n",
            "Epoch 68/100\n",
            "19/19 [==============================] - 6s 321ms/step - loss: 0.1314 - accuracy: 0.9536 - val_loss: 0.4426 - val_accuracy: 0.7213\n",
            "Epoch 69/100\n",
            "19/19 [==============================] - 6s 319ms/step - loss: 0.1164 - accuracy: 0.9536 - val_loss: 0.4389 - val_accuracy: 0.7213\n",
            "Epoch 70/100\n",
            "19/19 [==============================] - 6s 325ms/step - loss: 0.1422 - accuracy: 0.9429 - val_loss: 0.4075 - val_accuracy: 0.7213\n",
            "Epoch 71/100\n",
            "19/19 [==============================] - 6s 324ms/step - loss: 0.1221 - accuracy: 0.9589 - val_loss: 0.3329 - val_accuracy: 0.8033\n",
            "Epoch 72/100\n",
            "19/19 [==============================] - 6s 329ms/step - loss: 0.1227 - accuracy: 0.9643 - val_loss: 0.3163 - val_accuracy: 0.8197\n",
            "Epoch 73/100\n",
            "19/19 [==============================] - 6s 328ms/step - loss: 0.1395 - accuracy: 0.9500 - val_loss: 0.3982 - val_accuracy: 0.7213\n",
            "Epoch 74/100\n",
            "19/19 [==============================] - 6s 326ms/step - loss: 0.1349 - accuracy: 0.9464 - val_loss: 0.4101 - val_accuracy: 0.7213\n",
            "Epoch 75/100\n",
            "19/19 [==============================] - 6s 320ms/step - loss: 0.1287 - accuracy: 0.9589 - val_loss: 0.3984 - val_accuracy: 0.7213\n",
            "Epoch 76/100\n",
            "19/19 [==============================] - 6s 322ms/step - loss: 0.1212 - accuracy: 0.9625 - val_loss: 0.3913 - val_accuracy: 0.7213\n",
            "Epoch 77/100\n",
            "19/19 [==============================] - 6s 326ms/step - loss: 0.1299 - accuracy: 0.9554 - val_loss: 0.3233 - val_accuracy: 0.8033\n",
            "Epoch 78/100\n",
            "19/19 [==============================] - 6s 324ms/step - loss: 0.1210 - accuracy: 0.9625 - val_loss: 0.2556 - val_accuracy: 0.9016\n",
            "Epoch 79/100\n",
            "19/19 [==============================] - 6s 323ms/step - loss: 0.1126 - accuracy: 0.9625 - val_loss: 0.3579 - val_accuracy: 0.7541\n",
            "Epoch 80/100\n",
            "19/19 [==============================] - 6s 322ms/step - loss: 0.1129 - accuracy: 0.9589 - val_loss: 0.3790 - val_accuracy: 0.7213\n",
            "Epoch 81/100\n",
            "19/19 [==============================] - 6s 326ms/step - loss: 0.1366 - accuracy: 0.9571 - val_loss: 0.3594 - val_accuracy: 0.7541\n",
            "Epoch 82/100\n",
            "19/19 [==============================] - 6s 324ms/step - loss: 0.1305 - accuracy: 0.9500 - val_loss: 0.4183 - val_accuracy: 0.7213\n",
            "Epoch 83/100\n",
            "19/19 [==============================] - 6s 322ms/step - loss: 0.1150 - accuracy: 0.9571 - val_loss: 0.3619 - val_accuracy: 0.7541\n",
            "Epoch 84/100\n",
            "19/19 [==============================] - 6s 323ms/step - loss: 0.1129 - accuracy: 0.9607 - val_loss: 0.3030 - val_accuracy: 0.8361\n",
            "Epoch 85/100\n",
            "19/19 [==============================] - 6s 325ms/step - loss: 0.1117 - accuracy: 0.9643 - val_loss: 0.2741 - val_accuracy: 0.8852\n",
            "Epoch 86/100\n",
            "19/19 [==============================] - 6s 325ms/step - loss: 0.1179 - accuracy: 0.9554 - val_loss: 0.3775 - val_accuracy: 0.7213\n",
            "Epoch 87/100\n",
            "19/19 [==============================] - 6s 323ms/step - loss: 0.1099 - accuracy: 0.9589 - val_loss: 0.2890 - val_accuracy: 0.8525\n",
            "Epoch 88/100\n",
            "19/19 [==============================] - 6s 329ms/step - loss: 0.1056 - accuracy: 0.9607 - val_loss: 0.2543 - val_accuracy: 0.9016\n",
            "Epoch 89/100\n",
            "19/19 [==============================] - 6s 322ms/step - loss: 0.1070 - accuracy: 0.9571 - val_loss: 0.2984 - val_accuracy: 0.8361\n",
            "Epoch 90/100\n",
            "19/19 [==============================] - 6s 328ms/step - loss: 0.1144 - accuracy: 0.9607 - val_loss: 0.2841 - val_accuracy: 0.8852\n",
            "Epoch 91/100\n",
            "19/19 [==============================] - 6s 330ms/step - loss: 0.0987 - accuracy: 0.9625 - val_loss: 0.2302 - val_accuracy: 0.9016\n",
            "Epoch 92/100\n",
            "19/19 [==============================] - 6s 324ms/step - loss: 0.1118 - accuracy: 0.9607 - val_loss: 0.2953 - val_accuracy: 0.8361\n",
            "Epoch 93/100\n",
            "19/19 [==============================] - 6s 326ms/step - loss: 0.1155 - accuracy: 0.9589 - val_loss: 0.2984 - val_accuracy: 0.8361\n",
            "Epoch 94/100\n",
            "19/19 [==============================] - 6s 325ms/step - loss: 0.0871 - accuracy: 0.9643 - val_loss: 0.2641 - val_accuracy: 0.8852\n",
            "Epoch 95/100\n",
            "19/19 [==============================] - 6s 321ms/step - loss: 0.1081 - accuracy: 0.9643 - val_loss: 0.2816 - val_accuracy: 0.8689\n",
            "Epoch 96/100\n",
            "19/19 [==============================] - 6s 328ms/step - loss: 0.0966 - accuracy: 0.9625 - val_loss: 0.2888 - val_accuracy: 0.8361\n",
            "Epoch 97/100\n",
            "19/19 [==============================] - 6s 324ms/step - loss: 0.0903 - accuracy: 0.9643 - val_loss: 0.2355 - val_accuracy: 0.9016\n",
            "Epoch 98/100\n",
            "19/19 [==============================] - 6s 323ms/step - loss: 0.1033 - accuracy: 0.9536 - val_loss: 0.2710 - val_accuracy: 0.8852\n",
            "Epoch 99/100\n",
            "19/19 [==============================] - 6s 325ms/step - loss: 0.1051 - accuracy: 0.9643 - val_loss: 0.2581 - val_accuracy: 0.9016\n",
            "Epoch 100/100\n",
            "19/19 [==============================] - 6s 329ms/step - loss: 0.0959 - accuracy: 0.9661 - val_loss: 0.2199 - val_accuracy: 0.9016\n"
          ]
        }
      ]
    },
    {
      "cell_type": "code",
      "source": [
        "plt.plot(history.history['loss'], label='loss')\n",
        "plt.plot(history.history['val_loss'], label='val_loss')\n",
        "plt.legend()\n",
        "plt.grid()\n",
        "plt.show()"
      ],
      "metadata": {
        "colab": {
          "base_uri": "https://localhost:8080/",
          "height": 265
        },
        "id": "S6RLTUmJWh5_",
        "outputId": "d2d0d18c-7f53-4c2f-ad68-1866bcc58ed0"
      },
      "execution_count": 11,
      "outputs": [
        {
          "output_type": "display_data",
          "data": {
            "text/plain": [
              "<Figure size 432x288 with 1 Axes>"
            ],
            "image/png": "[encoded data removed]"
          },
          "metadata": {
            "needs_background": "light"
          }
        }
      ]
    },
    {
      "cell_type": "code",
      "source": [
        "plt.plot(history.history['accuracy'], label='accuracy')\n",
        "plt.plot(history.history['val_accuracy'], label='validation_accuracy')\n",
        "plt.legend()\n",
        "plt.grid()\n",
        "plt.show()"
      ],
      "metadata": {
        "colab": {
          "base_uri": "https://localhost:8080/",
          "height": 265
        },
        "id": "Btn7I6mmWlj9",
        "outputId": "00502b81-d219-48f1-fa1e-473d2da51af4"
      },
      "execution_count": 12,
      "outputs": [
        {
          "output_type": "display_data",
          "data": {
            "text/plain": [
              "<Figure size 432x288 with 1 Axes>"
            ],
            "image/png": "[encoded data removed]"
          },
          "metadata": {
            "needs_background": "light"
          }
        }
      ]
    },
    {
      "cell_type": "code",
      "source": [
        "from sklearn.metrics import classification_report, confusion_matrix\n",
        "target_names = []\n",
        "for key in train_gen.class_indices:\n",
        "    target_names.append(key)\n",
        "y_pred = model.predict_generator(valid_gen)\n",
        "y_pred = np.argmax(y_pred, axis=1)\n",
        "print('Confusion Matrix')\n",
        "cm = confusion_matrix(valid_gen.classes, y_pred)\n",
        "print (cm)\n",
        "print('Classification Report')\n",
        "print(classification_report(valid_gen.classes, y_pred, target_names=target_names))\n"
      ],
      "metadata": {
        "colab": {
          "base_uri": "https://localhost:8080/"
        },
        "id": "4lTfyAiRWsPE",
        "outputId": "c51b0011-c448-4f06-ff69-bbde88ef2e16"
      },
      "execution_count": 22,
      "outputs": [
        {
          "output_type": "stream",
          "name": "stderr",
          "text": [
            "/usr/local/lib/python3.7/dist-packages/ipykernel_launcher.py:5: UserWarning: `Model.predict_generator` is deprecated and will be removed in a future version. Please use `Model.predict`, which supports generators.\n",
            "  \"\"\"\n"
          ]
        },
        {
          "output_type": "stream",
          "name": "stdout",
          "text": [
            "Confusion Matrix\n",
            "[[17 13]\n",
            " [ 7 24]]\n",
            "Classification Report\n",
            "              precision    recall  f1-score   support\n",
            "\n",
            "      Normal       0.71      0.57      0.63        30\n",
            "     Seizure       0.65      0.77      0.71        31\n",
            "\n",
            "    accuracy                           0.67        61\n",
            "   macro avg       0.68      0.67      0.67        61\n",
            "weighted avg       0.68      0.67      0.67        61\n",
            "\n"
          ]
        }
      ]
    },
    {
      "cell_type": "code",
      "source": [
        "import seaborn as sns\n",
        "conf_mat = confusion_matrix(valid_gen.classes, y_pred)\n",
        "sns.heatmap(conf_mat, annot = True , cmap = 'Accent')\n",
        "plt.ylabel('True label')\n",
        "plt.xlabel('Predicted label')\n",
        "plt. title ('Confusion Matrix - 0: Normal & 1: Seizure')"
      ],
      "metadata": {
        "colab": {
          "base_uri": "https://localhost:8080/",
          "height": 313
        },
        "id": "w3tRtXP_8454",
        "outputId": "84930a65-3ab6-41d7-9039-3aeccc602b29"
      },
      "execution_count": 39,
      "outputs": [
        {
          "output_type": "execute_result",
          "data": {
            "text/plain": [
              "Text(0.5, 1.0, 'Confusion Matrix - 0: Normal & 1: Seizure')"
            ]
          },
          "metadata": {},
          "execution_count": 39
        },
        {
          "output_type": "display_data",
          "data": {
            "text/plain": [
              "<Figure size 432x288 with 2 Axes>"
            ],
            "image/png": "[encoded data removed]"
          },
          "metadata": {
            "needs_background": "light"
          }
        }
      ]
    },
    {
      "cell_type": "code",
      "source": [
        "model.save('EEG.h5')"
      ],
      "metadata": {
        "id": "-9MsYyuqJg4C"
      },
      "execution_count": 44,
      "outputs": []
    }
  ]
}