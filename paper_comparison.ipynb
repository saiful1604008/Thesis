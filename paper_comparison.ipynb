{
  "metadata": {
    "kernelspec": {
      "language": "python",
      "display_name": "Python 3",
      "name": "python3"
    },
    "language_info": {
      "name": "python",
      "version": "3.7.12",
      "mimetype": "text/x-python",
      "codemirror_mode": {
        "name": "ipython",
        "version": 3
      },
      "pygments_lexer": "ipython3",
      "nbconvert_exporter": "python",
      "file_extension": ".py"
    },
    "colab": {
      "name": "paper comparison.ipynb",
      "provenance": [],
      "include_colab_link": true
    }
  },
  "nbformat_minor": 0,
  "nbformat": 4,
  "cells": [
    {
      "cell_type": "markdown",
      "metadata": {
        "id": "view-in-github",
        "colab_type": "text"
      },
      "source": [
        "<a href=\"https://colab.research.google.com/github/saiful1604008/Thesis/blob/main/paper_comparison.ipynb\" target=\"_parent\"><img src=\"https://colab.research.google.com/assets/colab-badge.svg\" alt=\"Open In Colab\"/></a>"
      ]
    },
    {
      "cell_type": "code",
      "source": [
        "pip install mne"
      ],
      "metadata": {
        "_uuid": "8f2839f25d086af736a60e9eeb907d3b93b6e0e5",
        "_cell_guid": "b1076dfc-b9ad-4769-8c92-a6c4dae69d19",
        "execution": {
          "iopub.status.busy": "2022-07-25T20:18:42.546681Z",
          "iopub.execute_input": "2022-07-25T20:18:42.547195Z",
          "iopub.status.idle": "2022-07-25T20:18:56.827514Z",
          "shell.execute_reply.started": "2022-07-25T20:18:42.547091Z",
          "shell.execute_reply": "2022-07-25T20:18:56.826075Z"
        },
        "trusted": true,
        "colab": {
          "base_uri": "https://localhost:8080/"
        },
        "id": "eo5YXW4_42ZN",
        "outputId": "5b128cb8-e6be-499b-df6a-2a9caedee354"
      },
      "execution_count": null,
      "outputs": [
        {
          "output_type": "stream",
          "name": "stdout",
          "text": [
            "Looking in indexes: https://pypi.org/simple, https://us-python.pkg.dev/colab-wheels/public/simple/\n",
            "Requirement already satisfied: mne in /usr/local/lib/python3.7/dist-packages (1.0.3)\n",
            "Requirement already satisfied: tqdm in /usr/local/lib/python3.7/dist-packages (from mne) (4.64.0)\n",
            "Requirement already satisfied: matplotlib in /usr/local/lib/python3.7/dist-packages (from mne) (3.2.2)\n",
            "Requirement already satisfied: decorator in /usr/local/lib/python3.7/dist-packages (from mne) (4.4.2)\n",
            "Requirement already satisfied: numpy>=1.15.4 in /usr/local/lib/python3.7/dist-packages (from mne) (1.21.6)\n",
            "Requirement already satisfied: jinja2 in /usr/local/lib/python3.7/dist-packages (from mne) (2.11.3)\n",
            "Requirement already satisfied: pooch>=1.5 in /usr/local/lib/python3.7/dist-packages (from mne) (1.6.0)\n",
            "Requirement already satisfied: scipy>=1.1.0 in /usr/local/lib/python3.7/dist-packages (from mne) (1.7.3)\n",
            "Requirement already satisfied: packaging in /usr/local/lib/python3.7/dist-packages (from mne) (21.3)\n",
            "Requirement already satisfied: appdirs>=1.3.0 in /usr/local/lib/python3.7/dist-packages (from pooch>=1.5->mne) (1.4.4)\n",
            "Requirement already satisfied: requests>=2.19.0 in /usr/local/lib/python3.7/dist-packages (from pooch>=1.5->mne) (2.23.0)\n",
            "Requirement already satisfied: pyparsing!=3.0.5,>=2.0.2 in /usr/local/lib/python3.7/dist-packages (from packaging->mne) (3.0.9)\n",
            "Requirement already satisfied: chardet<4,>=3.0.2 in /usr/local/lib/python3.7/dist-packages (from requests>=2.19.0->pooch>=1.5->mne) (3.0.4)\n",
            "Requirement already satisfied: certifi>=2017.4.17 in /usr/local/lib/python3.7/dist-packages (from requests>=2.19.0->pooch>=1.5->mne) (2022.6.15)\n",
            "Requirement already satisfied: idna<3,>=2.5 in /usr/local/lib/python3.7/dist-packages (from requests>=2.19.0->pooch>=1.5->mne) (2.10)\n",
            "Requirement already satisfied: urllib3!=1.25.0,!=1.25.1,<1.26,>=1.21.1 in /usr/local/lib/python3.7/dist-packages (from requests>=2.19.0->pooch>=1.5->mne) (1.24.3)\n",
            "Requirement already satisfied: MarkupSafe>=0.23 in /usr/local/lib/python3.7/dist-packages (from jinja2->mne) (2.0.1)\n",
            "Requirement already satisfied: cycler>=0.10 in /usr/local/lib/python3.7/dist-packages (from matplotlib->mne) (0.11.0)\n",
            "Requirement already satisfied: python-dateutil>=2.1 in /usr/local/lib/python3.7/dist-packages (from matplotlib->mne) (2.8.2)\n",
            "Requirement already satisfied: kiwisolver>=1.0.1 in /usr/local/lib/python3.7/dist-packages (from matplotlib->mne) (1.4.4)\n",
            "Requirement already satisfied: typing-extensions in /usr/local/lib/python3.7/dist-packages (from kiwisolver>=1.0.1->matplotlib->mne) (4.1.1)\n",
            "Requirement already satisfied: six>=1.5 in /usr/local/lib/python3.7/dist-packages (from python-dateutil>=2.1->matplotlib->mne) (1.15.0)\n"
          ]
        }
      ]
    },
    {
      "cell_type": "code",
      "source": [
        "pip install pymatreader"
      ],
      "metadata": {
        "execution": {
          "iopub.status.busy": "2022-07-25T20:18:56.830254Z",
          "iopub.execute_input": "2022-07-25T20:18:56.830623Z",
          "iopub.status.idle": "2022-07-25T20:19:10.390311Z",
          "shell.execute_reply.started": "2022-07-25T20:18:56.830588Z",
          "shell.execute_reply": "2022-07-25T20:19:10.388783Z"
        },
        "trusted": true,
        "colab": {
          "base_uri": "https://localhost:8080/"
        },
        "id": "kAAAl-hX42ZT",
        "outputId": "b7633d22-c68b-490a-ec26-0fcb1c889bb8"
      },
      "execution_count": null,
      "outputs": [
        {
          "output_type": "stream",
          "name": "stdout",
          "text": [
            "Looking in indexes: https://pypi.org/simple, https://us-python.pkg.dev/colab-wheels/public/simple/\n",
            "Requirement already satisfied: pymatreader in /usr/local/lib/python3.7/dist-packages (0.0.30)\n",
            "Requirement already satisfied: scipy!=1.7.0 in /usr/local/lib/python3.7/dist-packages (from pymatreader) (1.7.3)\n",
            "Requirement already satisfied: h5py in /usr/local/lib/python3.7/dist-packages (from pymatreader) (3.1.0)\n",
            "Requirement already satisfied: numpy in /usr/local/lib/python3.7/dist-packages (from pymatreader) (1.21.6)\n",
            "Requirement already satisfied: xmltodict in /usr/local/lib/python3.7/dist-packages (from pymatreader) (0.13.0)\n",
            "Requirement already satisfied: future in /usr/local/lib/python3.7/dist-packages (from pymatreader) (0.16.0)\n",
            "Requirement already satisfied: cached-property in /usr/local/lib/python3.7/dist-packages (from h5py->pymatreader) (1.5.2)\n"
          ]
        }
      ]
    },
    {
      "cell_type": "code",
      "source": [
        "from glob import glob\n",
        "import os\n",
        "import mne \n",
        "import pymatreader\n",
        "import numpy as np\n",
        "import pandas as pd\n",
        "import matplotlib.pyplot as plt"
      ],
      "metadata": {
        "execution": {
          "iopub.status.busy": "2022-07-25T20:19:10.393063Z",
          "iopub.execute_input": "2022-07-25T20:19:10.393541Z",
          "iopub.status.idle": "2022-07-25T20:19:12.145533Z",
          "shell.execute_reply.started": "2022-07-25T20:19:10.393493Z",
          "shell.execute_reply": "2022-07-25T20:19:12.144361Z"
        },
        "trusted": true,
        "id": "aDBQbYIy42ZU"
      },
      "execution_count": null,
      "outputs": []
    },
    {
      "cell_type": "code",
      "source": [
        "all_file_path_normal = glob('/content/drive/MyDrive/Comparison_Dataset/Normal/*.set')\n",
        "all_file_path_seizure = glob('/content/drive/MyDrive/Comparison_Dataset/Seizure/*.set')"
      ],
      "metadata": {
        "execution": {
          "iopub.status.busy": "2022-07-25T20:19:12.147905Z",
          "iopub.execute_input": "2022-07-25T20:19:12.148210Z",
          "iopub.status.idle": "2022-07-25T20:19:12.216717Z",
          "shell.execute_reply.started": "2022-07-25T20:19:12.148178Z",
          "shell.execute_reply": "2022-07-25T20:19:12.215339Z"
        },
        "trusted": true,
        "id": "yrB6lTKT42ZW"
      },
      "execution_count": null,
      "outputs": []
    },
    {
      "cell_type": "code",
      "source": [
        "print(len(all_file_path_normal), len(all_file_path_seizure))"
      ],
      "metadata": {
        "execution": {
          "iopub.status.busy": "2022-07-25T20:19:12.219013Z",
          "iopub.execute_input": "2022-07-25T20:19:12.219483Z",
          "iopub.status.idle": "2022-07-25T20:19:12.226463Z",
          "shell.execute_reply.started": "2022-07-25T20:19:12.219436Z",
          "shell.execute_reply": "2022-07-25T20:19:12.225263Z"
        },
        "trusted": true,
        "colab": {
          "base_uri": "https://localhost:8080/"
        },
        "id": "YbN-CY2z42ZX",
        "outputId": "f3cf9e7c-bc04-4c0a-9553-de15372054ec"
      },
      "execution_count": null,
      "outputs": [
        {
          "output_type": "stream",
          "name": "stdout",
          "text": [
            "51 59\n"
          ]
        }
      ]
    },
    {
      "cell_type": "code",
      "source": [
        "n_file_path_normal = [i for i  in all_file_path_normal if 'chb' in i.split('\\\\')[0]]\n",
        "n_file_path_seizure = [i for i  in all_file_path_seizure if 'chb' in i.split('\\\\')[0]]\n",
        "print(len(n_file_path_normal), len(n_file_path_seizure))"
      ],
      "metadata": {
        "execution": {
          "iopub.status.busy": "2022-07-25T20:19:12.229629Z",
          "iopub.execute_input": "2022-07-25T20:19:12.230269Z",
          "iopub.status.idle": "2022-07-25T20:19:12.239654Z",
          "shell.execute_reply.started": "2022-07-25T20:19:12.230218Z",
          "shell.execute_reply": "2022-07-25T20:19:12.238213Z"
        },
        "trusted": true,
        "colab": {
          "base_uri": "https://localhost:8080/"
        },
        "id": "7h6iq-oE42ZY",
        "outputId": "b8eab48f-79c8-461b-d334-324e2fe6fff2"
      },
      "execution_count": null,
      "outputs": [
        {
          "output_type": "stream",
          "name": "stdout",
          "text": [
            "51 59\n"
          ]
        }
      ]
    },
    {
      "cell_type": "code",
      "source": [
        "from google.colab import drive\n",
        "drive.mount('/content/drive')"
      ],
      "metadata": {
        "colab": {
          "base_uri": "https://localhost:8080/"
        },
        "id": "GPYAG2P35IDc",
        "outputId": "c8432a75-b640-46fc-8a40-76949c033e69"
      },
      "execution_count": null,
      "outputs": [
        {
          "output_type": "stream",
          "name": "stdout",
          "text": [
            "Drive already mounted at /content/drive; to attempt to forcibly remount, call drive.mount(\"/content/drive\", force_remount=True).\n"
          ]
        }
      ]
    },
    {
      "cell_type": "code",
      "source": [
        "def read_data(file_path):\n",
        "    data = mne.io.read_raw_eeglab(file_path, preload = True)\n",
        "    data.set_eeg_reference()\n",
        "    data.filter(l_freq = 0.5, h_freq = 70)\n",
        "    epochs = mne.make_fixed_length_epochs(data , duration = 5)\n",
        "    array = epochs.get_data()\n",
        "    return array"
      ],
      "metadata": {
        "execution": {
          "iopub.status.busy": "2022-07-25T20:19:12.241517Z",
          "iopub.execute_input": "2022-07-25T20:19:12.241886Z",
          "iopub.status.idle": "2022-07-25T20:19:12.249762Z",
          "shell.execute_reply.started": "2022-07-25T20:19:12.241846Z",
          "shell.execute_reply": "2022-07-25T20:19:12.248516Z"
        },
        "trusted": true,
        "id": "b5OghHSD42ZZ"
      },
      "execution_count": null,
      "outputs": []
    },
    {
      "cell_type": "code",
      "source": [
        "sample_data = read_data(n_file_path_normal[0])"
      ],
      "metadata": {
        "execution": {
          "iopub.status.busy": "2022-07-25T20:19:12.251235Z",
          "iopub.execute_input": "2022-07-25T20:19:12.251803Z",
          "iopub.status.idle": "2022-07-25T20:19:13.969407Z",
          "shell.execute_reply.started": "2022-07-25T20:19:12.251755Z",
          "shell.execute_reply": "2022-07-25T20:19:13.968224Z"
        },
        "trusted": true,
        "colab": {
          "base_uri": "https://localhost:8080/"
        },
        "id": "TKXYf2HK42Za",
        "outputId": "4f423185-e6c2-4a5d-f490-f546ae0f9950"
      },
      "execution_count": null,
      "outputs": [
        {
          "output_type": "stream",
          "name": "stdout",
          "text": [
            "Reading /content/drive/MyDrive/Comparison_Dataset/Normal/chbn1.fdt\n"
          ]
        },
        {
          "output_type": "stream",
          "name": "stderr",
          "text": [
            "<ipython-input-20-c7a064dc2830>:2: RuntimeWarning: Channel names are not unique, found duplicates for: {'T8-P8'}. Applying running numbers for duplicates.\n",
            "  data = mne.io.read_raw_eeglab(file_path, preload = True)\n"
          ]
        },
        {
          "output_type": "stream",
          "name": "stdout",
          "text": [
            "Reading 0 ... 10240  =      0.000 ...    40.000 secs...\n",
            "EEG channel type selected for re-referencing\n",
            "Applying average reference.\n",
            "Applying a custom ('EEG',) reference.\n",
            "Filtering raw data in 1 contiguous segment\n",
            "Setting up band-pass filter from 0.5 - 70 Hz\n",
            "\n",
            "FIR filter parameters\n",
            "---------------------\n",
            "Designing a one-pass, zero-phase, non-causal bandpass filter:\n",
            "- Windowed time-domain design (firwin) method\n",
            "- Hamming window with 0.0194 passband ripple and 53 dB stopband attenuation\n",
            "- Lower passband edge: 0.50\n",
            "- Lower transition bandwidth: 0.50 Hz (-6 dB cutoff frequency: 0.25 Hz)\n",
            "- Upper passband edge: 70.00 Hz\n",
            "- Upper transition bandwidth: 17.50 Hz (-6 dB cutoff frequency: 78.75 Hz)\n",
            "- Filter length: 1691 samples (6.605 sec)\n",
            "\n",
            "Not setting metadata\n",
            "8 matching events found\n",
            "No baseline correction applied\n",
            "0 projection items activated\n",
            "Using data from preloaded Raw for 8 events and 1280 original time points ...\n",
            "0 bad epochs dropped\n"
          ]
        }
      ]
    },
    {
      "cell_type": "code",
      "source": [
        "sample_data.shape"
      ],
      "metadata": {
        "execution": {
          "iopub.status.busy": "2022-07-25T20:19:13.971581Z",
          "iopub.execute_input": "2022-07-25T20:19:13.971910Z",
          "iopub.status.idle": "2022-07-25T20:19:13.985424Z",
          "shell.execute_reply.started": "2022-07-25T20:19:13.971879Z",
          "shell.execute_reply": "2022-07-25T20:19:13.983889Z"
        },
        "trusted": true,
        "colab": {
          "base_uri": "https://localhost:8080/"
        },
        "id": "SL-WhrgY42Zc",
        "outputId": "222e2e54-0c6e-4a0a-f8c5-0bfa588c55f6"
      },
      "execution_count": null,
      "outputs": [
        {
          "output_type": "execute_result",
          "data": {
            "text/plain": [
              "(8, 23, 1280)"
            ]
          },
          "metadata": {},
          "execution_count": 22
        }
      ]
    },
    {
      "cell_type": "code",
      "source": [
        "%%capture\n",
        "n_epochs_array_normal = [read_data(i) for i in n_file_path_normal]\n",
        "n_epochs_array_seizure = [read_data(i) for i in n_file_path_seizure]"
      ],
      "metadata": {
        "execution": {
          "iopub.status.busy": "2022-07-25T20:19:13.990125Z",
          "iopub.execute_input": "2022-07-25T20:19:13.990500Z",
          "iopub.status.idle": "2022-07-25T20:20:13.377370Z",
          "shell.execute_reply.started": "2022-07-25T20:19:13.990469Z",
          "shell.execute_reply": "2022-07-25T20:20:13.375868Z"
        },
        "trusted": true,
        "id": "Prt26VUP42Zd"
      },
      "execution_count": null,
      "outputs": []
    },
    {
      "cell_type": "code",
      "source": [
        "n_epochs_array_seizure[0].shape"
      ],
      "metadata": {
        "execution": {
          "iopub.status.busy": "2022-07-25T20:20:13.379232Z",
          "iopub.execute_input": "2022-07-25T20:20:13.379778Z",
          "iopub.status.idle": "2022-07-25T20:20:13.386672Z",
          "shell.execute_reply.started": "2022-07-25T20:20:13.379746Z",
          "shell.execute_reply": "2022-07-25T20:20:13.385407Z"
        },
        "trusted": true,
        "colab": {
          "base_uri": "https://localhost:8080/"
        },
        "id": "4-XzTKmQ42Ze",
        "outputId": "f6d7309c-3a54-425a-a493-75d7b0d00413"
      },
      "execution_count": null,
      "outputs": [
        {
          "output_type": "execute_result",
          "data": {
            "text/plain": [
              "(8, 23, 1280)"
            ]
          },
          "metadata": {},
          "execution_count": 24
        }
      ]
    },
    {
      "cell_type": "code",
      "source": [
        "n_epochs_labels_normal = [len(i)*[0] for i in n_epochs_array_normal]\n",
        "n_epochs_labels_seizure = [len(i)*[1] for i in n_epochs_array_seizure]\n",
        "print(len(n_epochs_array_normal), len(n_epochs_labels_seizure))"
      ],
      "metadata": {
        "execution": {
          "iopub.status.busy": "2022-07-25T20:20:13.388340Z",
          "iopub.execute_input": "2022-07-25T20:20:13.388684Z",
          "iopub.status.idle": "2022-07-25T20:20:13.398840Z",
          "shell.execute_reply.started": "2022-07-25T20:20:13.388652Z",
          "shell.execute_reply": "2022-07-25T20:20:13.397869Z"
        },
        "trusted": true,
        "colab": {
          "base_uri": "https://localhost:8080/"
        },
        "id": "cSalGSP-42Zf",
        "outputId": "0bbcf043-5593-496b-8166-7a450f9b1cb3"
      },
      "execution_count": null,
      "outputs": [
        {
          "output_type": "stream",
          "name": "stdout",
          "text": [
            "51 59\n"
          ]
        }
      ]
    },
    {
      "cell_type": "code",
      "source": [
        "data_list = n_epochs_array_normal + n_epochs_array_seizure\n",
        "label_list = n_epochs_labels_normal + n_epochs_labels_seizure"
      ],
      "metadata": {
        "execution": {
          "iopub.status.busy": "2022-07-25T20:20:13.400171Z",
          "iopub.execute_input": "2022-07-25T20:20:13.400714Z",
          "iopub.status.idle": "2022-07-25T20:20:13.410390Z",
          "shell.execute_reply.started": "2022-07-25T20:20:13.400682Z",
          "shell.execute_reply": "2022-07-25T20:20:13.409338Z"
        },
        "trusted": true,
        "id": "B-fLGI_E42Zf"
      },
      "execution_count": null,
      "outputs": []
    },
    {
      "cell_type": "code",
      "source": [
        "group_list = [[i]*len(j) for i, j in enumerate(data_list)]\n",
        "len(group_list)"
      ],
      "metadata": {
        "execution": {
          "iopub.status.busy": "2022-07-25T20:20:13.411804Z",
          "iopub.execute_input": "2022-07-25T20:20:13.412367Z",
          "iopub.status.idle": "2022-07-25T20:20:13.425619Z",
          "shell.execute_reply.started": "2022-07-25T20:20:13.412334Z",
          "shell.execute_reply": "2022-07-25T20:20:13.424291Z"
        },
        "trusted": true,
        "colab": {
          "base_uri": "https://localhost:8080/"
        },
        "id": "PL107zq_42Zg",
        "outputId": "1a4a7436-5eb8-4c09-820e-3a7be374b662"
      },
      "execution_count": null,
      "outputs": [
        {
          "output_type": "execute_result",
          "data": {
            "text/plain": [
              "110"
            ]
          },
          "metadata": {},
          "execution_count": 27
        }
      ]
    },
    {
      "cell_type": "code",
      "source": [
        "label_array = np.hstack(label_list)\n",
        "group_array = np.hstack(group_list)\n",
        "data_array = np.vstack(data_list)"
      ],
      "metadata": {
        "execution": {
          "iopub.status.busy": "2022-07-25T20:20:13.427923Z",
          "iopub.execute_input": "2022-07-25T20:20:13.429132Z",
          "iopub.status.idle": "2022-07-25T20:20:13.614860Z",
          "shell.execute_reply.started": "2022-07-25T20:20:13.429078Z",
          "shell.execute_reply": "2022-07-25T20:20:13.613289Z"
        },
        "trusted": true,
        "id": "LR062vbh42Zh"
      },
      "execution_count": null,
      "outputs": []
    },
    {
      "cell_type": "code",
      "source": [
        "print(data_array.shape, label_array.shape, group_array.shape)"
      ],
      "metadata": {
        "execution": {
          "iopub.status.busy": "2022-07-25T20:20:13.616497Z",
          "iopub.execute_input": "2022-07-25T20:20:13.616920Z",
          "iopub.status.idle": "2022-07-25T20:20:13.624075Z",
          "shell.execute_reply.started": "2022-07-25T20:20:13.616800Z",
          "shell.execute_reply": "2022-07-25T20:20:13.622562Z"
        },
        "trusted": true,
        "colab": {
          "base_uri": "https://localhost:8080/"
        },
        "id": "k7D-9Y9I42Zh",
        "outputId": "6b47dc2b-59d0-494b-de56-eecc49c74f76"
      },
      "execution_count": null,
      "outputs": [
        {
          "output_type": "stream",
          "name": "stdout",
          "text": [
            "(2054, 23, 1280) (2054,) (2054,)\n"
          ]
        }
      ]
    },
    {
      "cell_type": "code",
      "source": [
        "df = pd.DataFrame.from_records(data_array)"
      ],
      "metadata": {
        "execution": {
          "iopub.status.busy": "2022-07-25T20:20:13.625754Z",
          "iopub.execute_input": "2022-07-25T20:20:13.626475Z",
          "iopub.status.idle": "2022-07-25T20:20:13.648338Z",
          "shell.execute_reply.started": "2022-07-25T20:20:13.626441Z",
          "shell.execute_reply": "2022-07-25T20:20:13.647362Z"
        },
        "trusted": true,
        "id": "L6d__Uga42Zi"
      },
      "execution_count": null,
      "outputs": []
    },
    {
      "cell_type": "code",
      "source": [
        "df.shape"
      ],
      "metadata": {
        "execution": {
          "iopub.status.busy": "2022-07-25T20:20:13.650014Z",
          "iopub.execute_input": "2022-07-25T20:20:13.650345Z",
          "iopub.status.idle": "2022-07-25T20:20:13.658549Z",
          "shell.execute_reply.started": "2022-07-25T20:20:13.650315Z",
          "shell.execute_reply": "2022-07-25T20:20:13.657570Z"
        },
        "trusted": true,
        "colab": {
          "base_uri": "https://localhost:8080/"
        },
        "id": "Syk-zT9G42Zi",
        "outputId": "3593c086-e8b2-484f-c92d-3fc77bbe6f1a"
      },
      "execution_count": null,
      "outputs": [
        {
          "output_type": "execute_result",
          "data": {
            "text/plain": [
              "(2054, 23)"
            ]
          },
          "metadata": {},
          "execution_count": 32
        }
      ]
    },
    {
      "cell_type": "code",
      "source": [
        "df[:3]"
      ],
      "metadata": {
        "execution": {
          "iopub.status.busy": "2022-07-25T20:20:13.659928Z",
          "iopub.execute_input": "2022-07-25T20:20:13.660261Z",
          "iopub.status.idle": "2022-07-25T20:20:13.782680Z",
          "shell.execute_reply.started": "2022-07-25T20:20:13.660230Z",
          "shell.execute_reply": "2022-07-25T20:20:13.781269Z"
        },
        "trusted": true,
        "colab": {
          "base_uri": "https://localhost:8080/",
          "height": 393
        },
        "id": "NJ2xfuvF42Zj",
        "outputId": "7b2dc041-a874-40ba-ca27-a1eee4c5cb36"
      },
      "execution_count": null,
      "outputs": [
        {
          "output_type": "execute_result",
          "data": {
            "text/plain": [
              "                                                  0   \\\n",
              "0  [0.0, 2.6514332058844882e-05, 3.22260336938891...   \n",
              "1  [-2.1461134253210318e-05, -2.0762949376289276e...   \n",
              "2  [4.4585391055452717e-05, 4.867771395673363e-05...   \n",
              "\n",
              "                                                  1   \\\n",
              "0  [-1.6940658945086007e-21, -2.5073138643362218e...   \n",
              "1  [3.8048802592001423e-07, -4.942813513021333e-0...   \n",
              "2  [-4.8192297946277664e-05, -4.8781297172731734e...   \n",
              "\n",
              "                                                  2   \\\n",
              "0  [1.0164395367051604e-20, 1.3757020834860174e-0...   \n",
              "1  [7.453729457257066e-06, 3.5419936721293577e-06...   \n",
              "2  [-1.8200869379880252e-05, -2.235911937939711e-...   \n",
              "\n",
              "                                                  3   \\\n",
              "0  [-6.776263578034403e-21, 2.7070303204317542e-0...   \n",
              "1  [5.24874355487215e-06, 3.2307754597576977e-07,...   \n",
              "2  [-3.2115836454801327e-06, -4.076419213738372e-...   \n",
              "\n",
              "                                                  4   \\\n",
              "0  [3.049318610115481e-20, 1.1138744230983685e-05...   \n",
              "1  [-2.0602728230255026e-05, -2.655494821497807e-...   \n",
              "2  [1.7668207790209438e-05, 2.6232232199970916e-0...   \n",
              "\n",
              "                                                  5   \\\n",
              "0  [-9.317362419797304e-21, 6.697083865793598e-06...   \n",
              "1  [1.584027556918459e-05, 1.3731648383467487e-05...   \n",
              "2  [-1.987449520147114e-05, -1.6037065790558984e-...   \n",
              "\n",
              "                                                  6   \\\n",
              "0  [-1.2705494208814505e-21, -2.4076250696195717e...   \n",
              "1  [6.990529638212117e-06, 4.9679299752038956e-06...   \n",
              "2  [-4.621876476282789e-05, -4.92874051987853e-05...   \n",
              "\n",
              "                                                  7   \\\n",
              "0  [2.202285662861181e-20, 2.4283864258037506e-05...   \n",
              "1  [-1.023523666613407e-05, -1.4099547796429032e-...   \n",
              "2  [2.3780564222968307e-05, 1.2927120492610135e-0...   \n",
              "\n",
              "                                                  8   \\\n",
              "0  [8.470329472543003e-21, 2.6135060698939086e-05...   \n",
              "1  [-6.212269807596306e-05, -6.88160544363356e-05...   \n",
              "2  [-1.8761157599831025e-05, -4.941919214601814e-...   \n",
              "\n",
              "                                                  9   ...  \\\n",
              "0  [-2.498747194400186e-20, 5.1166747302417563e-0...  ...   \n",
              "1  [4.229076060676051e-05, 4.828088850953827e-05,...  ...   \n",
              "2  [5.725048266945156e-05, 6.968941618954339e-05,...  ...   \n",
              "\n",
              "                                                  13  \\\n",
              "0  [-8.470329472543003e-21, 0.0001075122013811500...   \n",
              "1  [3.750938911159083e-05, 4.004917057791286e-05,...   \n",
              "2  [3.4055793131139234e-05, 3.6241589589528946e-0...   \n",
              "\n",
              "                                                  14  \\\n",
              "0  [-1.0164395367051604e-20, 6.48054578268139e-05...   \n",
              "1  [1.010571063239818e-05, 5.695628498740311e-06,...   \n",
              "2  [3.7726037754763655e-05, 3.249453638933958e-05...   \n",
              "\n",
              "                                                  15  \\\n",
              "0  [1.6940658945086007e-20, -0.000152272649553148...   \n",
              "1  [-2.426479489840244e-05, -9.461009783498853e-0...   \n",
              "2  [-4.927965071053791e-06, -7.831398452569496e-0...   \n",
              "\n",
              "                                                  16  \\\n",
              "0  [-1.0164395367051604e-20, 2.7061288213721542e-...   \n",
              "1  [2.4654309097598162e-05, 2.9378954793625387e-0...   \n",
              "2  [4.920649242429471e-05, 6.952010251566944e-05,...   \n",
              "\n",
              "                                                  17  \\\n",
              "0  [-1.1011428314305904e-20, -6.731603142224687e-...   \n",
              "1  [2.5330612290221708e-05, 2.7051069087633044e-0...   \n",
              "2  [-7.062338255521978e-05, -7.902791486427444e-0...   \n",
              "\n",
              "                                                  18  \\\n",
              "0  [-3.3881317890172014e-21, 6.7624893065937345e-...   \n",
              "1  [-8.08856701188487e-06, -8.181574451779146e-06...   \n",
              "2  [-2.42052603727796e-07, -3.888724913201463e-06...   \n",
              "\n",
              "                                                  19  \\\n",
              "0  [-5.082197683525802e-21, -9.248628330336092e-0...   \n",
              "1  [-1.7383407096619737e-05, -1.1171702129721343e...   \n",
              "2  [2.1909375343655347e-05, 1.487393290393401e-05...   \n",
              "\n",
              "                                                  20  \\\n",
              "0  [6.776263578034403e-21, 1.9077514164647694e-05...   \n",
              "1  [-3.0664183738531193e-06, -1.3435994112907263e...   \n",
              "2  [-6.248019486346058e-05, -6.609697580877147e-0...   \n",
              "\n",
              "                                                  21  \\\n",
              "0  [-1.3552527156068805e-20, 4.674706891286839e-0...   \n",
              "1  [1.905183822956016e-05, 1.5092774488595644e-05...   \n",
              "2  [-2.1854767347408702e-05, -2.3506206446744494e...   \n",
              "\n",
              "                                                  22  \n",
              "0  [-1.0164395367051604e-20, 6.48054578268139e-05...  \n",
              "1  [1.010571063239818e-05, 5.695628498740311e-06,...  \n",
              "2  [3.7726037754763655e-05, 3.249453638933958e-05...  \n",
              "\n",
              "[3 rows x 23 columns]"
            ],
            "text/html": [
              "\n",
              "  <div id=\"df-074fd86b-a007-425b-890b-dadd2459177b\">\n",
              "    <div class=\"colab-df-container\">\n",
              "      <div>\n",
              "<style scoped>\n",
              "    .dataframe tbody tr th:only-of-type {\n",
              "        vertical-align: middle;\n",
              "    }\n",
              "\n",
              "    .dataframe tbody tr th {\n",
              "        vertical-align: top;\n",
              "    }\n",
              "\n",
              "    .dataframe thead th {\n",
              "        text-align: right;\n",
              "    }\n",
              "</style>\n",
              "<table border=\"1\" class=\"dataframe\">\n",
              "  <thead>\n",
              "    <tr style=\"text-align: right;\">\n",
              "      <th></th>\n",
              "      <th>0</th>\n",
              "      <th>1</th>\n",
              "      <th>2</th>\n",
              "      <th>3</th>\n",
              "      <th>4</th>\n",
              "      <th>5</th>\n",
              "      <th>6</th>\n",
              "      <th>7</th>\n",
              "      <th>8</th>\n",
              "      <th>9</th>\n",
              "      <th>...</th>\n",
              "      <th>13</th>\n",
              "      <th>14</th>\n",
              "      <th>15</th>\n",
              "      <th>16</th>\n",
              "      <th>17</th>\n",
              "      <th>18</th>\n",
              "      <th>19</th>\n",
              "      <th>20</th>\n",
              "      <th>21</th>\n",
              "      <th>22</th>\n",
              "    </tr>\n",
              "  </thead>\n",
              "  <tbody>\n",
              "    <tr>\n",
              "      <th>0</th>\n",
              "      <td>[0.0, 2.6514332058844882e-05, 3.22260336938891...</td>\n",
              "      <td>[-1.6940658945086007e-21, -2.5073138643362218e...</td>\n",
              "      <td>[1.0164395367051604e-20, 1.3757020834860174e-0...</td>\n",
              "      <td>[-6.776263578034403e-21, 2.7070303204317542e-0...</td>\n",
              "      <td>[3.049318610115481e-20, 1.1138744230983685e-05...</td>\n",
              "      <td>[-9.317362419797304e-21, 6.697083865793598e-06...</td>\n",
              "      <td>[-1.2705494208814505e-21, -2.4076250696195717e...</td>\n",
              "      <td>[2.202285662861181e-20, 2.4283864258037506e-05...</td>\n",
              "      <td>[8.470329472543003e-21, 2.6135060698939086e-05...</td>\n",
              "      <td>[-2.498747194400186e-20, 5.1166747302417563e-0...</td>\n",
              "      <td>...</td>\n",
              "      <td>[-8.470329472543003e-21, 0.0001075122013811500...</td>\n",
              "      <td>[-1.0164395367051604e-20, 6.48054578268139e-05...</td>\n",
              "      <td>[1.6940658945086007e-20, -0.000152272649553148...</td>\n",
              "      <td>[-1.0164395367051604e-20, 2.7061288213721542e-...</td>\n",
              "      <td>[-1.1011428314305904e-20, -6.731603142224687e-...</td>\n",
              "      <td>[-3.3881317890172014e-21, 6.7624893065937345e-...</td>\n",
              "      <td>[-5.082197683525802e-21, -9.248628330336092e-0...</td>\n",
              "      <td>[6.776263578034403e-21, 1.9077514164647694e-05...</td>\n",
              "      <td>[-1.3552527156068805e-20, 4.674706891286839e-0...</td>\n",
              "      <td>[-1.0164395367051604e-20, 6.48054578268139e-05...</td>\n",
              "    </tr>\n",
              "    <tr>\n",
              "      <th>1</th>\n",
              "      <td>[-2.1461134253210318e-05, -2.0762949376289276e...</td>\n",
              "      <td>[3.8048802592001423e-07, -4.942813513021333e-0...</td>\n",
              "      <td>[7.453729457257066e-06, 3.5419936721293577e-06...</td>\n",
              "      <td>[5.24874355487215e-06, 3.2307754597576977e-07,...</td>\n",
              "      <td>[-2.0602728230255026e-05, -2.655494821497807e-...</td>\n",
              "      <td>[1.584027556918459e-05, 1.3731648383467487e-05...</td>\n",
              "      <td>[6.990529638212117e-06, 4.9679299752038956e-06...</td>\n",
              "      <td>[-1.023523666613407e-05, -1.4099547796429032e-...</td>\n",
              "      <td>[-6.212269807596306e-05, -6.88160544363356e-05...</td>\n",
              "      <td>[4.229076060676051e-05, 4.828088850953827e-05,...</td>\n",
              "      <td>...</td>\n",
              "      <td>[3.750938911159083e-05, 4.004917057791286e-05,...</td>\n",
              "      <td>[1.010571063239818e-05, 5.695628498740311e-06,...</td>\n",
              "      <td>[-2.426479489840244e-05, -9.461009783498853e-0...</td>\n",
              "      <td>[2.4654309097598162e-05, 2.9378954793625387e-0...</td>\n",
              "      <td>[2.5330612290221708e-05, 2.7051069087633044e-0...</td>\n",
              "      <td>[-8.08856701188487e-06, -8.181574451779146e-06...</td>\n",
              "      <td>[-1.7383407096619737e-05, -1.1171702129721343e...</td>\n",
              "      <td>[-3.0664183738531193e-06, -1.3435994112907263e...</td>\n",
              "      <td>[1.905183822956016e-05, 1.5092774488595644e-05...</td>\n",
              "      <td>[1.010571063239818e-05, 5.695628498740311e-06,...</td>\n",
              "    </tr>\n",
              "    <tr>\n",
              "      <th>2</th>\n",
              "      <td>[4.4585391055452717e-05, 4.867771395673363e-05...</td>\n",
              "      <td>[-4.8192297946277664e-05, -4.8781297172731734e...</td>\n",
              "      <td>[-1.8200869379880252e-05, -2.235911937939711e-...</td>\n",
              "      <td>[-3.2115836454801327e-06, -4.076419213738372e-...</td>\n",
              "      <td>[1.7668207790209438e-05, 2.6232232199970916e-0...</td>\n",
              "      <td>[-1.987449520147114e-05, -1.6037065790558984e-...</td>\n",
              "      <td>[-4.621876476282789e-05, -4.92874051987853e-05...</td>\n",
              "      <td>[2.3780564222968307e-05, 1.2927120492610135e-0...</td>\n",
              "      <td>[-1.8761157599831025e-05, -4.941919214601814e-...</td>\n",
              "      <td>[5.725048266945156e-05, 6.968941618954339e-05,...</td>\n",
              "      <td>...</td>\n",
              "      <td>[3.4055793131139234e-05, 3.6241589589528946e-0...</td>\n",
              "      <td>[3.7726037754763655e-05, 3.249453638933958e-05...</td>\n",
              "      <td>[-4.927965071053791e-06, -7.831398452569496e-0...</td>\n",
              "      <td>[4.920649242429471e-05, 6.952010251566944e-05,...</td>\n",
              "      <td>[-7.062338255521978e-05, -7.902791486427444e-0...</td>\n",
              "      <td>[-2.42052603727796e-07, -3.888724913201463e-06...</td>\n",
              "      <td>[2.1909375343655347e-05, 1.487393290393401e-05...</td>\n",
              "      <td>[-6.248019486346058e-05, -6.609697580877147e-0...</td>\n",
              "      <td>[-2.1854767347408702e-05, -2.3506206446744494e...</td>\n",
              "      <td>[3.7726037754763655e-05, 3.249453638933958e-05...</td>\n",
              "    </tr>\n",
              "  </tbody>\n",
              "</table>\n",
              "<p>3 rows × 23 columns</p>\n",
              "</div>\n",
              "      <button class=\"colab-df-convert\" onclick=\"convertToInteractive('df-074fd86b-a007-425b-890b-dadd2459177b')\"\n",
              "              title=\"Convert this dataframe to an interactive table.\"\n",
              "              style=\"display:none;\">\n",
              "        \n",
              "  <svg xmlns=\"http://www.w3.org/2000/svg\" height=\"24px\"viewBox=\"0 0 24 24\"\n",
              "       width=\"24px\">\n",
              "    <path d=\"M0 0h24v24H0V0z\" fill=\"none\"/>\n",
              "    <path d=\"M18.56 5.44l.94 2.06.94-2.06 2.06-.94-2.06-.94-.94-2.06-.94 2.06-2.06.94zm-11 1L8.5 8.5l.94-2.06 2.06-.94-2.06-.94L8.5 2.5l-.94 2.06-2.06.94zm10 10l.94 2.06.94-2.06 2.06-.94-2.06-.94-.94-2.06-.94 2.06-2.06.94z\"/><path d=\"M17.41 7.96l-1.37-1.37c-.4-.4-.92-.59-1.43-.59-.52 0-1.04.2-1.43.59L10.3 9.45l-7.72 7.72c-.78.78-.78 2.05 0 2.83L4 21.41c.39.39.9.59 1.41.59.51 0 1.02-.2 1.41-.59l7.78-7.78 2.81-2.81c.8-.78.8-2.07 0-2.86zM5.41 20L4 18.59l7.72-7.72 1.47 1.35L5.41 20z\"/>\n",
              "  </svg>\n",
              "      </button>\n",
              "      \n",
              "  <style>\n",
              "    .colab-df-container {\n",
              "      display:flex;\n",
              "      flex-wrap:wrap;\n",
              "      gap: 12px;\n",
              "    }\n",
              "\n",
              "    .colab-df-convert {\n",
              "      background-color: #E8F0FE;\n",
              "      border: none;\n",
              "      border-radius: 50%;\n",
              "      cursor: pointer;\n",
              "      display: none;\n",
              "      fill: #1967D2;\n",
              "      height: 32px;\n",
              "      padding: 0 0 0 0;\n",
              "      width: 32px;\n",
              "    }\n",
              "\n",
              "    .colab-df-convert:hover {\n",
              "      background-color: #E2EBFA;\n",
              "      box-shadow: 0px 1px 2px rgba(60, 64, 67, 0.3), 0px 1px 3px 1px rgba(60, 64, 67, 0.15);\n",
              "      fill: #174EA6;\n",
              "    }\n",
              "\n",
              "    [theme=dark] .colab-df-convert {\n",
              "      background-color: #3B4455;\n",
              "      fill: #D2E3FC;\n",
              "    }\n",
              "\n",
              "    [theme=dark] .colab-df-convert:hover {\n",
              "      background-color: #434B5C;\n",
              "      box-shadow: 0px 1px 3px 1px rgba(0, 0, 0, 0.15);\n",
              "      filter: drop-shadow(0px 1px 2px rgba(0, 0, 0, 0.3));\n",
              "      fill: #FFFFFF;\n",
              "    }\n",
              "  </style>\n",
              "\n",
              "      <script>\n",
              "        const buttonEl =\n",
              "          document.querySelector('#df-074fd86b-a007-425b-890b-dadd2459177b button.colab-df-convert');\n",
              "        buttonEl.style.display =\n",
              "          google.colab.kernel.accessAllowed ? 'block' : 'none';\n",
              "\n",
              "        async function convertToInteractive(key) {\n",
              "          const element = document.querySelector('#df-074fd86b-a007-425b-890b-dadd2459177b');\n",
              "          const dataTable =\n",
              "            await google.colab.kernel.invokeFunction('convertToInteractive',\n",
              "                                                     [key], {});\n",
              "          if (!dataTable) return;\n",
              "\n",
              "          const docLinkHtml = 'Like what you see? Visit the ' +\n",
              "            '<a target=\"_blank\" href=https://colab.research.google.com/notebooks/data_table.ipynb>data table notebook</a>'\n",
              "            + ' to learn more about interactive tables.';\n",
              "          element.innerHTML = '';\n",
              "          dataTable['output_type'] = 'display_data';\n",
              "          await google.colab.output.renderOutput(dataTable, element);\n",
              "          const docLink = document.createElement('div');\n",
              "          docLink.innerHTML = docLinkHtml;\n",
              "          element.appendChild(docLink);\n",
              "        }\n",
              "      </script>\n",
              "    </div>\n",
              "  </div>\n",
              "  "
            ]
          },
          "metadata": {},
          "execution_count": 33
        }
      ]
    },
    {
      "cell_type": "code",
      "source": [
        "from scipy import stats"
      ],
      "metadata": {
        "execution": {
          "iopub.status.busy": "2022-07-25T20:20:13.784426Z",
          "iopub.execute_input": "2022-07-25T20:20:13.784767Z",
          "iopub.status.idle": "2022-07-25T20:20:13.790912Z",
          "shell.execute_reply.started": "2022-07-25T20:20:13.784737Z",
          "shell.execute_reply": "2022-07-25T20:20:13.789953Z"
        },
        "trusted": true,
        "id": "lRMjwVWh42Zj"
      },
      "execution_count": null,
      "outputs": []
    },
    {
      "cell_type": "code",
      "source": [
        "def mean(x):\n",
        "    return np.mean(x ,axis = -1)\n",
        "\n",
        "def var(x):\n",
        "    return np.var(x ,axis = -1)\n",
        "    \n",
        "def skewness(x):\n",
        "    return stats.skew(x, axis = -1)\n",
        "\n",
        "def kurtosis(x):\n",
        "    return stats.kurtosis(x, axis = -1)\n",
        "\n",
        "def concatenate_features(x):\n",
        "                   return np.concatenate((mean(x), var(x),skewness(x), kurtosis(x)), axis = -1)\n"
      ],
      "metadata": {
        "execution": {
          "iopub.status.busy": "2022-07-25T20:20:13.792067Z",
          "iopub.execute_input": "2022-07-25T20:20:13.793207Z",
          "iopub.status.idle": "2022-07-25T20:20:13.805421Z",
          "shell.execute_reply.started": "2022-07-25T20:20:13.793131Z",
          "shell.execute_reply": "2022-07-25T20:20:13.804244Z"
        },
        "trusted": true,
        "id": "ldTRSoi242Zk"
      },
      "execution_count": null,
      "outputs": []
    },
    {
      "cell_type": "code",
      "source": [
        "features  = []\n",
        "for d in data_array:\n",
        "    features.append(concatenate_features(d))"
      ],
      "metadata": {
        "execution": {
          "iopub.status.busy": "2022-07-25T20:20:13.806624Z",
          "iopub.execute_input": "2022-07-25T20:20:13.807644Z",
          "iopub.status.idle": "2022-07-25T20:20:15.328254Z",
          "shell.execute_reply.started": "2022-07-25T20:20:13.807604Z",
          "shell.execute_reply": "2022-07-25T20:20:15.326872Z"
        },
        "trusted": true,
        "id": "S04Wlqbu42Zl"
      },
      "execution_count": null,
      "outputs": []
    },
    {
      "cell_type": "code",
      "source": [
        "features_array = np.array(features)\n",
        "features_array.shape"
      ],
      "metadata": {
        "execution": {
          "iopub.status.busy": "2022-07-25T20:20:15.329675Z",
          "iopub.execute_input": "2022-07-25T20:20:15.329994Z",
          "iopub.status.idle": "2022-07-25T20:20:15.340673Z",
          "shell.execute_reply.started": "2022-07-25T20:20:15.329964Z",
          "shell.execute_reply": "2022-07-25T20:20:15.339215Z"
        },
        "trusted": true,
        "colab": {
          "base_uri": "https://localhost:8080/"
        },
        "id": "KDaVtkTb42Zl",
        "outputId": "a22b816c-86fc-4a9f-f224-4f30d0ecb442"
      },
      "execution_count": null,
      "outputs": [
        {
          "output_type": "execute_result",
          "data": {
            "text/plain": [
              "(2054, 92)"
            ]
          },
          "metadata": {},
          "execution_count": 37
        }
      ]
    },
    {
      "cell_type": "code",
      "source": [
        "ft = pd.DataFrame(features_array)\n",
        "lb = pd.DataFrame(label_array)"
      ],
      "metadata": {
        "execution": {
          "iopub.status.busy": "2022-07-25T20:20:15.342122Z",
          "iopub.execute_input": "2022-07-25T20:20:15.343455Z",
          "iopub.status.idle": "2022-07-25T20:20:15.350148Z",
          "shell.execute_reply.started": "2022-07-25T20:20:15.343417Z",
          "shell.execute_reply": "2022-07-25T20:20:15.348879Z"
        },
        "trusted": true,
        "id": "da5Yw0GN42Zm"
      },
      "execution_count": null,
      "outputs": []
    },
    {
      "cell_type": "code",
      "source": [
        "ft.shape , lb.shape"
      ],
      "metadata": {
        "execution": {
          "iopub.status.busy": "2022-07-25T20:20:15.351503Z",
          "iopub.execute_input": "2022-07-25T20:20:15.351919Z",
          "iopub.status.idle": "2022-07-25T20:20:15.363022Z",
          "shell.execute_reply.started": "2022-07-25T20:20:15.351888Z",
          "shell.execute_reply": "2022-07-25T20:20:15.362082Z"
        },
        "trusted": true,
        "colab": {
          "base_uri": "https://localhost:8080/"
        },
        "id": "Duk7s9cb42Zm",
        "outputId": "6be42bf5-ab5f-45e5-d4a5-7f0bf2cc82b4"
      },
      "execution_count": null,
      "outputs": [
        {
          "output_type": "execute_result",
          "data": {
            "text/plain": [
              "((2054, 92), (2054, 1))"
            ]
          },
          "metadata": {},
          "execution_count": 39
        }
      ]
    },
    {
      "cell_type": "code",
      "source": [
        "ft.to_csv('features_array.csv')"
      ],
      "metadata": {
        "execution": {
          "iopub.status.busy": "2022-07-25T20:20:15.364270Z",
          "iopub.execute_input": "2022-07-25T20:20:15.365361Z",
          "iopub.status.idle": "2022-07-25T20:20:15.688264Z",
          "shell.execute_reply.started": "2022-07-25T20:20:15.365323Z",
          "shell.execute_reply": "2022-07-25T20:20:15.687023Z"
        },
        "trusted": true,
        "id": "QQE0zWz242Zn"
      },
      "execution_count": null,
      "outputs": []
    },
    {
      "cell_type": "code",
      "source": [
        "lb.to_csv('label_array.csv')"
      ],
      "metadata": {
        "execution": {
          "iopub.status.busy": "2022-07-25T20:20:15.689641Z",
          "iopub.execute_input": "2022-07-25T20:20:15.690030Z",
          "iopub.status.idle": "2022-07-25T20:20:15.698861Z",
          "shell.execute_reply.started": "2022-07-25T20:20:15.689995Z",
          "shell.execute_reply": "2022-07-25T20:20:15.697478Z"
        },
        "trusted": true,
        "id": "8lWor0FD42Zn"
      },
      "execution_count": null,
      "outputs": []
    },
    {
      "cell_type": "code",
      "source": [
        "import pandas as pd\n",
        "import numpy as np"
      ],
      "metadata": {
        "execution": {
          "iopub.status.busy": "2022-07-25T20:20:15.706957Z",
          "iopub.execute_input": "2022-07-25T20:20:15.707383Z",
          "iopub.status.idle": "2022-07-25T20:20:15.712629Z",
          "shell.execute_reply.started": "2022-07-25T20:20:15.707350Z",
          "shell.execute_reply": "2022-07-25T20:20:15.711301Z"
        },
        "trusted": true,
        "id": "djAYNOZl42Zn"
      },
      "execution_count": null,
      "outputs": []
    },
    {
      "cell_type": "code",
      "source": [
        "dataset = pd.read_csv('/content/f.csv')\n",
        "dataset.head()"
      ],
      "metadata": {
        "execution": {
          "iopub.status.busy": "2022-07-25T20:20:15.714131Z",
          "iopub.execute_input": "2022-07-25T20:20:15.714479Z",
          "iopub.status.idle": "2022-07-25T20:20:15.815768Z",
          "shell.execute_reply.started": "2022-07-25T20:20:15.714447Z",
          "shell.execute_reply": "2022-07-25T20:20:15.814394Z"
        },
        "trusted": true,
        "id": "CRfQy2FI42Zo",
        "colab": {
          "base_uri": "https://localhost:8080/",
          "height": 386
        },
        "outputId": "2aa97548-01fb-4602-a6a6-4e91bf9ff605"
      },
      "execution_count": null,
      "outputs": [
        {
          "output_type": "execute_result",
          "data": {
            "text/plain": [
              "              0             1             2             3             4  \\\n",
              "0  3.480000e-06 -2.760000e-06  1.710000e-06  3.530000e-08  1.550000e-06   \n",
              "1  3.850000e-07  2.760000e-07  1.170000e-06 -6.200000e-07  1.410000e-06   \n",
              "2 -1.060000e-06 -1.090000e-06 -2.720000e-06  1.330000e-06 -1.730000e-06   \n",
              "3  1.000000e-06 -1.720000e-08  9.620000e-07 -2.600000e-07  6.230000e-07   \n",
              "4 -9.610000e-07  9.080000e-07  7.670000e-07 -3.810000e-07 -8.660000e-07   \n",
              "\n",
              "              5             6             7             8             9  ...  \\\n",
              "0  1.220000e-06 -3.440000e-06  3.130000e-06  4.860000e-06  7.440000e-06  ...   \n",
              "1  1.830000e-07 -4.680000e-07  1.560000e-07 -5.780000e-08 -9.860000e-07  ...   \n",
              "2 -2.090000e-06 -9.520000e-08  3.260000e-07 -1.590000e-06 -1.980000e-07  ...   \n",
              "3  3.910000e-08  4.130000e-07  6.030000e-07  6.360000e-07 -2.670000e-07  ...   \n",
              "4  2.990000e-06  1.950000e-07 -1.950000e-06  2.100000e-07  2.220000e-06  ...   \n",
              "\n",
              "         83        84        85        86        87        88        89  \\\n",
              "0  0.512859  4.090252  0.690657 -0.195263 -0.191765 -0.058543 -0.305525   \n",
              "1  0.331038 -0.088255  1.931439  0.339002  1.151491 -0.118454  0.681477   \n",
              "2  0.519422  0.600810 -0.210264  0.323296  0.227549  0.190816 -0.394961   \n",
              "3  0.295171  0.107639 -0.631112  0.059548 -0.226677 -0.057734  0.163947   \n",
              "4 -0.547782  0.408515  1.145653  0.908620  0.099177  0.214179  0.229707   \n",
              "\n",
              "         90        91  92  \n",
              "0  0.951704  0.512859   0  \n",
              "1  0.207673  0.331038   0  \n",
              "2 -0.375067  0.519422   0  \n",
              "3  0.448646  0.295171   0  \n",
              "4  0.429120 -0.547782   0  \n",
              "\n",
              "[5 rows x 93 columns]"
            ],
            "text/html": [
              "\n",
              "  <div id=\"df-2afefa34-ee18-486d-8881-ed277a05954b\">\n",
              "    <div class=\"colab-df-container\">\n",
              "      <div>\n",
              "<style scoped>\n",
              "    .dataframe tbody tr th:only-of-type {\n",
              "        vertical-align: middle;\n",
              "    }\n",
              "\n",
              "    .dataframe tbody tr th {\n",
              "        vertical-align: top;\n",
              "    }\n",
              "\n",
              "    .dataframe thead th {\n",
              "        text-align: right;\n",
              "    }\n",
              "</style>\n",
              "<table border=\"1\" class=\"dataframe\">\n",
              "  <thead>\n",
              "    <tr style=\"text-align: right;\">\n",
              "      <th></th>\n",
              "      <th>0</th>\n",
              "      <th>1</th>\n",
              "      <th>2</th>\n",
              "      <th>3</th>\n",
              "      <th>4</th>\n",
              "      <th>5</th>\n",
              "      <th>6</th>\n",
              "      <th>7</th>\n",
              "      <th>8</th>\n",
              "      <th>9</th>\n",
              "      <th>...</th>\n",
              "      <th>83</th>\n",
              "      <th>84</th>\n",
              "      <th>85</th>\n",
              "      <th>86</th>\n",
              "      <th>87</th>\n",
              "      <th>88</th>\n",
              "      <th>89</th>\n",
              "      <th>90</th>\n",
              "      <th>91</th>\n",
              "      <th>92</th>\n",
              "    </tr>\n",
              "  </thead>\n",
              "  <tbody>\n",
              "    <tr>\n",
              "      <th>0</th>\n",
              "      <td>3.480000e-06</td>\n",
              "      <td>-2.760000e-06</td>\n",
              "      <td>1.710000e-06</td>\n",
              "      <td>3.530000e-08</td>\n",
              "      <td>1.550000e-06</td>\n",
              "      <td>1.220000e-06</td>\n",
              "      <td>-3.440000e-06</td>\n",
              "      <td>3.130000e-06</td>\n",
              "      <td>4.860000e-06</td>\n",
              "      <td>7.440000e-06</td>\n",
              "      <td>...</td>\n",
              "      <td>0.512859</td>\n",
              "      <td>4.090252</td>\n",
              "      <td>0.690657</td>\n",
              "      <td>-0.195263</td>\n",
              "      <td>-0.191765</td>\n",
              "      <td>-0.058543</td>\n",
              "      <td>-0.305525</td>\n",
              "      <td>0.951704</td>\n",
              "      <td>0.512859</td>\n",
              "      <td>0</td>\n",
              "    </tr>\n",
              "    <tr>\n",
              "      <th>1</th>\n",
              "      <td>3.850000e-07</td>\n",
              "      <td>2.760000e-07</td>\n",
              "      <td>1.170000e-06</td>\n",
              "      <td>-6.200000e-07</td>\n",
              "      <td>1.410000e-06</td>\n",
              "      <td>1.830000e-07</td>\n",
              "      <td>-4.680000e-07</td>\n",
              "      <td>1.560000e-07</td>\n",
              "      <td>-5.780000e-08</td>\n",
              "      <td>-9.860000e-07</td>\n",
              "      <td>...</td>\n",
              "      <td>0.331038</td>\n",
              "      <td>-0.088255</td>\n",
              "      <td>1.931439</td>\n",
              "      <td>0.339002</td>\n",
              "      <td>1.151491</td>\n",
              "      <td>-0.118454</td>\n",
              "      <td>0.681477</td>\n",
              "      <td>0.207673</td>\n",
              "      <td>0.331038</td>\n",
              "      <td>0</td>\n",
              "    </tr>\n",
              "    <tr>\n",
              "      <th>2</th>\n",
              "      <td>-1.060000e-06</td>\n",
              "      <td>-1.090000e-06</td>\n",
              "      <td>-2.720000e-06</td>\n",
              "      <td>1.330000e-06</td>\n",
              "      <td>-1.730000e-06</td>\n",
              "      <td>-2.090000e-06</td>\n",
              "      <td>-9.520000e-08</td>\n",
              "      <td>3.260000e-07</td>\n",
              "      <td>-1.590000e-06</td>\n",
              "      <td>-1.980000e-07</td>\n",
              "      <td>...</td>\n",
              "      <td>0.519422</td>\n",
              "      <td>0.600810</td>\n",
              "      <td>-0.210264</td>\n",
              "      <td>0.323296</td>\n",
              "      <td>0.227549</td>\n",
              "      <td>0.190816</td>\n",
              "      <td>-0.394961</td>\n",
              "      <td>-0.375067</td>\n",
              "      <td>0.519422</td>\n",
              "      <td>0</td>\n",
              "    </tr>\n",
              "    <tr>\n",
              "      <th>3</th>\n",
              "      <td>1.000000e-06</td>\n",
              "      <td>-1.720000e-08</td>\n",
              "      <td>9.620000e-07</td>\n",
              "      <td>-2.600000e-07</td>\n",
              "      <td>6.230000e-07</td>\n",
              "      <td>3.910000e-08</td>\n",
              "      <td>4.130000e-07</td>\n",
              "      <td>6.030000e-07</td>\n",
              "      <td>6.360000e-07</td>\n",
              "      <td>-2.670000e-07</td>\n",
              "      <td>...</td>\n",
              "      <td>0.295171</td>\n",
              "      <td>0.107639</td>\n",
              "      <td>-0.631112</td>\n",
              "      <td>0.059548</td>\n",
              "      <td>-0.226677</td>\n",
              "      <td>-0.057734</td>\n",
              "      <td>0.163947</td>\n",
              "      <td>0.448646</td>\n",
              "      <td>0.295171</td>\n",
              "      <td>0</td>\n",
              "    </tr>\n",
              "    <tr>\n",
              "      <th>4</th>\n",
              "      <td>-9.610000e-07</td>\n",
              "      <td>9.080000e-07</td>\n",
              "      <td>7.670000e-07</td>\n",
              "      <td>-3.810000e-07</td>\n",
              "      <td>-8.660000e-07</td>\n",
              "      <td>2.990000e-06</td>\n",
              "      <td>1.950000e-07</td>\n",
              "      <td>-1.950000e-06</td>\n",
              "      <td>2.100000e-07</td>\n",
              "      <td>2.220000e-06</td>\n",
              "      <td>...</td>\n",
              "      <td>-0.547782</td>\n",
              "      <td>0.408515</td>\n",
              "      <td>1.145653</td>\n",
              "      <td>0.908620</td>\n",
              "      <td>0.099177</td>\n",
              "      <td>0.214179</td>\n",
              "      <td>0.229707</td>\n",
              "      <td>0.429120</td>\n",
              "      <td>-0.547782</td>\n",
              "      <td>0</td>\n",
              "    </tr>\n",
              "  </tbody>\n",
              "</table>\n",
              "<p>5 rows × 93 columns</p>\n",
              "</div>\n",
              "      <button class=\"colab-df-convert\" onclick=\"convertToInteractive('df-2afefa34-ee18-486d-8881-ed277a05954b')\"\n",
              "              title=\"Convert this dataframe to an interactive table.\"\n",
              "              style=\"display:none;\">\n",
              "        \n",
              "  <svg xmlns=\"http://www.w3.org/2000/svg\" height=\"24px\"viewBox=\"0 0 24 24\"\n",
              "       width=\"24px\">\n",
              "    <path d=\"M0 0h24v24H0V0z\" fill=\"none\"/>\n",
              "    <path d=\"M18.56 5.44l.94 2.06.94-2.06 2.06-.94-2.06-.94-.94-2.06-.94 2.06-2.06.94zm-11 1L8.5 8.5l.94-2.06 2.06-.94-2.06-.94L8.5 2.5l-.94 2.06-2.06.94zm10 10l.94 2.06.94-2.06 2.06-.94-2.06-.94-.94-2.06-.94 2.06-2.06.94z\"/><path d=\"M17.41 7.96l-1.37-1.37c-.4-.4-.92-.59-1.43-.59-.52 0-1.04.2-1.43.59L10.3 9.45l-7.72 7.72c-.78.78-.78 2.05 0 2.83L4 21.41c.39.39.9.59 1.41.59.51 0 1.02-.2 1.41-.59l7.78-7.78 2.81-2.81c.8-.78.8-2.07 0-2.86zM5.41 20L4 18.59l7.72-7.72 1.47 1.35L5.41 20z\"/>\n",
              "  </svg>\n",
              "      </button>\n",
              "      \n",
              "  <style>\n",
              "    .colab-df-container {\n",
              "      display:flex;\n",
              "      flex-wrap:wrap;\n",
              "      gap: 12px;\n",
              "    }\n",
              "\n",
              "    .colab-df-convert {\n",
              "      background-color: #E8F0FE;\n",
              "      border: none;\n",
              "      border-radius: 50%;\n",
              "      cursor: pointer;\n",
              "      display: none;\n",
              "      fill: #1967D2;\n",
              "      height: 32px;\n",
              "      padding: 0 0 0 0;\n",
              "      width: 32px;\n",
              "    }\n",
              "\n",
              "    .colab-df-convert:hover {\n",
              "      background-color: #E2EBFA;\n",
              "      box-shadow: 0px 1px 2px rgba(60, 64, 67, 0.3), 0px 1px 3px 1px rgba(60, 64, 67, 0.15);\n",
              "      fill: #174EA6;\n",
              "    }\n",
              "\n",
              "    [theme=dark] .colab-df-convert {\n",
              "      background-color: #3B4455;\n",
              "      fill: #D2E3FC;\n",
              "    }\n",
              "\n",
              "    [theme=dark] .colab-df-convert:hover {\n",
              "      background-color: #434B5C;\n",
              "      box-shadow: 0px 1px 3px 1px rgba(0, 0, 0, 0.15);\n",
              "      filter: drop-shadow(0px 1px 2px rgba(0, 0, 0, 0.3));\n",
              "      fill: #FFFFFF;\n",
              "    }\n",
              "  </style>\n",
              "\n",
              "      <script>\n",
              "        const buttonEl =\n",
              "          document.querySelector('#df-2afefa34-ee18-486d-8881-ed277a05954b button.colab-df-convert');\n",
              "        buttonEl.style.display =\n",
              "          google.colab.kernel.accessAllowed ? 'block' : 'none';\n",
              "\n",
              "        async function convertToInteractive(key) {\n",
              "          const element = document.querySelector('#df-2afefa34-ee18-486d-8881-ed277a05954b');\n",
              "          const dataTable =\n",
              "            await google.colab.kernel.invokeFunction('convertToInteractive',\n",
              "                                                     [key], {});\n",
              "          if (!dataTable) return;\n",
              "\n",
              "          const docLinkHtml = 'Like what you see? Visit the ' +\n",
              "            '<a target=\"_blank\" href=https://colab.research.google.com/notebooks/data_table.ipynb>data table notebook</a>'\n",
              "            + ' to learn more about interactive tables.';\n",
              "          element.innerHTML = '';\n",
              "          dataTable['output_type'] = 'display_data';\n",
              "          await google.colab.output.renderOutput(dataTable, element);\n",
              "          const docLink = document.createElement('div');\n",
              "          docLink.innerHTML = docLinkHtml;\n",
              "          element.appendChild(docLink);\n",
              "        }\n",
              "      </script>\n",
              "    </div>\n",
              "  </div>\n",
              "  "
            ]
          },
          "metadata": {},
          "execution_count": 47
        }
      ]
    },
    {
      "cell_type": "code",
      "source": [
        "X = dataset.iloc[:, 0:92].values\n",
        "y = dataset.iloc[:, 92].values"
      ],
      "metadata": {
        "execution": {
          "iopub.status.busy": "2022-07-25T20:20:15.817173Z",
          "iopub.execute_input": "2022-07-25T20:20:15.817653Z",
          "iopub.status.idle": "2022-07-25T20:20:15.824985Z",
          "shell.execute_reply.started": "2022-07-25T20:20:15.817606Z",
          "shell.execute_reply": "2022-07-25T20:20:15.823771Z"
        },
        "trusted": true,
        "id": "Wx0ymR0l42Zo"
      },
      "execution_count": null,
      "outputs": []
    },
    {
      "cell_type": "code",
      "source": [
        "from sklearn.model_selection import train_test_split\n",
        "X_train, X_test, y_train, y_test = train_test_split(X, y, test_size=0.2, random_state=1)"
      ],
      "metadata": {
        "execution": {
          "iopub.status.busy": "2022-07-25T20:20:15.826470Z",
          "iopub.execute_input": "2022-07-25T20:20:15.826797Z",
          "iopub.status.idle": "2022-07-25T20:20:15.967657Z",
          "shell.execute_reply.started": "2022-07-25T20:20:15.826750Z",
          "shell.execute_reply": "2022-07-25T20:20:15.966507Z"
        },
        "trusted": true,
        "id": "3fnGdWNM42Zo"
      },
      "execution_count": null,
      "outputs": []
    },
    {
      "cell_type": "code",
      "source": [
        "X_train.shape, X_test.shape, y_train.shape, y_test.shape"
      ],
      "metadata": {
        "execution": {
          "iopub.status.busy": "2022-07-25T20:20:15.969407Z",
          "iopub.execute_input": "2022-07-25T20:20:15.969900Z",
          "iopub.status.idle": "2022-07-25T20:20:15.979617Z",
          "shell.execute_reply.started": "2022-07-25T20:20:15.969851Z",
          "shell.execute_reply": "2022-07-25T20:20:15.977612Z"
        },
        "trusted": true,
        "id": "aHuNGQUw42Zp",
        "colab": {
          "base_uri": "https://localhost:8080/"
        },
        "outputId": "b4157a96-e7b1-4209-d108-7cf16a4adc2c"
      },
      "execution_count": null,
      "outputs": [
        {
          "output_type": "execute_result",
          "data": {
            "text/plain": [
              "((1643, 92), (411, 92), (1643,), (411,))"
            ]
          },
          "metadata": {},
          "execution_count": 52
        }
      ]
    },
    {
      "cell_type": "code",
      "source": [
        "from sklearn.ensemble import RandomForestClassifier\n",
        "regressor = RandomForestClassifier(n_estimators= 300, max_depth = 100, min_samples_split=3, random_state=1)\n",
        "regressor.fit(X_train, y_train)\n",
        "y_pred = regressor.predict(X_test)"
      ],
      "metadata": {
        "execution": {
          "iopub.status.busy": "2022-07-25T20:20:15.981881Z",
          "iopub.execute_input": "2022-07-25T20:20:15.982228Z",
          "iopub.status.idle": "2022-07-25T20:20:16.740067Z",
          "shell.execute_reply.started": "2022-07-25T20:20:15.982184Z",
          "shell.execute_reply": "2022-07-25T20:20:16.738867Z"
        },
        "trusted": true,
        "id": "rDHV6BFo42Zp"
      },
      "execution_count": null,
      "outputs": []
    },
    {
      "cell_type": "code",
      "source": [
        "from sklearn.metrics import accuracy_score\n",
        "acc = accuracy_score(y_test, y_pred)\n",
        "acc"
      ],
      "metadata": {
        "execution": {
          "iopub.status.busy": "2022-07-25T20:20:16.742153Z",
          "iopub.execute_input": "2022-07-25T20:20:16.742643Z",
          "iopub.status.idle": "2022-07-25T20:20:16.752232Z",
          "shell.execute_reply.started": "2022-07-25T20:20:16.742596Z",
          "shell.execute_reply": "2022-07-25T20:20:16.750873Z"
        },
        "trusted": true,
        "id": "vI2oKN7P42Zp",
        "colab": {
          "base_uri": "https://localhost:8080/"
        },
        "outputId": "7b7a85ec-63bc-4136-c613-15a16fb781c6"
      },
      "execution_count": null,
      "outputs": [
        {
          "output_type": "execute_result",
          "data": {
            "text/plain": [
              "0.8418491484184915"
            ]
          },
          "metadata": {},
          "execution_count": 65
        }
      ]
    },
    {
      "cell_type": "code",
      "source": [
        "from sklearn.metrics import classification_report, confusion_matrix\n",
        "print(confusion_matrix(y_test,y_pred))\n",
        "print(classification_report(y_test,y_pred))"
      ],
      "metadata": {
        "execution": {
          "iopub.status.busy": "2022-07-25T20:20:16.754422Z",
          "iopub.execute_input": "2022-07-25T20:20:16.754977Z",
          "iopub.status.idle": "2022-07-25T20:20:16.771886Z",
          "shell.execute_reply.started": "2022-07-25T20:20:16.754930Z",
          "shell.execute_reply": "2022-07-25T20:20:16.770424Z"
        },
        "trusted": true,
        "id": "Oef3Bp5C42Zp",
        "colab": {
          "base_uri": "https://localhost:8080/"
        },
        "outputId": "986c24cf-3d20-42a9-8bae-19c24291ebba"
      },
      "execution_count": null,
      "outputs": [
        {
          "output_type": "stream",
          "name": "stdout",
          "text": [
            "[[231  28]\n",
            " [ 37 115]]\n",
            "              precision    recall  f1-score   support\n",
            "\n",
            "           0       0.86      0.89      0.88       259\n",
            "           1       0.80      0.76      0.78       152\n",
            "\n",
            "    accuracy                           0.84       411\n",
            "   macro avg       0.83      0.82      0.83       411\n",
            "weighted avg       0.84      0.84      0.84       411\n",
            "\n"
          ]
        }
      ]
    },
    {
      "cell_type": "code",
      "source": [
        "import seaborn as sns\n",
        "import matplotlib.pyplot as plt\n",
        "\n",
        "ax = sns.heatmap(confusion_matrix(y_test,y_pred), fmt = '' ,annot=True)\n",
        "ax.set_title('Confusion Matrix\\n');\n",
        "ax.set_xlabel('\\nPredicted Values')\n",
        "ax.set_ylabel('\\nActual Values\\n');\n",
        "ax.xaxis.set_ticklabels(['Non-Seizure','Seizure'])\n",
        "ax.yaxis.set_ticklabels(['Non-Seizure','Seizure'])\n",
        "plt.show()"
      ],
      "metadata": {
        "execution": {
          "iopub.status.busy": "2022-07-25T20:20:16.773647Z",
          "iopub.execute_input": "2022-07-25T20:20:16.774664Z",
          "iopub.status.idle": "2022-07-25T20:20:17.265103Z",
          "shell.execute_reply.started": "2022-07-25T20:20:16.774627Z",
          "shell.execute_reply": "2022-07-25T20:20:17.264035Z"
        },
        "trusted": true,
        "id": "d5t4mA8E42Zq",
        "colab": {
          "base_uri": "https://localhost:8080/",
          "height": 322
        },
        "outputId": "bc51e0db-3e14-4688-a9d1-f65de6fdd1e1"
      },
      "execution_count": null,
      "outputs": [
        {
          "output_type": "display_data",
          "data": {
            "text/plain": [
              "<Figure size 432x288 with 2 Axes>"
            ],
            "image/png": "[encoded data removed]"
          },
          "metadata": {
            "needs_background": "light"
          }
        }
      ]
    },
    {
      "cell_type": "code",
      "source": [
        "TP = 231\n",
        "FN = 29\n",
        "FP = 37\n",
        "TN = 115\n",
        "\n",
        "Precision = TP / (TP + FP)\n",
        "Sensitivity = TP / (TP + FN)\n",
        "Specificity = TN /(TN + FP)\n",
        "False_Pos_Rate = FP / (TN + FP)\n",
        "False_Neg_Rate = FN / (FN + TP)\n",
        "F1_Score = (2*Precision*Sensitivity) / (Precision + Sensitivity)\n",
        "Accuracy = (TP+TN) / (TP+FP+TN+FN)\n",
        "\n",
        "precision = \"{:.2f}\".format(Precision)\n",
        "sensitivity = \"{:.2f}\".format(Sensitivity)\n",
        "specificity = \"{:.2f}\".format(Specificity)\n",
        "false_pos_rate = \"{:.2f}\".format(False_Pos_Rate)\n",
        "false_neg_rate = \"{:.2f}\".format(False_Neg_Rate)\n",
        "f1_score = \"{:.2f}\".format(F1_Score)\n",
        "accuracy = \"{:.2f}\".format(Accuracy)\n",
        "\n",
        "print(\"Precision          :\", precision)\n",
        "print(\"Sensitivity        :\", sensitivity)\n",
        "print(\"Specificity        :\", specificity)\n",
        "print(\"F1-Score           :\", f1_score)\n",
        "print(\"False Positive Rate:\", false_pos_rate)\n",
        "print(\"False Negative Rate:\", false_neg_rate)\n",
        "print(\"Accuraccy          :\", accuracy)"
      ],
      "metadata": {
        "colab": {
          "base_uri": "https://localhost:8080/"
        },
        "id": "R6bnJ1lJ-Qz9",
        "outputId": "259669ff-5887-4eb0-fd53-3c7dca5d9303"
      },
      "execution_count": null,
      "outputs": [
        {
          "output_type": "stream",
          "name": "stdout",
          "text": [
            "Precision          : 0.86\n",
            "Sensitivity        : 0.89\n",
            "Specificity        : 0.76\n",
            "F1-Score           : 0.88\n",
            "False Positive Rate: 0.24\n",
            "False Negative Rate: 0.11\n",
            "Accuraccy          : 0.84\n"
          ]
        }
      ]
    }
  ]
}