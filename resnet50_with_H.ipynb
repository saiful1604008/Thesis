{
  "nbformat": 4,
  "nbformat_minor": 0,
  "metadata": {
    "colab": {
      "name": "resnet50_with_H.ipynb",
      "provenance": [],
      "collapsed_sections": [],
      "mount_file_id": "1YT5ViK21Z2u--m4Vlp-mD9qnxfKwba8r",
      "authorship_tag": "ABX9TyNOhostdOWXuRRtIUiuc2wv",
      "include_colab_link": true
    },
    "kernelspec": {
      "name": "python3",
      "display_name": "Python 3"
    },
    "language_info": {
      "name": "python"
    }
  },
  "cells": [
    {
      "cell_type": "markdown",
      "metadata": {
        "id": "view-in-github",
        "colab_type": "text"
      },
      "source": [
        "<a href=\"https://colab.research.google.com/github/saiful1604008/Thesis/blob/main/resnet50_with_H.ipynb\" target=\"_parent\"><img src=\"https://colab.research.google.com/assets/colab-badge.svg\" alt=\"Open In Colab\"/></a>"
      ]
    },
    {
      "cell_type": "code",
      "execution_count": 10,
      "metadata": {
        "id": "iqIt9a3YRrMY"
      },
      "outputs": [],
      "source": [
        "import numpy as np \n",
        "import pandas as pd \n",
        "import os\n",
        "import sys\n",
        "import shutil   \n",
        "from tensorflow import keras\n",
        "from keras import backend as K\n",
        "from keras.models import Sequential\n",
        "from keras import optimizers\n",
        "from keras.layers.core import Dense, Dropout, Activation, Flatten\n",
        "from keras.layers.convolutional import Convolution2D, MaxPooling2D\n",
        "from keras.layers import Dense, GlobalAveragePooling2D, Dropout\n",
        "from keras.preprocessing.image import ImageDataGenerator\n",
        "from keras.callbacks import History \n",
        "from sklearn.metrics import classification_report, confusion_matrix\n",
        "import keras\n",
        "from tensorflow.keras.optimizers import Adam\n",
        "from keras.layers.convolutional import Conv2D\n",
        "from keras.layers import Dense\n",
        "from keras.layers.convolutional import MaxPooling2D\n",
        "from keras.layers import Flatten\n",
        "from keras.layers import LeakyReLU\n",
        "import tensorflow as tf"
      ]
    },
    {
      "cell_type": "code",
      "source": [
        "data_dir_train = \"/content/drive/MyDrive/hack_train/\"\n",
        "data_dir_test = \"/content/drive/MyDrive/hack_test/\"\n",
        "num_classes = 2"
      ],
      "metadata": {
        "id": "1Z0py4jPSFw_"
      },
      "execution_count": 40,
      "outputs": []
    },
    {
      "cell_type": "code",
      "source": [
        "datagen = ImageDataGenerator(\n",
        "    rescale = 1.0/255,\n",
        "    \n",
        ")\n",
        "\n",
        "train_gen = datagen.flow_from_directory(\n",
        "    directory= data_dir_train,\n",
        "    target_size = (125,125),\n",
        "    batch_size = 30,\n",
        "    color_mode = 'rgb',\n",
        "    shuffle = True,\n",
        "    class_mode = 'binary'\n",
        ")\n",
        "\n",
        "valid_gen = datagen.flow_from_directory(\n",
        "    directory= data_dir_test,\n",
        "    target_size = (125,125),\n",
        "    batch_size = 30,\n",
        "    color_mode = 'rgb',\n",
        "    shuffle = False,\n",
        "    class_mode = 'binary'\n",
        "\n",
        ")"
      ],
      "metadata": {
        "colab": {
          "base_uri": "https://localhost:8080/"
        },
        "id": "hg_iXe0KSPJD",
        "outputId": "2ff89e12-e7b6-40f0-c30b-a130c1219569"
      },
      "execution_count": 41,
      "outputs": [
        {
          "output_type": "stream",
          "name": "stdout",
          "text": [
            "Found 591 images belonging to 2 classes.\n",
            "Found 144 images belonging to 2 classes.\n"
          ]
        }
      ]
    },
    {
      "cell_type": "code",
      "source": [
        "input_shape = train_gen.image_shape\n",
        "input_shape"
      ],
      "metadata": {
        "colab": {
          "base_uri": "https://localhost:8080/"
        },
        "id": "ZbUpvQ4-SZ8l",
        "outputId": "34e73c51-1506-414b-e19e-0b3469de8d59"
      },
      "execution_count": 42,
      "outputs": [
        {
          "output_type": "execute_result",
          "data": {
            "text/plain": [
              "(125, 125, 3)"
            ]
          },
          "metadata": {},
          "execution_count": 42
        }
      ]
    },
    {
      "cell_type": "code",
      "source": [
        "resnet_model = Sequential()\n",
        "\n",
        "pretrained_model= tf.keras.applications.ResNet50(include_top=False,\n",
        "                   input_shape=(125,125,3),\n",
        "                   pooling='max',classes=2,\n",
        "                   weights='imagenet')\n",
        "for layer in pretrained_model.layers:\n",
        "        layer.trainable=False\n",
        "\n",
        "resnet_model.add(pretrained_model)\n",
        "resnet_model.add(keras.layers.Flatten())\n",
        "resnet_model.add(keras.layers.Dense(128,activation = 'relu'))\n",
        "resnet_model.add(keras.layers.Dense(2,activation='softmax'))"
      ],
      "metadata": {
        "id": "n3jq-dIXSc75"
      },
      "execution_count": 47,
      "outputs": []
    },
    {
      "cell_type": "code",
      "source": [
        "resnet_model.summary()"
      ],
      "metadata": {
        "colab": {
          "base_uri": "https://localhost:8080/"
        },
        "id": "fWWpdzjoSsGL",
        "outputId": "d831626c-aa19-42da-fca1-b29286befc15"
      },
      "execution_count": 48,
      "outputs": [
        {
          "output_type": "stream",
          "name": "stdout",
          "text": [
            "Model: \"sequential_4\"\n",
            "_________________________________________________________________\n",
            " Layer (type)                Output Shape              Param #   \n",
            "=================================================================\n",
            " resnet50 (Functional)       (None, 2048)              23587712  \n",
            "                                                                 \n",
            " flatten_4 (Flatten)         (None, 2048)              0         \n",
            "                                                                 \n",
            " dense_9 (Dense)             (None, 128)               262272    \n",
            "                                                                 \n",
            " dense_10 (Dense)            (None, 2)                 258       \n",
            "                                                                 \n",
            "=================================================================\n",
            "Total params: 23,850,242\n",
            "Trainable params: 262,530\n",
            "Non-trainable params: 23,587,712\n",
            "_________________________________________________________________\n"
          ]
        }
      ]
    },
    {
      "cell_type": "code",
      "source": [
        "resnet_model.compile(loss = 'sparse_categorical_crossentropy',\n",
        "              optimizer = Adam(learning_rate = 0.0005),\n",
        "              metrics = ['accuracy'])"
      ],
      "metadata": {
        "id": "gjHmmBy6TDhM"
      },
      "execution_count": 49,
      "outputs": []
    },
    {
      "cell_type": "code",
      "source": [
        "Epoch = 10\n",
        "batchSize = 32\n",
        "\n",
        "history = resnet_model.fit(train_gen,\n",
        "                    batch_size = batchSize,\n",
        "                    epochs=Epoch,\n",
        "                    validation_data=valid_gen,\n",
        "                    verbose = 1)"
      ],
      "metadata": {
        "colab": {
          "base_uri": "https://localhost:8080/"
        },
        "id": "SF0VdIFvTPaJ",
        "outputId": "b75b25b7-7a86-4879-bee8-076ec3168676"
      },
      "execution_count": 50,
      "outputs": [
        {
          "output_type": "stream",
          "name": "stdout",
          "text": [
            "Epoch 1/10\n",
            "20/20 [==============================] - 45s 2s/step - loss: 0.4675 - accuracy: 0.7733 - val_loss: 0.3448 - val_accuracy: 0.8889\n",
            "Epoch 2/10\n",
            "20/20 [==============================] - 41s 2s/step - loss: 0.2449 - accuracy: 0.9171 - val_loss: 0.3116 - val_accuracy: 0.8611\n",
            "Epoch 3/10\n",
            "20/20 [==============================] - 41s 2s/step - loss: 0.2030 - accuracy: 0.9205 - val_loss: 0.2822 - val_accuracy: 0.8611\n",
            "Epoch 4/10\n",
            "20/20 [==============================] - 41s 2s/step - loss: 0.1896 - accuracy: 0.9205 - val_loss: 0.2700 - val_accuracy: 0.8889\n",
            "Epoch 5/10\n",
            "20/20 [==============================] - 42s 2s/step - loss: 0.1800 - accuracy: 0.9323 - val_loss: 0.2332 - val_accuracy: 0.8958\n",
            "Epoch 6/10\n",
            "20/20 [==============================] - 41s 2s/step - loss: 0.1578 - accuracy: 0.9323 - val_loss: 0.2320 - val_accuracy: 0.8958\n",
            "Epoch 7/10\n",
            "20/20 [==============================] - 41s 2s/step - loss: 0.1466 - accuracy: 0.9425 - val_loss: 0.2042 - val_accuracy: 0.8958\n",
            "Epoch 8/10\n",
            "20/20 [==============================] - 41s 2s/step - loss: 0.1368 - accuracy: 0.9509 - val_loss: 0.1942 - val_accuracy: 0.9028\n",
            "Epoch 9/10\n",
            "20/20 [==============================] - 41s 2s/step - loss: 0.1262 - accuracy: 0.9560 - val_loss: 0.1875 - val_accuracy: 0.9028\n",
            "Epoch 10/10\n",
            "20/20 [==============================] - 41s 2s/step - loss: 0.1219 - accuracy: 0.9492 - val_loss: 0.1845 - val_accuracy: 0.9028\n"
          ]
        }
      ]
    },
    {
      "cell_type": "code",
      "source": [
        "resnet_model.evaluate(valid_gen)"
      ],
      "metadata": {
        "colab": {
          "base_uri": "https://localhost:8080/"
        },
        "id": "Nq3Gk6C4VmQu",
        "outputId": "f06367a0-a434-40ff-9639-4cea288b34a3"
      },
      "execution_count": 51,
      "outputs": [
        {
          "output_type": "stream",
          "name": "stdout",
          "text": [
            "5/5 [==============================] - 8s 2s/step - loss: 0.1845 - accuracy: 0.9028\n"
          ]
        },
        {
          "output_type": "execute_result",
          "data": {
            "text/plain": [
              "[0.18448728322982788, 0.9027777910232544]"
            ]
          },
          "metadata": {},
          "execution_count": 51
        }
      ]
    },
    {
      "cell_type": "code",
      "source": [
        "import matplotlib.pyplot as plt\n",
        "\n",
        "plt.plot(history.history['accuracy'], label='accuracy')\n",
        "plt.plot(history.history['val_accuracy'], label='validation_accuracy')\n",
        "plt.legend()\n",
        "plt.axis(ymin=0,ymax=1)\n",
        "plt.ylabel('\\nAccuracy')\n",
        "plt.xlabel('\\nEpochs')\n",
        "plt.grid()\n",
        "plt.show()\n"
      ],
      "metadata": {
        "colab": {
          "base_uri": "https://localhost:8080/",
          "height": 295
        },
        "id": "HDo5NDpaVuau",
        "outputId": "11439981-6691-40b5-9ceb-025bc192ec30"
      },
      "execution_count": 52,
      "outputs": [
        {
          "output_type": "display_data",
          "data": {
            "text/plain": [
              "<Figure size 432x288 with 1 Axes>"
            ],
            "image/png": "[encoded data removed]"
          },
          "metadata": {
            "needs_background": "light"
          }
        }
      ]
    },
    {
      "cell_type": "code",
      "source": [
        "\n",
        "plt.plot(history.history['loss'])\n",
        "plt.plot(history.history['val_loss'])\n",
        "plt.axis(ymin=0,ymax=1)\n",
        "plt.grid()\n",
        "plt.title('Model Loss')\n",
        "plt.ylabel('Loss')\n",
        "plt.xlabel('Epochs')\n",
        "plt.legend(['train', 'validation'])\n",
        "plt.show()"
      ],
      "metadata": {
        "colab": {
          "base_uri": "https://localhost:8080/",
          "height": 295
        },
        "id": "5vzqophRV1Fv",
        "outputId": "5ffeefac-5f24-4758-9aa1-9456beec8cb1"
      },
      "execution_count": 54,
      "outputs": [
        {
          "output_type": "display_data",
          "data": {
            "text/plain": [
              "<Figure size 432x288 with 1 Axes>"
            ],
            "image/png": "[encoded data removed]"
          },
          "metadata": {
            "needs_background": "light"
          }
        }
      ]
    },
    {
      "cell_type": "code",
      "source": [
        "\n",
        "Y_pred_res = resnet_model.predict_generator(valid_gen)\n",
        "y_pred_res = np.argmax(Y_pred_res, axis=1)\n",
        "print('Confusion Matrix')\n",
        "conf_matrix_res = confusion_matrix(valid_gen.classes, y_pred_res)\n",
        "cm_res = np.array2string(conf_matrix_res)\n",
        "print(conf_matrix_res)\n",
        "\n",
        "print('Classification Report')\n",
        "target_names = ['Normal', 'Seizure']\n",
        "class_rep_res = classification_report(valid_gen.classes, y_pred_res, target_names=target_names)\n",
        "print(class_rep_res)"
      ],
      "metadata": {
        "colab": {
          "base_uri": "https://localhost:8080/"
        },
        "id": "axEuZvjpV3N3",
        "outputId": "cc444aab-b814-4adf-ec96-f081aafb98fc"
      },
      "execution_count": 55,
      "outputs": [
        {
          "output_type": "stream",
          "name": "stderr",
          "text": [
            "/usr/local/lib/python3.7/dist-packages/ipykernel_launcher.py:2: UserWarning: `Model.predict_generator` is deprecated and will be removed in a future version. Please use `Model.predict`, which supports generators.\n",
            "  \n"
          ]
        },
        {
          "output_type": "stream",
          "name": "stdout",
          "text": [
            "Confusion Matrix\n",
            "[[64  8]\n",
            " [ 6 66]]\n",
            "Classification Report\n",
            "              precision    recall  f1-score   support\n",
            "\n",
            "      Normal       0.91      0.89      0.90        72\n",
            "     Seizure       0.89      0.92      0.90        72\n",
            "\n",
            "    accuracy                           0.90       144\n",
            "   macro avg       0.90      0.90      0.90       144\n",
            "weighted avg       0.90      0.90      0.90       144\n",
            "\n"
          ]
        }
      ]
    },
    {
      "cell_type": "code",
      "source": [
        "import seaborn as sns\n",
        "ax = sns.heatmap(conf_matrix_res, annot=True, cmap = 'Blues')\n",
        "\n",
        "ax.set_title('Confusion Matrix with labels\\n\\n');\n",
        "ax.set_xlabel('\\nPredicted Values')\n",
        "ax.set_ylabel('\\nActual Values\\n');\n",
        "ax.xaxis.set_ticklabels(['Non-Seizure','Seizure'])\n",
        "ax.yaxis.set_ticklabels(['Non-Seizure','Seizure'])\n",
        "plt.show()"
      ],
      "metadata": {
        "colab": {
          "base_uri": "https://localhost:8080/",
          "height": 337
        },
        "id": "g6i2qy6plr4g",
        "outputId": "16020832-4272-4ffd-976b-73d14522196a"
      },
      "execution_count": 58,
      "outputs": [
        {
          "output_type": "display_data",
          "data": {
            "text/plain": [
              "<Figure size 432x288 with 2 Axes>"
            ],
            "image/png": "[encoded data removed]"
          },
          "metadata": {
            "needs_background": "light"
          }
        }
      ]
    },
    {
      "cell_type": "code",
      "source": [
        "import sklearn.metrics as metrics\n",
        "y_pred_keras = resnet_model.predict(valid_gen)\n",
        "preds = y_pred_keras[:,1]\n",
        "fpr_keras, tpr_keras, thresholds_keras = metrics.roc_curve(valid_gen.classes, preds)\n",
        "roc_auc = metrics.auc(fpr_keras, tpr_keras)"
      ],
      "metadata": {
        "id": "ot7Kz5aimGz2"
      },
      "execution_count": 59,
      "outputs": []
    },
    {
      "cell_type": "code",
      "source": [
        "plt.title('ROC Curve')\n",
        "plt.plot(fpr_keras, tpr_keras, 'b', label = 'AUC = %0.2f' % roc_auc)\n",
        "plt.legend(loc = 'lower right')\n",
        "plt.plot([0, 1], [0, 1],'k--')\n",
        "\n",
        "plt.ylabel('True Positive Rate')\n",
        "plt.xlabel('False Positive Rate')\n",
        "plt.show()"
      ],
      "metadata": {
        "colab": {
          "base_uri": "https://localhost:8080/",
          "height": 295
        },
        "id": "msDqk-cPmRU5",
        "outputId": "fbf6d45e-e7bd-44d6-a0d1-619ef2299b2e"
      },
      "execution_count": 62,
      "outputs": [
        {
          "output_type": "display_data",
          "data": {
            "text/plain": [
              "<Figure size 432x288 with 1 Axes>"
            ],
            "image/png": "[encoded data removed]"
          },
          "metadata": {
            "needs_background": "light"
          }
        }
      ]
    }
  ]
}