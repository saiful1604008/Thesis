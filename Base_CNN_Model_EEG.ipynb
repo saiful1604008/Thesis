{
  "nbformat": 4,
  "nbformat_minor": 0,
  "metadata": {
    "colab": {
      "name": "Base_CNN_Model_EEG.ipynb",
      "provenance": [],
      "collapsed_sections": [],
      "mount_file_id": "1POrNYZIRSd-NIgGVXdN-xP55_4jCvja7",
      "authorship_tag": "ABX9TyPjCM6r3Tix7ertGaDVLGr3",
      "include_colab_link": true
    },
    "kernelspec": {
      "name": "python3",
      "display_name": "Python 3"
    },
    "language_info": {
      "name": "python"
    }
  },
  "cells": [
    {
      "cell_type": "markdown",
      "metadata": {
        "id": "view-in-github",
        "colab_type": "text"
      },
      "source": [
        "<a href=\"https://colab.research.google.com/github/saiful1604008/Thesis/blob/main/Base_CNN_Model_EEG.ipynb\" target=\"_parent\"><img src=\"https://colab.research.google.com/assets/colab-badge.svg\" alt=\"Open In Colab\"/></a>"
      ]
    },
    {
      "cell_type": "code",
      "execution_count": 1,
      "metadata": {
        "id": "MMmdCJ_uAdIl"
      },
      "outputs": [],
      "source": [
        "import numpy as np\n",
        "import pandas as pd\n",
        "import cv2 as cv\n",
        "import os \n",
        "import matplotlib.pyplot as plt\n",
        "import seaborn as sns\n",
        "\n",
        "import tensorflow as tf\n",
        "from keras.preprocessing.image import ImageDataGenerator\n",
        "\n",
        "from keras.layers import Conv2D,MaxPooling2D,Dropout,Dense,Flatten\n",
        "from keras.models import Sequential\n",
        "from tensorflow.keras.optimizers import Adam"
      ]
    },
    {
      "cell_type": "code",
      "source": [
        "data_dir_train = \"/content/drive/MyDrive/hack_train/\"\n",
        "data_dir_test = \"/content/drive/MyDrive/hack_test/\"\n",
        "num_classes = 2"
      ],
      "metadata": {
        "id": "0AsYOVduAn0s"
      },
      "execution_count": 2,
      "outputs": []
    },
    {
      "cell_type": "code",
      "source": [
        "datagen = ImageDataGenerator(\n",
        "    rescale = 1.0/255,\n",
        ")\n",
        "\n",
        "train_gen = datagen.flow_from_directory(\n",
        "    directory= data_dir_train,\n",
        "    target_size = (125,125),\n",
        "    batch_size = 30,\n",
        "    color_mode = 'rgb',\n",
        "    shuffle = True,\n",
        "    #subset = 'training',\n",
        "    class_mode = 'binary'\n",
        ")\n",
        "\n",
        "valid_gen = datagen.flow_from_directory(\n",
        "    directory= data_dir_test,\n",
        "    target_size = (125,125),\n",
        "    batch_size = 30,\n",
        "    color_mode = 'rgb',\n",
        "    shuffle = False,\n",
        "    #subset = 'validation',\n",
        "    class_mode = 'binary'\n",
        "\n",
        ")"
      ],
      "metadata": {
        "colab": {
          "base_uri": "https://localhost:8080/"
        },
        "id": "4JLKTGLVAztl",
        "outputId": "83456150-0b0a-496c-b054-f8b6407f553a"
      },
      "execution_count": 3,
      "outputs": [
        {
          "output_type": "stream",
          "name": "stdout",
          "text": [
            "Found 591 images belonging to 2 classes.\n",
            "Found 144 images belonging to 2 classes.\n"
          ]
        }
      ]
    },
    {
      "cell_type": "code",
      "source": [
        "input_shape = train_gen.image_shape\n",
        "input_shape"
      ],
      "metadata": {
        "colab": {
          "base_uri": "https://localhost:8080/"
        },
        "id": "IQf60yctB6Fs",
        "outputId": "2826f6cc-5dd0-4190-b189-3ed1e9a9b190"
      },
      "execution_count": 4,
      "outputs": [
        {
          "output_type": "execute_result",
          "data": {
            "text/plain": [
              "(125, 125, 3)"
            ]
          },
          "metadata": {},
          "execution_count": 4
        }
      ]
    },
    {
      "cell_type": "code",
      "source": [
        "model = Sequential([\n",
        "                    Conv2D(16,(6,6),\n",
        "                            strides=2,\n",
        "                            activation=\"relu\",\n",
        "                            padding='same',\n",
        "                            input_shape=input_shape),\n",
        "                    MaxPooling2D(pool_size = 2,strides=1),\n",
        "                    Dropout(0.5),\n",
        "                    Conv2D(32,(3,3),\n",
        "                           strides=1,\n",
        "                           padding=\"same\",\n",
        "                           activation=\"relu\"),\n",
        "                    MaxPooling2D(pool_size = 2,strides = 1),\n",
        "                    Dropout(0.5),\n",
        "                    Conv2D(64,(3,3),\n",
        "                           strides=1,\n",
        "                           padding=\"same\",\n",
        "                           activation=\"relu\"),\n",
        "                    MaxPooling2D(pool_size = 2,strides = 1),\n",
        "                    Dropout(0.5),\n",
        "                    \n",
        "                    Flatten(),\n",
        "                    Dense(128,activation = 'relu'),\n",
        "                    Dropout(0.5),\n",
        "                    Dense(2,activation = 'softmax')\n",
        "                    \n",
        "])"
      ],
      "metadata": {
        "id": "bWZKqnpWB9g0"
      },
      "execution_count": 5,
      "outputs": []
    },
    {
      "cell_type": "code",
      "source": [
        "model.summary()"
      ],
      "metadata": {
        "colab": {
          "base_uri": "https://localhost:8080/"
        },
        "id": "ukBMqunyCG_E",
        "outputId": "d18d72b9-95f4-4bac-dddb-f458e1059ad0"
      },
      "execution_count": 6,
      "outputs": [
        {
          "output_type": "stream",
          "name": "stdout",
          "text": [
            "Model: \"sequential\"\n",
            "_________________________________________________________________\n",
            " Layer (type)                Output Shape              Param #   \n",
            "=================================================================\n",
            " conv2d (Conv2D)             (None, 63, 63, 16)        1744      \n",
            "                                                                 \n",
            " max_pooling2d (MaxPooling2D  (None, 62, 62, 16)       0         \n",
            " )                                                               \n",
            "                                                                 \n",
            " dropout (Dropout)           (None, 62, 62, 16)        0         \n",
            "                                                                 \n",
            " conv2d_1 (Conv2D)           (None, 62, 62, 32)        4640      \n",
            "                                                                 \n",
            " max_pooling2d_1 (MaxPooling  (None, 61, 61, 32)       0         \n",
            " 2D)                                                             \n",
            "                                                                 \n",
            " dropout_1 (Dropout)         (None, 61, 61, 32)        0         \n",
            "                                                                 \n",
            " conv2d_2 (Conv2D)           (None, 61, 61, 64)        18496     \n",
            "                                                                 \n",
            " max_pooling2d_2 (MaxPooling  (None, 60, 60, 64)       0         \n",
            " 2D)                                                             \n",
            "                                                                 \n",
            " dropout_2 (Dropout)         (None, 60, 60, 64)        0         \n",
            "                                                                 \n",
            " flatten (Flatten)           (None, 230400)            0         \n",
            "                                                                 \n",
            " dense (Dense)               (None, 128)               29491328  \n",
            "                                                                 \n",
            " dropout_3 (Dropout)         (None, 128)               0         \n",
            "                                                                 \n",
            " dense_1 (Dense)             (None, 2)                 258       \n",
            "                                                                 \n",
            "=================================================================\n",
            "Total params: 29,516,466\n",
            "Trainable params: 29,516,466\n",
            "Non-trainable params: 0\n",
            "_________________________________________________________________\n"
          ]
        }
      ]
    },
    {
      "cell_type": "code",
      "source": [
        "from keras.callbacks import EarlyStopping"
      ],
      "metadata": {
        "id": "m88o8_4BCMHS"
      },
      "execution_count": 7,
      "outputs": []
    },
    {
      "cell_type": "code",
      "source": [
        "callback_list = EarlyStopping(monitor = 'val_loss',\n",
        "                              patience = 20,\n",
        "                              restore_best_weights=True)"
      ],
      "metadata": {
        "id": "8NwSLs6ZCO9K"
      },
      "execution_count": 8,
      "outputs": []
    },
    {
      "cell_type": "code",
      "source": [
        "model.compile(loss = 'sparse_categorical_crossentropy',\n",
        "              optimizer = Adam(learning_rate = 0.001),\n",
        "              metrics = ['accuracy'])"
      ],
      "metadata": {
        "id": "qyR96xg5CRdy"
      },
      "execution_count": 9,
      "outputs": []
    },
    {
      "cell_type": "code",
      "source": [
        "Epoch = 100\n",
        "batchSize = 32\n",
        "\n",
        "history = model.fit(train_gen,\n",
        "                    batch_size = batchSize,\n",
        "                    epochs=Epoch,\n",
        "                    callbacks=[callback_list],\n",
        "                    validation_data=valid_gen,\n",
        "                    verbose = 1)"
      ],
      "metadata": {
        "colab": {
          "base_uri": "https://localhost:8080/"
        },
        "id": "57K50qMeCTti",
        "outputId": "883f92bf-c3c8-431d-bbd6-a30d61a92345"
      },
      "execution_count": 10,
      "outputs": [
        {
          "output_type": "stream",
          "name": "stdout",
          "text": [
            "Epoch 1/100\n",
            "20/20 [==============================] - 96s 5s/step - loss: 7.8498 - accuracy: 0.5279 - val_loss: 0.6932 - val_accuracy: 0.5000\n",
            "Epoch 2/100\n",
            "20/20 [==============================] - 26s 1s/step - loss: 0.6831 - accuracy: 0.7648 - val_loss: 0.6931 - val_accuracy: 0.5000\n",
            "Epoch 3/100\n",
            "20/20 [==============================] - 26s 1s/step - loss: 0.6164 - accuracy: 0.7191 - val_loss: 0.5526 - val_accuracy: 0.8611\n",
            "Epoch 4/100\n",
            "20/20 [==============================] - 26s 1s/step - loss: 0.4270 - accuracy: 0.8714 - val_loss: 0.5024 - val_accuracy: 0.7778\n",
            "Epoch 5/100\n",
            "20/20 [==============================] - 26s 1s/step - loss: 0.4215 - accuracy: 0.8223 - val_loss: 0.3598 - val_accuracy: 0.8889\n",
            "Epoch 6/100\n",
            "20/20 [==============================] - 25s 1s/step - loss: 0.2481 - accuracy: 0.9255 - val_loss: 0.2544 - val_accuracy: 0.9097\n",
            "Epoch 7/100\n",
            "20/20 [==============================] - 26s 1s/step - loss: 0.4169 - accuracy: 0.8190 - val_loss: 0.4642 - val_accuracy: 0.8681\n",
            "Epoch 8/100\n",
            "20/20 [==============================] - 26s 1s/step - loss: 0.2346 - accuracy: 0.9205 - val_loss: 0.2577 - val_accuracy: 0.8958\n",
            "Epoch 9/100\n",
            "20/20 [==============================] - 26s 1s/step - loss: 0.1764 - accuracy: 0.9289 - val_loss: 0.2242 - val_accuracy: 0.9097\n",
            "Epoch 10/100\n",
            "20/20 [==============================] - 26s 1s/step - loss: 0.1469 - accuracy: 0.9391 - val_loss: 0.2151 - val_accuracy: 0.9375\n",
            "Epoch 11/100\n",
            "20/20 [==============================] - 26s 1s/step - loss: 0.1237 - accuracy: 0.9594 - val_loss: 0.2122 - val_accuracy: 0.9097\n",
            "Epoch 12/100\n",
            "20/20 [==============================] - 26s 1s/step - loss: 0.1111 - accuracy: 0.9729 - val_loss: 0.2002 - val_accuracy: 0.9097\n",
            "Epoch 13/100\n",
            "20/20 [==============================] - 26s 1s/step - loss: 0.1265 - accuracy: 0.9475 - val_loss: 0.2370 - val_accuracy: 0.8958\n",
            "Epoch 14/100\n",
            "20/20 [==============================] - 26s 1s/step - loss: 0.1654 - accuracy: 0.9323 - val_loss: 0.2254 - val_accuracy: 0.8958\n",
            "Epoch 15/100\n",
            "20/20 [==============================] - 26s 1s/step - loss: 0.1157 - accuracy: 0.9543 - val_loss: 0.2597 - val_accuracy: 0.9028\n",
            "Epoch 16/100\n",
            "20/20 [==============================] - 26s 1s/step - loss: 0.0886 - accuracy: 0.9645 - val_loss: 0.1919 - val_accuracy: 0.9375\n",
            "Epoch 17/100\n",
            "20/20 [==============================] - 26s 1s/step - loss: 0.0869 - accuracy: 0.9662 - val_loss: 0.2126 - val_accuracy: 0.9028\n",
            "Epoch 18/100\n",
            "20/20 [==============================] - 26s 1s/step - loss: 0.0599 - accuracy: 0.9763 - val_loss: 0.2266 - val_accuracy: 0.9028\n",
            "Epoch 19/100\n",
            "20/20 [==============================] - 26s 1s/step - loss: 0.0691 - accuracy: 0.9746 - val_loss: 0.1841 - val_accuracy: 0.9375\n",
            "Epoch 20/100\n",
            "20/20 [==============================] - 25s 1s/step - loss: 0.0781 - accuracy: 0.9679 - val_loss: 0.1856 - val_accuracy: 0.9375\n",
            "Epoch 21/100\n",
            "20/20 [==============================] - 26s 1s/step - loss: 0.0606 - accuracy: 0.9814 - val_loss: 0.1840 - val_accuracy: 0.9306\n",
            "Epoch 22/100\n",
            "20/20 [==============================] - 26s 1s/step - loss: 0.0906 - accuracy: 0.9645 - val_loss: 0.1888 - val_accuracy: 0.9236\n",
            "Epoch 23/100\n",
            "20/20 [==============================] - 26s 1s/step - loss: 0.1225 - accuracy: 0.9492 - val_loss: 0.2272 - val_accuracy: 0.9097\n",
            "Epoch 24/100\n",
            "20/20 [==============================] - 26s 1s/step - loss: 0.0620 - accuracy: 0.9746 - val_loss: 0.2116 - val_accuracy: 0.9167\n",
            "Epoch 25/100\n",
            "20/20 [==============================] - 25s 1s/step - loss: 0.0374 - accuracy: 0.9865 - val_loss: 0.1685 - val_accuracy: 0.9375\n",
            "Epoch 26/100\n",
            "20/20 [==============================] - 26s 1s/step - loss: 0.0367 - accuracy: 0.9865 - val_loss: 0.1679 - val_accuracy: 0.9306\n",
            "Epoch 27/100\n",
            "20/20 [==============================] - 25s 1s/step - loss: 0.0767 - accuracy: 0.9780 - val_loss: 0.2782 - val_accuracy: 0.8958\n",
            "Epoch 28/100\n",
            "20/20 [==============================] - 25s 1s/step - loss: 0.0806 - accuracy: 0.9712 - val_loss: 0.2204 - val_accuracy: 0.9167\n",
            "Epoch 29/100\n",
            "20/20 [==============================] - 25s 1s/step - loss: 0.0355 - accuracy: 0.9898 - val_loss: 0.1859 - val_accuracy: 0.9306\n",
            "Epoch 30/100\n",
            "20/20 [==============================] - 26s 1s/step - loss: 0.0252 - accuracy: 0.9915 - val_loss: 0.1985 - val_accuracy: 0.9306\n",
            "Epoch 31/100\n",
            "20/20 [==============================] - 26s 1s/step - loss: 0.0212 - accuracy: 0.9932 - val_loss: 0.1858 - val_accuracy: 0.9167\n",
            "Epoch 32/100\n",
            "20/20 [==============================] - 25s 1s/step - loss: 0.0336 - accuracy: 0.9882 - val_loss: 0.2343 - val_accuracy: 0.9236\n",
            "Epoch 33/100\n",
            "20/20 [==============================] - 26s 1s/step - loss: 0.0420 - accuracy: 0.9814 - val_loss: 0.1802 - val_accuracy: 0.9375\n",
            "Epoch 34/100\n",
            "20/20 [==============================] - 25s 1s/step - loss: 0.0271 - accuracy: 0.9882 - val_loss: 0.1932 - val_accuracy: 0.9306\n",
            "Epoch 35/100\n",
            "20/20 [==============================] - 26s 1s/step - loss: 0.0190 - accuracy: 0.9949 - val_loss: 0.2025 - val_accuracy: 0.9444\n",
            "Epoch 36/100\n",
            "20/20 [==============================] - 25s 1s/step - loss: 0.0127 - accuracy: 0.9966 - val_loss: 0.1961 - val_accuracy: 0.9375\n",
            "Epoch 37/100\n",
            "20/20 [==============================] - 26s 1s/step - loss: 0.0096 - accuracy: 1.0000 - val_loss: 0.1946 - val_accuracy: 0.9375\n",
            "Epoch 38/100\n",
            "20/20 [==============================] - 26s 1s/step - loss: 0.0354 - accuracy: 0.9848 - val_loss: 0.1953 - val_accuracy: 0.9306\n",
            "Epoch 39/100\n",
            "20/20 [==============================] - 26s 1s/step - loss: 0.1372 - accuracy: 0.9492 - val_loss: 0.2387 - val_accuracy: 0.9097\n",
            "Epoch 40/100\n",
            "20/20 [==============================] - 25s 1s/step - loss: 0.0534 - accuracy: 0.9882 - val_loss: 0.1982 - val_accuracy: 0.9236\n",
            "Epoch 41/100\n",
            "20/20 [==============================] - 25s 1s/step - loss: 0.0192 - accuracy: 0.9966 - val_loss: 0.1788 - val_accuracy: 0.9444\n",
            "Epoch 42/100\n",
            "20/20 [==============================] - 25s 1s/step - loss: 0.0083 - accuracy: 0.9966 - val_loss: 0.2259 - val_accuracy: 0.9375\n",
            "Epoch 43/100\n",
            "20/20 [==============================] - 26s 1s/step - loss: 0.0188 - accuracy: 0.9949 - val_loss: 0.1999 - val_accuracy: 0.9306\n",
            "Epoch 44/100\n",
            "20/20 [==============================] - 26s 1s/step - loss: 0.0123 - accuracy: 0.9966 - val_loss: 0.1960 - val_accuracy: 0.9375\n",
            "Epoch 45/100\n",
            "20/20 [==============================] - 25s 1s/step - loss: 0.0234 - accuracy: 0.9898 - val_loss: 0.2226 - val_accuracy: 0.9306\n",
            "Epoch 46/100\n",
            "20/20 [==============================] - 26s 1s/step - loss: 0.0280 - accuracy: 0.9882 - val_loss: 0.1570 - val_accuracy: 0.9514\n",
            "Epoch 47/100\n",
            "20/20 [==============================] - 28s 1s/step - loss: 0.0175 - accuracy: 0.9949 - val_loss: 0.1755 - val_accuracy: 0.9375\n",
            "Epoch 48/100\n",
            "20/20 [==============================] - 26s 1s/step - loss: 0.0387 - accuracy: 0.9831 - val_loss: 0.2003 - val_accuracy: 0.9306\n",
            "Epoch 49/100\n",
            "20/20 [==============================] - 26s 1s/step - loss: 0.0242 - accuracy: 0.9915 - val_loss: 0.2023 - val_accuracy: 0.9236\n",
            "Epoch 50/100\n",
            "20/20 [==============================] - 26s 1s/step - loss: 0.0125 - accuracy: 0.9949 - val_loss: 0.1720 - val_accuracy: 0.9375\n",
            "Epoch 51/100\n",
            "20/20 [==============================] - 26s 1s/step - loss: 0.0084 - accuracy: 0.9966 - val_loss: 0.1963 - val_accuracy: 0.9444\n",
            "Epoch 52/100\n",
            "20/20 [==============================] - 26s 1s/step - loss: 0.0054 - accuracy: 1.0000 - val_loss: 0.2045 - val_accuracy: 0.9306\n",
            "Epoch 53/100\n",
            "20/20 [==============================] - 26s 1s/step - loss: 0.0053 - accuracy: 0.9983 - val_loss: 0.2108 - val_accuracy: 0.9375\n",
            "Epoch 54/100\n",
            "20/20 [==============================] - 26s 1s/step - loss: 0.0172 - accuracy: 0.9915 - val_loss: 0.2052 - val_accuracy: 0.9375\n",
            "Epoch 55/100\n",
            "20/20 [==============================] - 26s 1s/step - loss: 0.0051 - accuracy: 0.9983 - val_loss: 0.2006 - val_accuracy: 0.9236\n",
            "Epoch 56/100\n",
            "20/20 [==============================] - 26s 1s/step - loss: 0.0035 - accuracy: 1.0000 - val_loss: 0.2101 - val_accuracy: 0.9375\n",
            "Epoch 57/100\n",
            "20/20 [==============================] - 26s 1s/step - loss: 0.0042 - accuracy: 1.0000 - val_loss: 0.2133 - val_accuracy: 0.9375\n",
            "Epoch 58/100\n",
            "20/20 [==============================] - 26s 1s/step - loss: 0.0061 - accuracy: 1.0000 - val_loss: 0.2247 - val_accuracy: 0.9444\n",
            "Epoch 59/100\n",
            "20/20 [==============================] - 26s 1s/step - loss: 0.0090 - accuracy: 0.9966 - val_loss: 0.2231 - val_accuracy: 0.9306\n",
            "Epoch 60/100\n",
            "20/20 [==============================] - 26s 1s/step - loss: 0.0095 - accuracy: 0.9966 - val_loss: 0.2783 - val_accuracy: 0.9306\n",
            "Epoch 61/100\n",
            "20/20 [==============================] - 26s 1s/step - loss: 0.0169 - accuracy: 0.9932 - val_loss: 0.2052 - val_accuracy: 0.9306\n",
            "Epoch 62/100\n",
            "20/20 [==============================] - 26s 1s/step - loss: 0.0094 - accuracy: 0.9949 - val_loss: 0.2451 - val_accuracy: 0.9236\n",
            "Epoch 63/100\n",
            "20/20 [==============================] - 26s 1s/step - loss: 0.0195 - accuracy: 0.9949 - val_loss: 0.2135 - val_accuracy: 0.9306\n",
            "Epoch 64/100\n",
            "20/20 [==============================] - 26s 1s/step - loss: 0.0162 - accuracy: 0.9949 - val_loss: 0.2198 - val_accuracy: 0.9306\n",
            "Epoch 65/100\n",
            "20/20 [==============================] - 26s 1s/step - loss: 0.0083 - accuracy: 0.9966 - val_loss: 0.2706 - val_accuracy: 0.9097\n",
            "Epoch 66/100\n",
            "20/20 [==============================] - 26s 1s/step - loss: 0.0090 - accuracy: 0.9983 - val_loss: 0.2376 - val_accuracy: 0.9306\n"
          ]
        }
      ]
    },
    {
      "cell_type": "code",
      "source": [
        "model.evaluate(valid_gen)"
      ],
      "metadata": {
        "colab": {
          "base_uri": "https://localhost:8080/"
        },
        "id": "i9ANVxPLK9aW",
        "outputId": "306f512c-0cc5-41a5-9a8e-b9712ff4cb52"
      },
      "execution_count": 11,
      "outputs": [
        {
          "output_type": "stream",
          "name": "stdout",
          "text": [
            "5/5 [==============================] - 2s 324ms/step - loss: 0.1570 - accuracy: 0.9514\n"
          ]
        },
        {
          "output_type": "execute_result",
          "data": {
            "text/plain": [
              "[0.15697255730628967, 0.9513888955116272]"
            ]
          },
          "metadata": {},
          "execution_count": 11
        }
      ]
    },
    {
      "cell_type": "code",
      "source": [
        "plt.plot(history.history['accuracy'], label='accuracy')\n",
        "plt.plot(history.history['val_accuracy'], label='validation_accuracy')\n",
        "plt.legend()\n",
        "plt.grid()\n",
        "plt.show()"
      ],
      "metadata": {
        "colab": {
          "base_uri": "https://localhost:8080/",
          "height": 265
        },
        "id": "kRDaHA39K4tY",
        "outputId": "8efe1629-c19b-4c7c-e31c-4502a52aaa6b"
      },
      "execution_count": 12,
      "outputs": [
        {
          "output_type": "display_data",
          "data": {
            "text/plain": [
              "<Figure size 432x288 with 1 Axes>"
            ],
            "image/png": "[encoded data removed]"
          },
          "metadata": {
            "needs_background": "light"
          }
        }
      ]
    },
    {
      "cell_type": "code",
      "source": [
        "plt.plot(history.history['loss'], label='loss')\n",
        "plt.plot(history.history['val_loss'], label='val_loss')\n",
        "plt.legend()\n",
        "plt.grid()\n",
        "plt.show()"
      ],
      "metadata": {
        "colab": {
          "base_uri": "https://localhost:8080/",
          "height": 265
        },
        "id": "b6_KA-9iLQtI",
        "outputId": "e358cf03-cfd3-4cd0-e0cd-57e90aea282c"
      },
      "execution_count": 13,
      "outputs": [
        {
          "output_type": "display_data",
          "data": {
            "text/plain": [
              "<Figure size 432x288 with 1 Axes>"
            ],
            "image/png": "[encoded data removed]"
          },
          "metadata": {
            "needs_background": "light"
          }
        }
      ]
    },
    {
      "cell_type": "code",
      "source": [
        "from sklearn.metrics import classification_report, confusion_matrix\n",
        "\n",
        "target_names = []\n",
        "\n",
        "for key in train_gen.class_indices:\n",
        "    target_names.append(key)\n",
        "\n",
        "\n",
        "y_pred = model.predict_generator(valid_gen)\n",
        "y_pred = np.argmax(y_pred, axis=1)\n",
        "print('Confusion Matrix')\n",
        "cm = confusion_matrix(valid_gen.classes, y_pred)\n",
        "print (cm)\n",
        "\n",
        "\n",
        "print('Classification Report')\n",
        "print(classification_report(valid_gen.classes, y_pred, target_names=target_names))\n"
      ],
      "metadata": {
        "colab": {
          "base_uri": "https://localhost:8080/"
        },
        "id": "zcB3TrtjMZ6v",
        "outputId": "62c0c224-53be-4325-ade6-9468422cd028"
      },
      "execution_count": 14,
      "outputs": [
        {
          "output_type": "stream",
          "name": "stderr",
          "text": [
            "/usr/local/lib/python3.7/dist-packages/ipykernel_launcher.py:9: UserWarning: `Model.predict_generator` is deprecated and will be removed in a future version. Please use `Model.predict`, which supports generators.\n",
            "  if __name__ == '__main__':\n"
          ]
        },
        {
          "output_type": "stream",
          "name": "stdout",
          "text": [
            "Confusion Matrix\n",
            "[[69  3]\n",
            " [ 4 68]]\n",
            "Classification Report\n",
            "              precision    recall  f1-score   support\n",
            "\n",
            "      Normal       0.95      0.96      0.95        72\n",
            "     Seizure       0.96      0.94      0.95        72\n",
            "\n",
            "    accuracy                           0.95       144\n",
            "   macro avg       0.95      0.95      0.95       144\n",
            "weighted avg       0.95      0.95      0.95       144\n",
            "\n"
          ]
        }
      ]
    },
    {
      "cell_type": "code",
      "source": [
        "ax = sns.heatmap(cm, annot=True)\n",
        "\n",
        "ax.set_title('Confusion Matrix with labels\\n\\n');\n",
        "ax.set_xlabel('\\nPredicted Values')\n",
        "ax.set_ylabel('\\nActual Values\\n');\n",
        "\n",
        "## Ticket labels - List must be in alphabetical order\n",
        "ax.xaxis.set_ticklabels(['Normal','Seizure'])\n",
        "ax.yaxis.set_ticklabels(['Normal','Seizure'])\n",
        "\n",
        "## Display the visualization of the Confusion Matrix.\n",
        "plt.show()"
      ],
      "metadata": {
        "colab": {
          "base_uri": "https://localhost:8080/",
          "height": 337
        },
        "id": "ZVprdRzFmXIU",
        "outputId": "977a5451-1810-4819-dca6-19fc5bf9d61e"
      },
      "execution_count": 15,
      "outputs": [
        {
          "output_type": "display_data",
          "data": {
            "text/plain": [
              "<Figure size 432x288 with 2 Axes>"
            ],
            "image/png": "[encoded data removed]"
          },
          "metadata": {
            "needs_background": "light"
          }
        }
      ]
    }
  ]
}