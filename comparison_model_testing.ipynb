{
  "nbformat": 4,
  "nbformat_minor": 0,
  "metadata": {
    "colab": {
      "name": "comparison_model_testing.ipynb",
      "provenance": [],
      "collapsed_sections": [],
      "authorship_tag": "ABX9TyOjIgY3+jFylpSyYl4hDXM1",
      "include_colab_link": true
    },
    "kernelspec": {
      "name": "python3",
      "display_name": "Python 3"
    },
    "language_info": {
      "name": "python"
    }
  },
  "cells": [
    {
      "cell_type": "markdown",
      "metadata": {
        "id": "view-in-github",
        "colab_type": "text"
      },
      "source": [
        "<a href=\"https://colab.research.google.com/github/saiful1604008/Thesis/blob/main/comparison_model_testing.ipynb\" target=\"_parent\"><img src=\"https://colab.research.google.com/assets/colab-badge.svg\" alt=\"Open In Colab\"/></a>"
      ]
    },
    {
      "cell_type": "code",
      "execution_count": 23,
      "metadata": {
        "id": "L6tSyCWZBrEB"
      },
      "outputs": [],
      "source": [
        "import pandas as pd\n",
        "import numpy as np"
      ]
    },
    {
      "cell_type": "code",
      "source": [
        "dataset = pd.read_csv('/content/csv data.csv')"
      ],
      "metadata": {
        "id": "Rdr--_4rC3d3"
      },
      "execution_count": 24,
      "outputs": []
    },
    {
      "cell_type": "code",
      "source": [
        "dataset.head()"
      ],
      "metadata": {
        "colab": {
          "base_uri": "https://localhost:8080/",
          "height": 300
        },
        "id": "swBgNIWfC8qr",
        "outputId": "64bc2005-11d7-45bb-fab4-55710062b061"
      },
      "execution_count": 25,
      "outputs": [
        {
          "output_type": "execute_result",
          "data": {
            "text/plain": [
              "          0         1         2         3         4         5         6  \\\n",
              "0 -0.000047 -0.000030  0.000059  0.000007 -0.000052 -0.000007  0.000021   \n",
              "1 -0.000042 -0.000026  0.000051  0.000006 -0.000050 -0.000008  0.000019   \n",
              "2 -0.000036 -0.000025  0.000046  0.000004 -0.000046 -0.000007  0.000017   \n",
              "3  0.000033 -0.000003 -0.000011 -0.000003  0.000006  0.000002  0.000004   \n",
              "4  0.000016  0.000012 -0.000009 -0.000004  0.000006  0.000003  0.000003   \n",
              "\n",
              "          7         8         9  ...       198       199       200       201  \\\n",
              "0  0.000026 -0.000052  0.000001  ...  0.000033  0.000044  0.000039  0.000038   \n",
              "1  0.000027 -0.000049  0.000003  ...  0.000030  0.000040  0.000032  0.000028   \n",
              "2  0.000026 -0.000046  0.000004  ...  0.000032  0.000044  0.000039  0.000031   \n",
              "3  0.000001  0.000012 -0.000006  ...  0.000050  0.000027  0.000010  0.000015   \n",
              "4  0.000001  0.000009 -0.000006  ...  0.000034  0.000017  0.000009  0.000013   \n",
              "\n",
              "        202       203       204       205       206  207  \n",
              "0  0.000056  0.000037  0.000048  0.000028  0.000033    0  \n",
              "1  0.000050  0.000027  0.000043  0.000024  0.000030    0  \n",
              "2  0.000051  0.000031  0.000039  0.000026  0.000032    0  \n",
              "3  0.000059  0.000040  0.000064  0.000077  0.000050    0  \n",
              "4  0.000039  0.000031  0.000085  0.000058  0.000034    0  \n",
              "\n",
              "[5 rows x 208 columns]"
            ],
            "text/html": [
              "\n",
              "  <div id=\"df-c9dce4f0-ca6f-4e13-b559-78960c6aaa51\">\n",
              "    <div class=\"colab-df-container\">\n",
              "      <div>\n",
              "<style scoped>\n",
              "    .dataframe tbody tr th:only-of-type {\n",
              "        vertical-align: middle;\n",
              "    }\n",
              "\n",
              "    .dataframe tbody tr th {\n",
              "        vertical-align: top;\n",
              "    }\n",
              "\n",
              "    .dataframe thead th {\n",
              "        text-align: right;\n",
              "    }\n",
              "</style>\n",
              "<table border=\"1\" class=\"dataframe\">\n",
              "  <thead>\n",
              "    <tr style=\"text-align: right;\">\n",
              "      <th></th>\n",
              "      <th>0</th>\n",
              "      <th>1</th>\n",
              "      <th>2</th>\n",
              "      <th>3</th>\n",
              "      <th>4</th>\n",
              "      <th>5</th>\n",
              "      <th>6</th>\n",
              "      <th>7</th>\n",
              "      <th>8</th>\n",
              "      <th>9</th>\n",
              "      <th>...</th>\n",
              "      <th>198</th>\n",
              "      <th>199</th>\n",
              "      <th>200</th>\n",
              "      <th>201</th>\n",
              "      <th>202</th>\n",
              "      <th>203</th>\n",
              "      <th>204</th>\n",
              "      <th>205</th>\n",
              "      <th>206</th>\n",
              "      <th>207</th>\n",
              "    </tr>\n",
              "  </thead>\n",
              "  <tbody>\n",
              "    <tr>\n",
              "      <th>0</th>\n",
              "      <td>-0.000047</td>\n",
              "      <td>-0.000030</td>\n",
              "      <td>0.000059</td>\n",
              "      <td>0.000007</td>\n",
              "      <td>-0.000052</td>\n",
              "      <td>-0.000007</td>\n",
              "      <td>0.000021</td>\n",
              "      <td>0.000026</td>\n",
              "      <td>-0.000052</td>\n",
              "      <td>0.000001</td>\n",
              "      <td>...</td>\n",
              "      <td>0.000033</td>\n",
              "      <td>0.000044</td>\n",
              "      <td>0.000039</td>\n",
              "      <td>0.000038</td>\n",
              "      <td>0.000056</td>\n",
              "      <td>0.000037</td>\n",
              "      <td>0.000048</td>\n",
              "      <td>0.000028</td>\n",
              "      <td>0.000033</td>\n",
              "      <td>0</td>\n",
              "    </tr>\n",
              "    <tr>\n",
              "      <th>1</th>\n",
              "      <td>-0.000042</td>\n",
              "      <td>-0.000026</td>\n",
              "      <td>0.000051</td>\n",
              "      <td>0.000006</td>\n",
              "      <td>-0.000050</td>\n",
              "      <td>-0.000008</td>\n",
              "      <td>0.000019</td>\n",
              "      <td>0.000027</td>\n",
              "      <td>-0.000049</td>\n",
              "      <td>0.000003</td>\n",
              "      <td>...</td>\n",
              "      <td>0.000030</td>\n",
              "      <td>0.000040</td>\n",
              "      <td>0.000032</td>\n",
              "      <td>0.000028</td>\n",
              "      <td>0.000050</td>\n",
              "      <td>0.000027</td>\n",
              "      <td>0.000043</td>\n",
              "      <td>0.000024</td>\n",
              "      <td>0.000030</td>\n",
              "      <td>0</td>\n",
              "    </tr>\n",
              "    <tr>\n",
              "      <th>2</th>\n",
              "      <td>-0.000036</td>\n",
              "      <td>-0.000025</td>\n",
              "      <td>0.000046</td>\n",
              "      <td>0.000004</td>\n",
              "      <td>-0.000046</td>\n",
              "      <td>-0.000007</td>\n",
              "      <td>0.000017</td>\n",
              "      <td>0.000026</td>\n",
              "      <td>-0.000046</td>\n",
              "      <td>0.000004</td>\n",
              "      <td>...</td>\n",
              "      <td>0.000032</td>\n",
              "      <td>0.000044</td>\n",
              "      <td>0.000039</td>\n",
              "      <td>0.000031</td>\n",
              "      <td>0.000051</td>\n",
              "      <td>0.000031</td>\n",
              "      <td>0.000039</td>\n",
              "      <td>0.000026</td>\n",
              "      <td>0.000032</td>\n",
              "      <td>0</td>\n",
              "    </tr>\n",
              "    <tr>\n",
              "      <th>3</th>\n",
              "      <td>0.000033</td>\n",
              "      <td>-0.000003</td>\n",
              "      <td>-0.000011</td>\n",
              "      <td>-0.000003</td>\n",
              "      <td>0.000006</td>\n",
              "      <td>0.000002</td>\n",
              "      <td>0.000004</td>\n",
              "      <td>0.000001</td>\n",
              "      <td>0.000012</td>\n",
              "      <td>-0.000006</td>\n",
              "      <td>...</td>\n",
              "      <td>0.000050</td>\n",
              "      <td>0.000027</td>\n",
              "      <td>0.000010</td>\n",
              "      <td>0.000015</td>\n",
              "      <td>0.000059</td>\n",
              "      <td>0.000040</td>\n",
              "      <td>0.000064</td>\n",
              "      <td>0.000077</td>\n",
              "      <td>0.000050</td>\n",
              "      <td>0</td>\n",
              "    </tr>\n",
              "    <tr>\n",
              "      <th>4</th>\n",
              "      <td>0.000016</td>\n",
              "      <td>0.000012</td>\n",
              "      <td>-0.000009</td>\n",
              "      <td>-0.000004</td>\n",
              "      <td>0.000006</td>\n",
              "      <td>0.000003</td>\n",
              "      <td>0.000003</td>\n",
              "      <td>0.000001</td>\n",
              "      <td>0.000009</td>\n",
              "      <td>-0.000006</td>\n",
              "      <td>...</td>\n",
              "      <td>0.000034</td>\n",
              "      <td>0.000017</td>\n",
              "      <td>0.000009</td>\n",
              "      <td>0.000013</td>\n",
              "      <td>0.000039</td>\n",
              "      <td>0.000031</td>\n",
              "      <td>0.000085</td>\n",
              "      <td>0.000058</td>\n",
              "      <td>0.000034</td>\n",
              "      <td>0</td>\n",
              "    </tr>\n",
              "  </tbody>\n",
              "</table>\n",
              "<p>5 rows × 208 columns</p>\n",
              "</div>\n",
              "      <button class=\"colab-df-convert\" onclick=\"convertToInteractive('df-c9dce4f0-ca6f-4e13-b559-78960c6aaa51')\"\n",
              "              title=\"Convert this dataframe to an interactive table.\"\n",
              "              style=\"display:none;\">\n",
              "        \n",
              "  <svg xmlns=\"http://www.w3.org/2000/svg\" height=\"24px\"viewBox=\"0 0 24 24\"\n",
              "       width=\"24px\">\n",
              "    <path d=\"M0 0h24v24H0V0z\" fill=\"none\"/>\n",
              "    <path d=\"M18.56 5.44l.94 2.06.94-2.06 2.06-.94-2.06-.94-.94-2.06-.94 2.06-2.06.94zm-11 1L8.5 8.5l.94-2.06 2.06-.94-2.06-.94L8.5 2.5l-.94 2.06-2.06.94zm10 10l.94 2.06.94-2.06 2.06-.94-2.06-.94-.94-2.06-.94 2.06-2.06.94z\"/><path d=\"M17.41 7.96l-1.37-1.37c-.4-.4-.92-.59-1.43-.59-.52 0-1.04.2-1.43.59L10.3 9.45l-7.72 7.72c-.78.78-.78 2.05 0 2.83L4 21.41c.39.39.9.59 1.41.59.51 0 1.02-.2 1.41-.59l7.78-7.78 2.81-2.81c.8-.78.8-2.07 0-2.86zM5.41 20L4 18.59l7.72-7.72 1.47 1.35L5.41 20z\"/>\n",
              "  </svg>\n",
              "      </button>\n",
              "      \n",
              "  <style>\n",
              "    .colab-df-container {\n",
              "      display:flex;\n",
              "      flex-wrap:wrap;\n",
              "      gap: 12px;\n",
              "    }\n",
              "\n",
              "    .colab-df-convert {\n",
              "      background-color: #E8F0FE;\n",
              "      border: none;\n",
              "      border-radius: 50%;\n",
              "      cursor: pointer;\n",
              "      display: none;\n",
              "      fill: #1967D2;\n",
              "      height: 32px;\n",
              "      padding: 0 0 0 0;\n",
              "      width: 32px;\n",
              "    }\n",
              "\n",
              "    .colab-df-convert:hover {\n",
              "      background-color: #E2EBFA;\n",
              "      box-shadow: 0px 1px 2px rgba(60, 64, 67, 0.3), 0px 1px 3px 1px rgba(60, 64, 67, 0.15);\n",
              "      fill: #174EA6;\n",
              "    }\n",
              "\n",
              "    [theme=dark] .colab-df-convert {\n",
              "      background-color: #3B4455;\n",
              "      fill: #D2E3FC;\n",
              "    }\n",
              "\n",
              "    [theme=dark] .colab-df-convert:hover {\n",
              "      background-color: #434B5C;\n",
              "      box-shadow: 0px 1px 3px 1px rgba(0, 0, 0, 0.15);\n",
              "      filter: drop-shadow(0px 1px 2px rgba(0, 0, 0, 0.3));\n",
              "      fill: #FFFFFF;\n",
              "    }\n",
              "  </style>\n",
              "\n",
              "      <script>\n",
              "        const buttonEl =\n",
              "          document.querySelector('#df-c9dce4f0-ca6f-4e13-b559-78960c6aaa51 button.colab-df-convert');\n",
              "        buttonEl.style.display =\n",
              "          google.colab.kernel.accessAllowed ? 'block' : 'none';\n",
              "\n",
              "        async function convertToInteractive(key) {\n",
              "          const element = document.querySelector('#df-c9dce4f0-ca6f-4e13-b559-78960c6aaa51');\n",
              "          const dataTable =\n",
              "            await google.colab.kernel.invokeFunction('convertToInteractive',\n",
              "                                                     [key], {});\n",
              "          if (!dataTable) return;\n",
              "\n",
              "          const docLinkHtml = 'Like what you see? Visit the ' +\n",
              "            '<a target=\"_blank\" href=https://colab.research.google.com/notebooks/data_table.ipynb>data table notebook</a>'\n",
              "            + ' to learn more about interactive tables.';\n",
              "          element.innerHTML = '';\n",
              "          dataTable['output_type'] = 'display_data';\n",
              "          await google.colab.output.renderOutput(dataTable, element);\n",
              "          const docLink = document.createElement('div');\n",
              "          docLink.innerHTML = docLinkHtml;\n",
              "          element.appendChild(docLink);\n",
              "        }\n",
              "      </script>\n",
              "    </div>\n",
              "  </div>\n",
              "  "
            ]
          },
          "metadata": {},
          "execution_count": 25
        }
      ]
    },
    {
      "cell_type": "code",
      "source": [
        "X = dataset.iloc[:, 0:207].values\n",
        "y = dataset.iloc[:, 207].values"
      ],
      "metadata": {
        "id": "EPnO3sEFDU_L"
      },
      "execution_count": 26,
      "outputs": []
    },
    {
      "cell_type": "code",
      "source": [
        "from sklearn.model_selection import train_test_split\n",
        "X_train, X_test, y_train, y_test = train_test_split(X, y, test_size=0.2, random_state=1)"
      ],
      "metadata": {
        "id": "rj_ANhBFDZiL"
      },
      "execution_count": 27,
      "outputs": []
    },
    {
      "cell_type": "code",
      "source": [
        "X_train.shape, X_test.shape, y_train.shape, y_test.shape"
      ],
      "metadata": {
        "colab": {
          "base_uri": "https://localhost:8080/"
        },
        "id": "gtPSiQh9FeRq",
        "outputId": "168fc0d7-733e-4fdd-fe27-4fc8c6fdfc6d"
      },
      "execution_count": 32,
      "outputs": [
        {
          "output_type": "execute_result",
          "data": {
            "text/plain": [
              "((443, 207), (111, 207), (443,), (111,))"
            ]
          },
          "metadata": {},
          "execution_count": 32
        }
      ]
    },
    {
      "cell_type": "code",
      "source": [
        "from sklearn.preprocessing import StandardScaler\n",
        "sc = StandardScaler()\n",
        "X_train = sc.fit_transform(X_train)\n",
        "X_test = sc.transform(X_test)"
      ],
      "metadata": {
        "id": "7HM9mH7kDeb9"
      },
      "execution_count": 28,
      "outputs": []
    },
    {
      "cell_type": "code",
      "source": [
        "from sklearn.ensemble import RandomForestClassifier\n",
        "regressor = RandomForestClassifier(n_estimators= 100, random_state=0)\n",
        "regressor.fit(X_train, y_train)\n",
        "y_pred = regressor.predict(X_test)"
      ],
      "metadata": {
        "id": "7dDyOnAuDmeL"
      },
      "execution_count": 29,
      "outputs": []
    },
    {
      "cell_type": "code",
      "source": [
        "from sklearn.metrics import accuracy_score\n",
        "acc = accuracy_score(y_test, y_pred)\n",
        "acc"
      ],
      "metadata": {
        "colab": {
          "base_uri": "https://localhost:8080/"
        },
        "id": "t8K66Y2ZD3Qk",
        "outputId": "776ba3e3-3e89-4132-9803-436e61d8be54"
      },
      "execution_count": 33,
      "outputs": [
        {
          "output_type": "execute_result",
          "data": {
            "text/plain": [
              "0.8828828828828829"
            ]
          },
          "metadata": {},
          "execution_count": 33
        }
      ]
    },
    {
      "cell_type": "code",
      "source": [
        "from sklearn.metrics import classification_report, confusion_matrix\n",
        "print(confusion_matrix(y_test,y_pred))\n",
        "print(classification_report(y_test,y_pred))"
      ],
      "metadata": {
        "colab": {
          "base_uri": "https://localhost:8080/"
        },
        "id": "on9KjKp9Fcpe",
        "outputId": "0a668429-a578-4fd2-e077-ca4c7dd682dc"
      },
      "execution_count": 35,
      "outputs": [
        {
          "output_type": "stream",
          "name": "stdout",
          "text": [
            "[[47  2]\n",
            " [11 51]]\n",
            "              precision    recall  f1-score   support\n",
            "\n",
            "           0       0.81      0.96      0.88        49\n",
            "           1       0.96      0.82      0.89        62\n",
            "\n",
            "    accuracy                           0.88       111\n",
            "   macro avg       0.89      0.89      0.88       111\n",
            "weighted avg       0.90      0.88      0.88       111\n",
            "\n"
          ]
        }
      ]
    },
    {
      "cell_type": "code",
      "source": [
        "import seaborn as sns\n",
        "import matplotlib.pyplot as plt\n",
        "\n",
        "ax = sns.heatmap(confusion_matrix(y_test,y_pred), fmt = '' ,annot=True)\n",
        "ax.set_title('Confusion Matrix\\n');\n",
        "ax.set_xlabel('\\nPredicted Values')\n",
        "ax.set_ylabel('\\nActual Values\\n');\n",
        "ax.xaxis.set_ticklabels(['Non-Seizure','Seizure'])\n",
        "ax.yaxis.set_ticklabels(['Non-Seizure','Seizure'])\n",
        "plt.show()"
      ],
      "metadata": {
        "colab": {
          "base_uri": "https://localhost:8080/",
          "height": 322
        },
        "id": "_9qnKCJzGfOn",
        "outputId": "56e19b2c-0f98-4cfb-a68d-e8c9adf675b6"
      },
      "execution_count": 37,
      "outputs": [
        {
          "output_type": "display_data",
          "data": {
            "text/plain": [
              "<Figure size 432x288 with 2 Axes>"
            ],
            "image/png": "[encoded data removed]"
          },
          "metadata": {
            "needs_background": "light"
          }
        }
      ]
    },
    {
      "cell_type": "code",
      "source": [
        "TP = 47\n",
        "FN = 2\n",
        "FP = 11\n",
        "TN = 51\n",
        "\n",
        "Precision = TP / (TP + FP)\n",
        "Sensitivity = TP / (TP + FN)\n",
        "Specificity = TN /(TN + FP)\n",
        "False_Pos_Rate = FP / (TN + FP)\n",
        "False_Neg_Rate = FN / (FN + TP)\n",
        "F1_Score = (2*Precision*Sensitivity) / (Precision + Sensitivity)\n",
        "Accuracy = (TP+TN) / (TP+FP+TN+FN)\n",
        "\n",
        "precision = \"{:.2f}\".format(Precision)\n",
        "sensitivity = \"{:.2f}\".format(Sensitivity)\n",
        "specificity = \"{:.2f}\".format(Specificity)\n",
        "false_pos_rate = \"{:.2f}\".format(False_Pos_Rate)\n",
        "false_neg_rate = \"{:.2f}\".format(False_Neg_Rate)\n",
        "f1_score = \"{:.2f}\".format(F1_Score)\n",
        "accuracy = \"{:.2f}\".format(Accuracy)\n",
        "\n",
        "print(\"Precision          :\", precision)\n",
        "print(\"Sensitivity        :\", sensitivity)\n",
        "print(\"Specificity        :\", specificity)\n",
        "print(\"F1-Score           :\", f1_score)\n",
        "print(\"False Positive Rate:\", false_pos_rate)\n",
        "print(\"False Negative Rate:\", false_neg_rate)\n",
        "print(\"Accuraccy          :\", accuracy)"
      ],
      "metadata": {
        "colab": {
          "base_uri": "https://localhost:8080/"
        },
        "id": "lV9vT6wDHTit",
        "outputId": "a8bcddec-e945-4289-a0d5-3cb6d9db45bb"
      },
      "execution_count": 38,
      "outputs": [
        {
          "output_type": "stream",
          "name": "stdout",
          "text": [
            "Precision          : 0.81\n",
            "Sensitivity        : 0.96\n",
            "Specificity        : 0.82\n",
            "F1-Score           : 0.88\n",
            "False Positive Rate: 0.18\n",
            "False Negative Rate: 0.04\n",
            "Accuraccy          : 0.88\n"
          ]
        }
      ]
    },
    {
      "cell_type": "code",
      "source": [
        "from tabulate import tabulate\n",
        "\n",
        "data = [[\"Precision\", 0.81], \n",
        "        [\"Sensitivity\", 0.96], \n",
        "        [\"Specificity\", 0.82], \n",
        "        [\"F1-Score\", 0.88],\n",
        "        [\"False Positive Rate\", 0.18],\n",
        "        [\"False Negative Rate\", 0.04],\n",
        "        [\"Accuraccy\",0.88 ]]\n",
        "\n",
        "col_names = [\"Performance Metrics\", \"Result\"]\n",
        "print(tabulate(data, headers=col_names, tablefmt=\"fancy_grid\"))"
      ],
      "metadata": {
        "colab": {
          "base_uri": "https://localhost:8080/"
        },
        "id": "lP45w4wJHbq1",
        "outputId": "4ad24b2c-141e-4c8b-f81b-f54971494079"
      },
      "execution_count": 39,
      "outputs": [
        {
          "output_type": "stream",
          "name": "stdout",
          "text": [
            "╒═══════════════════════╤══════════╕\n",
            "│ Performance Metrics   │   Result │\n",
            "╞═══════════════════════╪══════════╡\n",
            "│ Precision             │     0.81 │\n",
            "├───────────────────────┼──────────┤\n",
            "│ Sensitivity           │     0.96 │\n",
            "├───────────────────────┼──────────┤\n",
            "│ Specificity           │     0.82 │\n",
            "├───────────────────────┼──────────┤\n",
            "│ F1-Score              │     0.88 │\n",
            "├───────────────────────┼──────────┤\n",
            "│ False Positive Rate   │     0.18 │\n",
            "├───────────────────────┼──────────┤\n",
            "│ False Negative Rate   │     0.04 │\n",
            "├───────────────────────┼──────────┤\n",
            "│ Accuraccy             │     0.88 │\n",
            "╘═══════════════════════╧══════════╛\n"
          ]
        }
      ]
    }
  ]
}