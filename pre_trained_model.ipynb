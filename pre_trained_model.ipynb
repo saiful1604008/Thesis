{
  "nbformat": 4,
  "nbformat_minor": 0,
  "metadata": {
    "colab": {
      "name": "pre-trained_model.ipynb",
      "provenance": [],
      "mount_file_id": "1NmOCubc7zCh3II9fmZis1eqE6KbySY1P",
      "authorship_tag": "ABX9TyMbYNwFh25kpj2UeZ0yln1L",
      "include_colab_link": true
    },
    "kernelspec": {
      "name": "python3",
      "display_name": "Python 3"
    },
    "language_info": {
      "name": "python"
    }
  },
  "cells": [
    {
      "cell_type": "markdown",
      "metadata": {
        "id": "view-in-github",
        "colab_type": "text"
      },
      "source": [
        "<a href=\"https://colab.research.google.com/github/saiful1604008/Thesis/blob/main/pre_trained_model.ipynb\" target=\"_parent\"><img src=\"https://colab.research.google.com/assets/colab-badge.svg\" alt=\"Open In Colab\"/></a>"
      ]
    },
    {
      "cell_type": "code",
      "execution_count": 16,
      "metadata": {
        "id": "SAE5xBzJEhts"
      },
      "outputs": [],
      "source": [
        "import numpy as np \n",
        "import pandas as pd \n",
        "import os\n",
        "import sys\n",
        "import shutil   \n",
        "from keras import backend as K\n",
        "from keras.models import Sequential\n",
        "from keras import optimizers\n",
        "from keras.layers.core import Dense, Dropout, Activation, Flatten\n",
        "from keras.layers.convolutional import Convolution2D, MaxPooling2D\n",
        "from keras.layers import Dense, GlobalAveragePooling2D, Dropout\n",
        "from keras.preprocessing.image import ImageDataGenerator\n",
        "from keras.callbacks import History \n",
        "from sklearn.metrics import classification_report, confusion_matrix\n",
        "import keras\n",
        "from keras.layers.convolutional import Conv2D\n",
        "from keras.layers import Dense\n",
        "from keras.layers.convolutional import MaxPooling2D\n",
        "from keras.layers import Flatten\n",
        "from keras.layers import LeakyReLU\n",
        "import tensorflow as tf"
      ]
    },
    {
      "cell_type": "code",
      "source": [
        "data_dir = \"/content/drive/MyDrive/Dataset_epiliptic_seizure/\"\n",
        "num_classes = 2"
      ],
      "metadata": {
        "id": "Znu3hq7UEvxP"
      },
      "execution_count": 3,
      "outputs": []
    },
    {
      "cell_type": "code",
      "source": [
        "train_datagen = ImageDataGenerator(rescale=1. / 255,\n",
        "                                   rotation_range=40,\n",
        "                                   width_shift_range=0.2,\n",
        "                                   height_shift_range=0.2,\n",
        "                                   shear_range=0.2,\n",
        "                                   zoom_range=0.2,\n",
        "                                   horizontal_flip=True,\n",
        "                                   fill_mode='nearest')\n",
        "\n",
        "val_datagen = ImageDataGenerator(rescale=1. / 255)"
      ],
      "metadata": {
        "id": "sNtMwxBwE5ae"
      },
      "execution_count": 4,
      "outputs": []
    },
    {
      "cell_type": "code",
      "source": [
        "batch_size = 16\n",
        "learning_rate = 0.0001\n",
        "epoch = 50\n"
      ],
      "metadata": {
        "id": "pogFKyqvKRvl"
      },
      "execution_count": 103,
      "outputs": []
    },
    {
      "cell_type": "code",
      "source": [
        "datagen = ImageDataGenerator(\n",
        "    rescale = 1.0/255,\n",
        "    validation_split = 0.2\n",
        ")\n",
        "\n",
        "train_gen = datagen.flow_from_directory(\n",
        "    directory= data_dir,\n",
        "    target_size = (125,125),\n",
        "    batch_size = 30,\n",
        "    color_mode = 'rgb',\n",
        "    shuffle = True,\n",
        "    subset = 'training',\n",
        "    class_mode = 'binary'\n",
        ")\n",
        "\n",
        "valid_gen = datagen.flow_from_directory(\n",
        "    directory= data_dir,\n",
        "    target_size = (125,125),\n",
        "    batch_size = 30,\n",
        "    color_mode = 'rgb',\n",
        "    shuffle = True,\n",
        "    subset = 'validation',\n",
        "    class_mode = 'binary'\n",
        "\n",
        ")"
      ],
      "metadata": {
        "colab": {
          "base_uri": "https://localhost:8080/"
        },
        "id": "gPrEhDOqFCgA",
        "outputId": "da10f504-e27c-4854-8d6e-4d96ddcfbe19"
      },
      "execution_count": 11,
      "outputs": [
        {
          "output_type": "stream",
          "name": "stdout",
          "text": [
            "Found 498 images belonging to 2 classes.\n",
            "Found 123 images belonging to 2 classes.\n"
          ]
        }
      ]
    },
    {
      "cell_type": "code",
      "source": [
        "resnet_model = Sequential()\n",
        "\n",
        "pretrained_model= tf.keras.applications.ResNet50(include_top=False,\n",
        "                   input_shape=(125,125,3),\n",
        "                   pooling='max',classes=2,\n",
        "                   weights='imagenet')\n",
        "for layer in pretrained_model.layers:\n",
        "        layer.trainable=False\n",
        "\n",
        "resnet_model.add(pretrained_model)"
      ],
      "metadata": {
        "id": "WFyfsHufGCJg"
      },
      "execution_count": 86,
      "outputs": []
    },
    {
      "cell_type": "code",
      "source": [
        "from tensorflow import keras"
      ],
      "metadata": {
        "id": "GQhacd9DG3K_"
      },
      "execution_count": 87,
      "outputs": []
    },
    {
      "cell_type": "code",
      "source": [
        "resnet_model.add(keras.layers.Flatten())\n",
        "resnet_model.add(keras.layers.Dense(128,activation = 'relu'))\n",
        "resnet_model.add(keras.layers.Dense(2,activation='softmax'))"
      ],
      "metadata": {
        "id": "-1bGJj1qGP4d"
      },
      "execution_count": 91,
      "outputs": []
    },
    {
      "cell_type": "code",
      "source": [
        "resnet_model.summary()"
      ],
      "metadata": {
        "colab": {
          "base_uri": "https://localhost:8080/"
        },
        "id": "zWI9miqvG_E1",
        "outputId": "482b759d-a2f9-4017-cabc-b12f8c64fda0"
      },
      "execution_count": 92,
      "outputs": [
        {
          "output_type": "stream",
          "name": "stdout",
          "text": [
            "Model: \"sequential_2\"\n",
            "_________________________________________________________________\n",
            " Layer (type)                Output Shape              Param #   \n",
            "=================================================================\n",
            " resnet50 (Functional)       (None, 2048)              23587712  \n",
            "                                                                 \n",
            " flatten_1 (Flatten)         (None, 2048)              0         \n",
            "                                                                 \n",
            " dense_2 (Dense)             (None, 512)               1049088   \n",
            "                                                                 \n",
            " dense_3 (Dense)             (None, 2)                 1026      \n",
            "                                                                 \n",
            " flatten_2 (Flatten)         (None, 2)                 0         \n",
            "                                                                 \n",
            " dense_4 (Dense)             (None, 256)               768       \n",
            "                                                                 \n",
            " dense_5 (Dense)             (None, 128)               32896     \n",
            "                                                                 \n",
            " dense_6 (Dense)             (None, 2)                 258       \n",
            "                                                                 \n",
            "=================================================================\n",
            "Total params: 24,671,748\n",
            "Trainable params: 1,084,036\n",
            "Non-trainable params: 23,587,712\n",
            "_________________________________________________________________\n"
          ]
        }
      ]
    },
    {
      "cell_type": "code",
      "source": [
        "from tensorflow.keras.optimizers import Adam\n",
        "resnet_model.compile(loss=\"sparse_categorical_crossentropy\",\n",
        "              optimizer=Adam(lr = learning_rate),\n",
        "              metrics=[\"accuracy\"])"
      ],
      "metadata": {
        "colab": {
          "base_uri": "https://localhost:8080/"
        },
        "id": "KvnGMPkQHDPw",
        "outputId": "64fec503-5733-4ab3-9fef-e2599c2c5df8"
      },
      "execution_count": 102,
      "outputs": [
        {
          "output_type": "stream",
          "name": "stderr",
          "text": [
            "/usr/local/lib/python3.7/dist-packages/keras/optimizer_v2/adam.py:105: UserWarning: The `lr` argument is deprecated, use `learning_rate` instead.\n",
            "  super(Adam, self).__init__(name, **kwargs)\n"
          ]
        }
      ]
    },
    {
      "cell_type": "code",
      "source": [
        "history = resnet_model.fit(train_gen, validation_data=valid_gen, epochs=epoch)"
      ],
      "metadata": {
        "colab": {
          "base_uri": "https://localhost:8080/"
        },
        "id": "mK5WthfJHKWn",
        "outputId": "9f153d2d-4e55-436b-bc2b-c14c9509d6da"
      },
      "execution_count": 104,
      "outputs": [
        {
          "output_type": "stream",
          "name": "stdout",
          "text": [
            "Epoch 1/50\n",
            "17/17 [==============================] - 38s 2s/step - loss: 0.6928 - accuracy: 0.4900 - val_loss: 0.6911 - val_accuracy: 0.4959\n",
            "Epoch 2/50\n",
            "17/17 [==============================] - 34s 2s/step - loss: 0.6759 - accuracy: 0.7329 - val_loss: 0.6769 - val_accuracy: 0.6341\n",
            "Epoch 3/50\n",
            "17/17 [==============================] - 34s 2s/step - loss: 0.6272 - accuracy: 0.9458 - val_loss: 0.6472 - val_accuracy: 0.7073\n",
            "Epoch 4/50\n",
            "17/17 [==============================] - 34s 2s/step - loss: 0.5560 - accuracy: 0.9578 - val_loss: 0.6194 - val_accuracy: 0.7154\n",
            "Epoch 5/50\n",
            "17/17 [==============================] - 34s 2s/step - loss: 0.4843 - accuracy: 0.9598 - val_loss: 0.6054 - val_accuracy: 0.6992\n",
            "Epoch 6/50\n",
            "17/17 [==============================] - 36s 2s/step - loss: 0.4215 - accuracy: 0.9659 - val_loss: 0.5930 - val_accuracy: 0.7236\n",
            "Epoch 7/50\n",
            "17/17 [==============================] - 35s 2s/step - loss: 0.3641 - accuracy: 0.9659 - val_loss: 0.5912 - val_accuracy: 0.7154\n",
            "Epoch 8/50\n",
            "17/17 [==============================] - 34s 2s/step - loss: 0.3146 - accuracy: 0.9659 - val_loss: 0.5963 - val_accuracy: 0.7236\n",
            "Epoch 9/50\n",
            "17/17 [==============================] - 34s 2s/step - loss: 0.2726 - accuracy: 0.9639 - val_loss: 0.6106 - val_accuracy: 0.7236\n",
            "Epoch 10/50\n",
            "17/17 [==============================] - 34s 2s/step - loss: 0.2434 - accuracy: 0.9578 - val_loss: 0.6317 - val_accuracy: 0.7154\n",
            "Epoch 11/50\n",
            "17/17 [==============================] - 34s 2s/step - loss: 0.2092 - accuracy: 0.9719 - val_loss: 0.6508 - val_accuracy: 0.7154\n",
            "Epoch 12/50\n",
            "17/17 [==============================] - 34s 2s/step - loss: 0.1842 - accuracy: 0.9739 - val_loss: 0.6854 - val_accuracy: 0.7236\n",
            "Epoch 13/50\n",
            "17/17 [==============================] - 34s 2s/step - loss: 0.1640 - accuracy: 0.9699 - val_loss: 0.7166 - val_accuracy: 0.7154\n",
            "Epoch 14/50\n",
            "17/17 [==============================] - 34s 2s/step - loss: 0.1516 - accuracy: 0.9699 - val_loss: 0.7415 - val_accuracy: 0.7236\n",
            "Epoch 15/50\n",
            "17/17 [==============================] - 35s 2s/step - loss: 0.1324 - accuracy: 0.9719 - val_loss: 0.7788 - val_accuracy: 0.7154\n",
            "Epoch 16/50\n",
            "17/17 [==============================] - 34s 2s/step - loss: 0.1205 - accuracy: 0.9739 - val_loss: 0.8075 - val_accuracy: 0.7236\n",
            "Epoch 17/50\n",
            "17/17 [==============================] - 34s 2s/step - loss: 0.1164 - accuracy: 0.9739 - val_loss: 0.8349 - val_accuracy: 0.7317\n",
            "Epoch 18/50\n",
            "17/17 [==============================] - 34s 2s/step - loss: 0.1150 - accuracy: 0.9679 - val_loss: 0.8453 - val_accuracy: 0.7236\n",
            "Epoch 19/50\n",
            "17/17 [==============================] - 34s 2s/step - loss: 0.0940 - accuracy: 0.9779 - val_loss: 0.8880 - val_accuracy: 0.7154\n",
            "Epoch 20/50\n",
            "17/17 [==============================] - 34s 2s/step - loss: 0.0898 - accuracy: 0.9779 - val_loss: 0.9064 - val_accuracy: 0.7154\n",
            "Epoch 21/50\n",
            "17/17 [==============================] - 34s 2s/step - loss: 0.0874 - accuracy: 0.9779 - val_loss: 0.9259 - val_accuracy: 0.7154\n",
            "Epoch 22/50\n",
            "17/17 [==============================] - 34s 2s/step - loss: 0.0779 - accuracy: 0.9799 - val_loss: 0.9383 - val_accuracy: 0.7154\n",
            "Epoch 23/50\n",
            "17/17 [==============================] - 34s 2s/step - loss: 0.0725 - accuracy: 0.9819 - val_loss: 0.9596 - val_accuracy: 0.7154\n",
            "Epoch 24/50\n",
            "17/17 [==============================] - 34s 2s/step - loss: 0.0733 - accuracy: 0.9779 - val_loss: 0.9638 - val_accuracy: 0.7154\n",
            "Epoch 25/50\n",
            "17/17 [==============================] - 35s 2s/step - loss: 0.0751 - accuracy: 0.9819 - val_loss: 0.9972 - val_accuracy: 0.7398\n",
            "Epoch 26/50\n",
            "17/17 [==============================] - 34s 2s/step - loss: 0.0627 - accuracy: 0.9839 - val_loss: 0.9974 - val_accuracy: 0.7154\n",
            "Epoch 27/50\n",
            "17/17 [==============================] - 34s 2s/step - loss: 0.0624 - accuracy: 0.9799 - val_loss: 0.9865 - val_accuracy: 0.7236\n",
            "Epoch 28/50\n",
            "17/17 [==============================] - 34s 2s/step - loss: 0.0572 - accuracy: 0.9859 - val_loss: 1.0067 - val_accuracy: 0.7236\n",
            "Epoch 29/50\n",
            "17/17 [==============================] - 34s 2s/step - loss: 0.0581 - accuracy: 0.9819 - val_loss: 1.0525 - val_accuracy: 0.7398\n",
            "Epoch 30/50\n",
            "17/17 [==============================] - 34s 2s/step - loss: 0.0556 - accuracy: 0.9900 - val_loss: 1.0493 - val_accuracy: 0.7236\n",
            "Epoch 31/50\n",
            "17/17 [==============================] - 34s 2s/step - loss: 0.0530 - accuracy: 0.9880 - val_loss: 1.0640 - val_accuracy: 0.7398\n",
            "Epoch 32/50\n",
            "17/17 [==============================] - 34s 2s/step - loss: 0.0492 - accuracy: 0.9900 - val_loss: 1.0784 - val_accuracy: 0.7398\n",
            "Epoch 33/50\n",
            "17/17 [==============================] - 36s 2s/step - loss: 0.0501 - accuracy: 0.9880 - val_loss: 1.0657 - val_accuracy: 0.7317\n",
            "Epoch 34/50\n",
            "17/17 [==============================] - 34s 2s/step - loss: 0.0589 - accuracy: 0.9759 - val_loss: 1.0369 - val_accuracy: 0.7236\n",
            "Epoch 35/50\n",
            "17/17 [==============================] - 34s 2s/step - loss: 0.0440 - accuracy: 0.9920 - val_loss: 1.0740 - val_accuracy: 0.7317\n",
            "Epoch 36/50\n",
            "17/17 [==============================] - 34s 2s/step - loss: 0.0521 - accuracy: 0.9819 - val_loss: 1.0942 - val_accuracy: 0.7317\n",
            "Epoch 37/50\n",
            "17/17 [==============================] - 34s 2s/step - loss: 0.0424 - accuracy: 0.9900 - val_loss: 1.0804 - val_accuracy: 0.7398\n",
            "Epoch 38/50\n",
            "17/17 [==============================] - 35s 2s/step - loss: 0.0375 - accuracy: 0.9920 - val_loss: 1.1054 - val_accuracy: 0.7480\n",
            "Epoch 39/50\n",
            "17/17 [==============================] - 34s 2s/step - loss: 0.0359 - accuracy: 0.9940 - val_loss: 1.0941 - val_accuracy: 0.7398\n",
            "Epoch 40/50\n",
            "17/17 [==============================] - 34s 2s/step - loss: 0.0328 - accuracy: 0.9940 - val_loss: 1.0697 - val_accuracy: 0.7236\n",
            "Epoch 41/50\n",
            "17/17 [==============================] - 34s 2s/step - loss: 0.0352 - accuracy: 0.9940 - val_loss: 1.1227 - val_accuracy: 0.7561\n",
            "Epoch 42/50\n",
            "17/17 [==============================] - 36s 2s/step - loss: 0.0302 - accuracy: 0.9920 - val_loss: 1.0739 - val_accuracy: 0.7236\n",
            "Epoch 43/50\n",
            "17/17 [==============================] - 34s 2s/step - loss: 0.0293 - accuracy: 0.9920 - val_loss: 1.1385 - val_accuracy: 0.7398\n",
            "Epoch 44/50\n",
            "17/17 [==============================] - 34s 2s/step - loss: 0.0298 - accuracy: 0.9920 - val_loss: 1.1728 - val_accuracy: 0.7480\n",
            "Epoch 45/50\n",
            "17/17 [==============================] - 34s 2s/step - loss: 0.0331 - accuracy: 0.9920 - val_loss: 1.1988 - val_accuracy: 0.7480\n",
            "Epoch 46/50\n",
            "17/17 [==============================] - 41s 2s/step - loss: 0.0349 - accuracy: 0.9859 - val_loss: 1.1163 - val_accuracy: 0.7398\n",
            "Epoch 47/50\n",
            "17/17 [==============================] - 35s 2s/step - loss: 0.0274 - accuracy: 0.9940 - val_loss: 1.1096 - val_accuracy: 0.7317\n",
            "Epoch 48/50\n",
            "17/17 [==============================] - 34s 2s/step - loss: 0.0218 - accuracy: 0.9980 - val_loss: 1.2196 - val_accuracy: 0.7480\n",
            "Epoch 49/50\n",
            "17/17 [==============================] - 34s 2s/step - loss: 0.0223 - accuracy: 0.9980 - val_loss: 1.1446 - val_accuracy: 0.7398\n",
            "Epoch 50/50\n",
            "17/17 [==============================] - 34s 2s/step - loss: 0.0226 - accuracy: 0.9960 - val_loss: 1.1353 - val_accuracy: 0.7398\n"
          ]
        }
      ]
    },
    {
      "cell_type": "code",
      "source": [
        "resnet_model.evaluate(valid_gen)"
      ],
      "metadata": {
        "colab": {
          "base_uri": "https://localhost:8080/"
        },
        "id": "qNK7_UwQfQpN",
        "outputId": "0966e975-81ed-4108-eedc-137456b67f32"
      },
      "execution_count": 105,
      "outputs": [
        {
          "output_type": "stream",
          "name": "stdout",
          "text": [
            "5/5 [==============================] - 7s 1s/step - loss: 1.1353 - accuracy: 0.7398\n"
          ]
        },
        {
          "output_type": "execute_result",
          "data": {
            "text/plain": [
              "[1.1353082656860352, 0.7398374080657959]"
            ]
          },
          "metadata": {},
          "execution_count": 105
        }
      ]
    },
    {
      "cell_type": "code",
      "source": [
        "import matplotlib.pyplot as plt\n",
        "\n",
        "plt.plot(history.history['accuracy'], label='accuracy')\n",
        "plt.plot(history.history['val_accuracy'], label='validation_accuracy')\n",
        "plt.legend()\n",
        "plt.ylabel('\\nAccuracy')\n",
        "plt.xlabel('\\nEpochs')\n",
        "plt.grid()\n",
        "plt.show()\n"
      ],
      "metadata": {
        "colab": {
          "base_uri": "https://localhost:8080/",
          "height": 291
        },
        "id": "YN5p5aURIjvx",
        "outputId": "e0c8a954-dc6b-4c2d-c7f9-75999cfd02f6"
      },
      "execution_count": 106,
      "outputs": [
        {
          "output_type": "display_data",
          "data": {
            "text/plain": [
              "<Figure size 432x288 with 1 Axes>"
            ],
            "image/png": "[encoded data removed]"
          },
          "metadata": {
            "needs_background": "light"
          }
        }
      ]
    },
    {
      "cell_type": "code",
      "source": [
        "\n",
        "plt.plot(history.history['loss'])\n",
        "plt.plot(history.history['val_loss'])\n",
        "plt.axis(ymin=0,ymax=3)\n",
        "plt.grid()\n",
        "plt.title('Model Loss')\n",
        "plt.ylabel('Loss')\n",
        "plt.xlabel('Epochs')\n",
        "plt.legend(['train', 'validation'])\n",
        "plt.show()"
      ],
      "metadata": {
        "colab": {
          "base_uri": "https://localhost:8080/",
          "height": 295
        },
        "id": "m3v1nN93LC7Q",
        "outputId": "2ccee0f1-032b-441d-d7d3-52decfbb9074"
      },
      "execution_count": 110,
      "outputs": [
        {
          "output_type": "display_data",
          "data": {
            "text/plain": [
              "<Figure size 432x288 with 1 Axes>"
            ],
            "image/png": "[encoded data removed]"
          },
          "metadata": {
            "needs_background": "light"
          }
        }
      ]
    },
    {
      "cell_type": "code",
      "source": [
        "training_accuracy_resnet      = history.history['accuracy'][-1]\n",
        "training_loss_resnet          = history.history['loss'][-1]\n",
        "validation_accuracy_resnet    = history.history['val_accuracy'][-1]\n",
        "validation_loss_resnet        = history.history['val_loss'][-1]\n",
        "\n",
        "\n",
        "print(\"Training Accuracy ResNet   :\", training_accuracy_resnet )\n",
        "print(\"Training Loss ResNet       :\", training_loss_resnet)\n",
        "print(\"Validation Accuracy ResNet :\", validation_accuracy_resnet)\n",
        "print(\"Validation Loss ResNet     :\", validation_loss_resnet)"
      ],
      "metadata": {
        "colab": {
          "base_uri": "https://localhost:8080/"
        },
        "id": "61JQckfPo1yQ",
        "outputId": "5f5bd699-c970-4181-edaa-72037f0cd830"
      },
      "execution_count": 111,
      "outputs": [
        {
          "output_type": "stream",
          "name": "stdout",
          "text": [
            "Training Accuracy ResNet   : 0.9959839582443237\n",
            "Training Loss ResNet       : 0.02263709157705307\n",
            "Validation Accuracy ResNet : 0.7398374080657959\n",
            "Validation Loss ResNet     : 1.1353081464767456\n"
          ]
        }
      ]
    },
    {
      "cell_type": "code",
      "source": [
        "# Generating Confusion Matrix and Classification Report\n",
        "\n",
        "Y_pred_res = resnet_model.predict_generator(valid_gen)\n",
        "y_pred_res = np.argmax(Y_pred_res, axis=1)\n",
        "print('Confusion Matrix')\n",
        "conf_matrix_res = confusion_matrix(valid_gen.classes, y_pred_res)\n",
        "cm_res = np.array2string(conf_matrix_res)\n",
        "print(conf_matrix_res)\n",
        "\n",
        "print('Classification Report')\n",
        "target_names = ['Normal', 'Seizure']\n",
        "class_rep_res = classification_report(valid_gen.classes, y_pred_res, target_names=target_names)\n",
        "print(class_rep_res)"
      ],
      "metadata": {
        "colab": {
          "base_uri": "https://localhost:8080/"
        },
        "id": "bE77CS_zTtlZ",
        "outputId": "f4a26928-1bad-4039-b013-fb0547030f92"
      },
      "execution_count": 194,
      "outputs": [
        {
          "output_type": "stream",
          "name": "stderr",
          "text": [
            "/usr/local/lib/python3.7/dist-packages/ipykernel_launcher.py:3: UserWarning: `Model.predict_generator` is deprecated and will be removed in a future version. Please use `Model.predict`, which supports generators.\n",
            "  This is separate from the ipykernel package so we can avoid doing imports until\n"
          ]
        },
        {
          "output_type": "stream",
          "name": "stdout",
          "text": [
            "Confusion Matrix\n",
            "[[28 33]\n",
            " [11 51]]\n",
            "Classification Report\n",
            "              precision    recall  f1-score   support\n",
            "\n",
            "      Normal       0.72      0.46      0.56        61\n",
            "     Seizure       0.61      0.82      0.70        62\n",
            "\n",
            "    accuracy                           0.64       123\n",
            "   macro avg       0.66      0.64      0.63       123\n",
            "weighted avg       0.66      0.64      0.63       123\n",
            "\n"
          ]
        }
      ]
    }
  ]
}