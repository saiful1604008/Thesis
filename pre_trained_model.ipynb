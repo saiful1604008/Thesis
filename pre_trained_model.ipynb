{
  "nbformat": 4,
  "nbformat_minor": 0,
  "metadata": {
    "colab": {
      "name": "pre-trained_model.ipynb",
      "provenance": [],
      "mount_file_id": "1NmOCubc7zCh3II9fmZis1eqE6KbySY1P",
      "authorship_tag": "ABX9TyNUiAwujoH3Ld/xCAxoSegI",
      "include_colab_link": true
    },
    "kernelspec": {
      "name": "python3",
      "display_name": "Python 3"
    },
    "language_info": {
      "name": "python"
    }
  },
  "cells": [
    {
      "cell_type": "markdown",
      "metadata": {
        "id": "view-in-github",
        "colab_type": "text"
      },
      "source": [
        "<a href=\"https://colab.research.google.com/github/saiful1604008/Thesis/blob/main/pre_trained_model.ipynb\" target=\"_parent\"><img src=\"https://colab.research.google.com/assets/colab-badge.svg\" alt=\"Open In Colab\"/></a>"
      ]
    },
    {
      "cell_type": "code",
      "execution_count": 1,
      "metadata": {
        "id": "SAE5xBzJEhts"
      },
      "outputs": [],
      "source": [
        "import matplotlib.pyplot as plt\n",
        "import numpy as np\n",
        "import PIL\n",
        "import tensorflow as tf\n",
        "from tensorflow.keras.models import Sequential\n",
        "from tensorflow.keras.optimizers import Adam"
      ]
    },
    {
      "cell_type": "code",
      "source": [
        "data_dir = \"/content/drive/MyDrive/Dataset_epiliptic_seizure/\"\n",
        "num_classes = 2"
      ],
      "metadata": {
        "id": "Znu3hq7UEvxP"
      },
      "execution_count": 2,
      "outputs": []
    },
    {
      "cell_type": "code",
      "source": [
        "img_height,img_width=125,125\n",
        "batch_size=32\n",
        "train_ds = tf.keras.preprocessing.image_dataset_from_directory(\n",
        "  data_dir,\n",
        "  validation_split=0.1,\n",
        "  subset=\"training\",\n",
        "  seed=123,\n",
        "  image_size=(img_height, img_width),\n",
        "  batch_size=batch_size)"
      ],
      "metadata": {
        "colab": {
          "base_uri": "https://localhost:8080/"
        },
        "id": "sNtMwxBwE5ae",
        "outputId": "11193d9a-d564-4d0a-f491-bead5c8869aa"
      },
      "execution_count": 3,
      "outputs": [
        {
          "output_type": "stream",
          "name": "stdout",
          "text": [
            "Found 621 files belonging to 2 classes.\n",
            "Using 559 files for training.\n"
          ]
        }
      ]
    },
    {
      "cell_type": "code",
      "source": [
        "val_ds = tf.keras.preprocessing.image_dataset_from_directory(\n",
        "  data_dir,\n",
        "  validation_split=0.1,\n",
        "  subset=\"validation\",\n",
        "  seed=123,\n",
        "  image_size=(img_height, img_width),\n",
        "  batch_size=batch_size)"
      ],
      "metadata": {
        "colab": {
          "base_uri": "https://localhost:8080/"
        },
        "id": "gPrEhDOqFCgA",
        "outputId": "1af0aa31-60e4-411d-8f80-a376ab596d02"
      },
      "execution_count": 4,
      "outputs": [
        {
          "output_type": "stream",
          "name": "stdout",
          "text": [
            "Found 621 files belonging to 2 classes.\n",
            "Using 62 files for validation.\n"
          ]
        }
      ]
    },
    {
      "cell_type": "code",
      "source": [
        "resnet_model = Sequential()\n",
        "\n",
        "pretrained_model= tf.keras.applications.ResNet50(include_top=False,\n",
        "                   input_shape=(125,125,3),\n",
        "                   pooling='avg',classes=2,\n",
        "                   weights='imagenet')\n",
        "for layer in pretrained_model.layers:\n",
        "        layer.trainable=False\n",
        "\n",
        "resnet_model.add(pretrained_model)"
      ],
      "metadata": {
        "id": "WFyfsHufGCJg"
      },
      "execution_count": 5,
      "outputs": []
    },
    {
      "cell_type": "code",
      "source": [
        "from tensorflow import keras"
      ],
      "metadata": {
        "id": "GQhacd9DG3K_"
      },
      "execution_count": 6,
      "outputs": []
    },
    {
      "cell_type": "code",
      "source": [
        "resnet_model.add(keras.layers.Flatten())\n",
        "resnet_model.add(keras.layers.Dense(128,activation = 'relu'))\n",
        "resnet_model.add(keras.layers.Dense(2,activation='softmax'))"
      ],
      "metadata": {
        "id": "-1bGJj1qGP4d"
      },
      "execution_count": 7,
      "outputs": []
    },
    {
      "cell_type": "code",
      "source": [
        "resnet_model.summary()"
      ],
      "metadata": {
        "colab": {
          "base_uri": "https://localhost:8080/"
        },
        "id": "zWI9miqvG_E1",
        "outputId": "c121d3fd-5fb0-440a-d64e-a93111c57d0e"
      },
      "execution_count": 8,
      "outputs": [
        {
          "output_type": "stream",
          "name": "stdout",
          "text": [
            "Model: \"sequential\"\n",
            "_________________________________________________________________\n",
            " Layer (type)                Output Shape              Param #   \n",
            "=================================================================\n",
            " resnet50 (Functional)       (None, 2048)              23587712  \n",
            "                                                                 \n",
            " flatten (Flatten)           (None, 2048)              0         \n",
            "                                                                 \n",
            " dense (Dense)               (None, 128)               262272    \n",
            "                                                                 \n",
            " dense_1 (Dense)             (None, 2)                 258       \n",
            "                                                                 \n",
            "=================================================================\n",
            "Total params: 23,850,242\n",
            "Trainable params: 262,530\n",
            "Non-trainable params: 23,587,712\n",
            "_________________________________________________________________\n"
          ]
        }
      ]
    },
    {
      "cell_type": "code",
      "source": [
        "resnet_model.compile(optimizer=Adam(lr=0.001),loss='sparse_categorical_crossentropy',metrics=['accuracy'])"
      ],
      "metadata": {
        "colab": {
          "base_uri": "https://localhost:8080/"
        },
        "id": "KvnGMPkQHDPw",
        "outputId": "ea12de99-a053-4744-bb1d-b0df8c023c7e"
      },
      "execution_count": 9,
      "outputs": [
        {
          "output_type": "stream",
          "name": "stderr",
          "text": [
            "/usr/local/lib/python3.7/dist-packages/keras/optimizer_v2/adam.py:105: UserWarning: The `lr` argument is deprecated, use `learning_rate` instead.\n",
            "  super(Adam, self).__init__(name, **kwargs)\n"
          ]
        }
      ]
    },
    {
      "cell_type": "code",
      "source": [
        "history = resnet_model.fit(train_ds, validation_data=val_ds, epochs=10)"
      ],
      "metadata": {
        "colab": {
          "base_uri": "https://localhost:8080/"
        },
        "id": "mK5WthfJHKWn",
        "outputId": "7f2a524e-a3b9-4db2-cead-6b62ab982e90"
      },
      "execution_count": 10,
      "outputs": [
        {
          "output_type": "stream",
          "name": "stdout",
          "text": [
            "Epoch 1/10\n",
            "18/18 [==============================] - 47s 2s/step - loss: 0.1572 - accuracy: 0.9249 - val_loss: 0.0240 - val_accuracy: 1.0000\n",
            "Epoch 2/10\n",
            "18/18 [==============================] - 31s 2s/step - loss: 0.0634 - accuracy: 0.9803 - val_loss: 0.0342 - val_accuracy: 0.9839\n",
            "Epoch 3/10\n",
            "18/18 [==============================] - 31s 2s/step - loss: 0.0624 - accuracy: 0.9732 - val_loss: 0.0760 - val_accuracy: 0.9516\n",
            "Epoch 4/10\n",
            "18/18 [==============================] - 30s 2s/step - loss: 0.0656 - accuracy: 0.9732 - val_loss: 0.0729 - val_accuracy: 0.9839\n",
            "Epoch 5/10\n",
            "18/18 [==============================] - 31s 2s/step - loss: 0.0585 - accuracy: 0.9767 - val_loss: 0.0588 - val_accuracy: 0.9839\n",
            "Epoch 6/10\n",
            "18/18 [==============================] - 31s 2s/step - loss: 0.0440 - accuracy: 0.9839 - val_loss: 0.0280 - val_accuracy: 1.0000\n",
            "Epoch 7/10\n",
            "18/18 [==============================] - 30s 2s/step - loss: 0.0421 - accuracy: 0.9857 - val_loss: 0.0192 - val_accuracy: 1.0000\n",
            "Epoch 8/10\n",
            "18/18 [==============================] - 30s 2s/step - loss: 0.0391 - accuracy: 0.9839 - val_loss: 0.0611 - val_accuracy: 0.9677\n",
            "Epoch 9/10\n",
            "18/18 [==============================] - 30s 2s/step - loss: 0.0321 - accuracy: 0.9893 - val_loss: 0.0297 - val_accuracy: 1.0000\n",
            "Epoch 10/10\n",
            "18/18 [==============================] - 30s 2s/step - loss: 0.0277 - accuracy: 0.9946 - val_loss: 0.0932 - val_accuracy: 0.9355\n"
          ]
        }
      ]
    },
    {
      "cell_type": "code",
      "source": [
        "fig1 = plt.gcf()\n",
        "plt.plot(history.history['accuracy'])\n",
        "plt.plot(history.history['val_accuracy'])\n",
        "plt.axis(ymin=0.6,ymax=1.2)\n",
        "plt.grid()\n",
        "plt.title('Model Accuracy')\n",
        "plt.ylabel('Accuracy')\n",
        "plt.xlabel('Epochs')\n",
        "plt.legend(['train', 'validation'])\n",
        "plt.show()"
      ],
      "metadata": {
        "colab": {
          "base_uri": "https://localhost:8080/",
          "height": 295
        },
        "id": "YN5p5aURIjvx",
        "outputId": "d52e4009-9f0e-4e54-8953-1c80607fd372"
      },
      "execution_count": 16,
      "outputs": [
        {
          "output_type": "display_data",
          "data": {
            "text/plain": [
              "<Figure size 432x288 with 1 Axes>"
            ],
            "image/png": "[encoded data removed]"
          },
          "metadata": {
            "needs_background": "light"
          }
        }
      ]
    },
    {
      "cell_type": "code",
      "source": [
        "fig2 = plt.gcf()\n",
        "plt.plot(history.history['loss'])\n",
        "plt.plot(history.history['val_loss'])\n",
        "plt.axis(ymin=0,ymax=2)\n",
        "plt.grid()\n",
        "plt.title('Model Loss')\n",
        "plt.ylabel('Loss')\n",
        "plt.xlabel('Epochs')\n",
        "plt.legend(['train', 'validation'])\n",
        "plt.show()"
      ],
      "metadata": {
        "colab": {
          "base_uri": "https://localhost:8080/",
          "height": 295
        },
        "id": "m3v1nN93LC7Q",
        "outputId": "f550c068-cc77-4113-bcab-d56948bad704"
      },
      "execution_count": 19,
      "outputs": [
        {
          "output_type": "display_data",
          "data": {
            "text/plain": [
              "<Figure size 432x288 with 1 Axes>"
            ],
            "image/png": "[encoded data removed]"
          },
          "metadata": {
            "needs_background": "light"
          }
        }
      ]
    },
    {
      "cell_type": "code",
      "source": [
        "training_accuracy_resnet      = history.history['accuracy'][-1]\n",
        "training_loss_resnet          = history.history['loss'][-1]\n",
        "validation_accuracy_resnet    = history.history['val_accuracy'][-1]\n",
        "validation_loss_resnet        = history.history['val_loss'][-1]\n",
        "\n",
        "\n",
        "print(\"Training Accuracy ResNet   :\", training_accuracy_resnet )\n",
        "print(\"Training Loss ResNet       :\", training_loss_resnet)\n",
        "print(\"Validation Accuracy ResNet :\", validation_accuracy_resnet)\n",
        "print(\"Validation Loss ResNet     :\", validation_loss_resnet)"
      ],
      "metadata": {
        "colab": {
          "base_uri": "https://localhost:8080/"
        },
        "id": "61JQckfPo1yQ",
        "outputId": "2f1c0c67-1f87-4c3b-df51-721570555b75"
      },
      "execution_count": 32,
      "outputs": [
        {
          "output_type": "stream",
          "name": "stdout",
          "text": [
            "Training Accuracy ResNet   : 0.9946332573890686\n",
            "Training Loss ResNet       : 0.027661338448524475\n",
            "Validation Accuracy ResNet : 0.9354838728904724\n",
            "Validation Loss ResNet     : 0.09320668876171112\n"
          ]
        }
      ]
    }
  ]
}