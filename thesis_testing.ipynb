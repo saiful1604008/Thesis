{
  "nbformat": 4,
  "nbformat_minor": 0,
  "metadata": {
    "colab": {
      "name": "thesis_testing.ipynb",
      "provenance": [],
      "collapsed_sections": [],
      "mount_file_id": "15mOH4yLzufpDf5SZHli6ocAwraZNx4Rj",
      "authorship_tag": "ABX9TyO+JEu7GXvWj5EoeYMNueqU",
      "include_colab_link": true
    },
    "kernelspec": {
      "name": "python3",
      "display_name": "Python 3"
    },
    "language_info": {
      "name": "python"
    }
  },
  "cells": [
    {
      "cell_type": "markdown",
      "metadata": {
        "id": "view-in-github",
        "colab_type": "text"
      },
      "source": [
        "<a href=\"https://colab.research.google.com/github/saiful1604008/Thesis/blob/main/thesis_testing.ipynb\" target=\"_parent\"><img src=\"https://colab.research.google.com/assets/colab-badge.svg\" alt=\"Open In Colab\"/></a>"
      ]
    },
    {
      "cell_type": "code",
      "source": [
        "import numpy as np\n",
        "import pandas as pd\n",
        "import cv2 as cv\n",
        "import os \n",
        "import matplotlib.pyplot as plt\n",
        "import seaborn as sns\n",
        "\n",
        "import tensorflow as tf\n",
        "from keras.preprocessing.image import ImageDataGenerator\n",
        "\n",
        "from keras.layers import Conv2D,MaxPooling2D,Dropout,Dense,Flatten\n",
        "from keras.models import Sequential\n",
        "from tensorflow.keras.optimizers import Adam"
      ],
      "metadata": {
        "id": "xibSe6D98d2N"
      },
      "execution_count": 1,
      "outputs": []
    },
    {
      "cell_type": "code",
      "source": [
        "data_dir = \"/content/drive/MyDrive/Dataset_epiliptic_seizure/\"\n",
        "num_classes = 2"
      ],
      "metadata": {
        "id": "DQXO2Wrb8gcJ"
      },
      "execution_count": 2,
      "outputs": []
    },
    {
      "cell_type": "code",
      "source": [
        "datagen = ImageDataGenerator(\n",
        "    rescale = 1.0/255,\n",
        "    validation_split = 0.1\n",
        ")\n",
        "\n",
        "train_gen = datagen.flow_from_directory(\n",
        "    directory= data_dir,\n",
        "    target_size = (125,125),\n",
        "    batch_size = 30,\n",
        "    color_mode = 'rgb',\n",
        "    shuffle = True,\n",
        "    subset = 'training',\n",
        "    class_mode = 'binary'\n",
        ")\n",
        "\n",
        "valid_gen = datagen.flow_from_directory(\n",
        "    directory= data_dir,\n",
        "    target_size = (125,125),\n",
        "    batch_size = 30,\n",
        "    color_mode = 'rgb',\n",
        "    shuffle = True,\n",
        "    subset = 'validation',\n",
        "    class_mode = 'binary'\n",
        "\n",
        ")"
      ],
      "metadata": {
        "colab": {
          "base_uri": "https://localhost:8080/"
        },
        "id": "jcfVPgRM8hxp",
        "outputId": "9177ac81-b557-4747-9100-f7e589e059e5"
      },
      "execution_count": 3,
      "outputs": [
        {
          "output_type": "stream",
          "name": "stdout",
          "text": [
            "Found 560 images belonging to 2 classes.\n",
            "Found 61 images belonging to 2 classes.\n"
          ]
        }
      ]
    },
    {
      "cell_type": "code",
      "source": [
        "input_shape = train_gen.image_shape\n",
        "input_shape"
      ],
      "metadata": {
        "colab": {
          "base_uri": "https://localhost:8080/"
        },
        "id": "n1Pxauah8yPX",
        "outputId": "69e88078-dc59-4ef4-8ae0-e68645136de6"
      },
      "execution_count": 4,
      "outputs": [
        {
          "output_type": "execute_result",
          "data": {
            "text/plain": [
              "(125, 125, 3)"
            ]
          },
          "metadata": {},
          "execution_count": 4
        }
      ]
    },
    {
      "cell_type": "code",
      "source": [
        "model = Sequential([\n",
        "                    Conv2D(16,(6,6),\n",
        "                            strides=2,\n",
        "                            activation=\"relu\",\n",
        "                            padding='same',\n",
        "                            input_shape=input_shape),\n",
        "                    MaxPooling2D(pool_size = 2,strides=1),\n",
        "                    Dropout(0.5),\n",
        "                    Conv2D(32,(3,3),\n",
        "                           strides=1,\n",
        "                           padding=\"same\",\n",
        "                           activation=\"relu\"),\n",
        "                    MaxPooling2D(pool_size = 2,strides = 1),\n",
        "                    Dropout(0.5),\n",
        "                    Conv2D(64,(3,3),\n",
        "                           strides=1,\n",
        "                           padding=\"same\",\n",
        "                           activation=\"relu\"),\n",
        "                    MaxPooling2D(pool_size = 2,strides = 1),\n",
        "                    Dropout(0.5),\n",
        "                    Conv2D(128,(3,3),\n",
        "                           strides=1,\n",
        "                           padding=\"same\",\n",
        "                           activation=\"relu\"),\n",
        "                    MaxPooling2D(pool_size = 2,strides = 1),\n",
        "                    Dropout(0.5),\n",
        "                    Flatten(),\n",
        "                    Dense(128,activation = 'relu'),\n",
        "                    Dropout(0.5),\n",
        "                    Dense(2,activation = 'softmax')\n",
        "                    \n",
        "])"
      ],
      "metadata": {
        "id": "1Donx_oY87j7"
      },
      "execution_count": 5,
      "outputs": []
    },
    {
      "cell_type": "code",
      "source": [
        "model.summary()"
      ],
      "metadata": {
        "colab": {
          "base_uri": "https://localhost:8080/"
        },
        "id": "n40sUrN69QtO",
        "outputId": "5532b8ed-a143-4485-c591-761f8c84bf5a"
      },
      "execution_count": 6,
      "outputs": [
        {
          "output_type": "stream",
          "name": "stdout",
          "text": [
            "Model: \"sequential\"\n",
            "_________________________________________________________________\n",
            " Layer (type)                Output Shape              Param #   \n",
            "=================================================================\n",
            " conv2d (Conv2D)             (None, 63, 63, 16)        1744      \n",
            "                                                                 \n",
            " max_pooling2d (MaxPooling2D  (None, 62, 62, 16)       0         \n",
            " )                                                               \n",
            "                                                                 \n",
            " dropout (Dropout)           (None, 62, 62, 16)        0         \n",
            "                                                                 \n",
            " conv2d_1 (Conv2D)           (None, 62, 62, 32)        4640      \n",
            "                                                                 \n",
            " max_pooling2d_1 (MaxPooling  (None, 61, 61, 32)       0         \n",
            " 2D)                                                             \n",
            "                                                                 \n",
            " dropout_1 (Dropout)         (None, 61, 61, 32)        0         \n",
            "                                                                 \n",
            " conv2d_2 (Conv2D)           (None, 61, 61, 64)        18496     \n",
            "                                                                 \n",
            " max_pooling2d_2 (MaxPooling  (None, 60, 60, 64)       0         \n",
            " 2D)                                                             \n",
            "                                                                 \n",
            " dropout_2 (Dropout)         (None, 60, 60, 64)        0         \n",
            "                                                                 \n",
            " conv2d_3 (Conv2D)           (None, 60, 60, 128)       73856     \n",
            "                                                                 \n",
            " max_pooling2d_3 (MaxPooling  (None, 59, 59, 128)      0         \n",
            " 2D)                                                             \n",
            "                                                                 \n",
            " dropout_3 (Dropout)         (None, 59, 59, 128)       0         \n",
            "                                                                 \n",
            " flatten (Flatten)           (None, 445568)            0         \n",
            "                                                                 \n",
            " dense (Dense)               (None, 128)               57032832  \n",
            "                                                                 \n",
            " dropout_4 (Dropout)         (None, 128)               0         \n",
            "                                                                 \n",
            " dense_1 (Dense)             (None, 2)                 258       \n",
            "                                                                 \n",
            "=================================================================\n",
            "Total params: 57,131,826\n",
            "Trainable params: 57,131,826\n",
            "Non-trainable params: 0\n",
            "_________________________________________________________________\n"
          ]
        }
      ]
    },
    {
      "cell_type": "code",
      "source": [
        "from keras.callbacks import EarlyStopping"
      ],
      "metadata": {
        "id": "t4cV1G_o9f_s"
      },
      "execution_count": 7,
      "outputs": []
    },
    {
      "cell_type": "code",
      "source": [
        "callback_list = EarlyStopping(monitor = 'val_loss',\n",
        "                              patience = 20,\n",
        "                              restore_best_weights=True)"
      ],
      "metadata": {
        "id": "k99abAZP9jKj"
      },
      "execution_count": 8,
      "outputs": []
    },
    {
      "cell_type": "code",
      "source": [
        "model.compile(loss = 'sparse_categorical_crossentropy',\n",
        "              optimizer = Adam(learning_rate = 0.0001),\n",
        "              metrics = ['accuracy'])"
      ],
      "metadata": {
        "id": "T0L2MiuR9lsb"
      },
      "execution_count": 9,
      "outputs": []
    },
    {
      "cell_type": "code",
      "source": [
        "Epoch = 100\n",
        "batchSize = 32\n",
        "\n",
        "history = model.fit(train_gen,\n",
        "                    batch_size = batchSize,\n",
        "                    epochs=Epoch,\n",
        "                    callbacks=[callback_list],\n",
        "                    validation_data=valid_gen,\n",
        "                    verbose = 1)"
      ],
      "metadata": {
        "colab": {
          "base_uri": "https://localhost:8080/"
        },
        "id": "TgjW-wT-9oer",
        "outputId": "e459faae-c4aa-42d7-bd52-2a1fc3e169ee"
      },
      "execution_count": 10,
      "outputs": [
        {
          "output_type": "stream",
          "name": "stdout",
          "text": [
            "Epoch 1/100\n",
            "19/19 [==============================] - 88s 4s/step - loss: 8.1735 - accuracy: 0.4661 - val_loss: 0.6902 - val_accuracy: 0.4918\n",
            "Epoch 2/100\n",
            "19/19 [==============================] - 58s 3s/step - loss: 0.9220 - accuracy: 0.5375 - val_loss: 0.6928 - val_accuracy: 0.4918\n",
            "Epoch 3/100\n",
            "19/19 [==============================] - 57s 3s/step - loss: 0.6979 - accuracy: 0.4929 - val_loss: 0.6927 - val_accuracy: 0.5082\n",
            "Epoch 4/100\n",
            "19/19 [==============================] - 59s 3s/step - loss: 0.6828 - accuracy: 0.4911 - val_loss: 0.6927 - val_accuracy: 0.7049\n",
            "Epoch 5/100\n",
            "19/19 [==============================] - 56s 3s/step - loss: 0.6793 - accuracy: 0.5250 - val_loss: 0.6928 - val_accuracy: 0.5082\n",
            "Epoch 6/100\n",
            "19/19 [==============================] - 55s 3s/step - loss: 0.6705 - accuracy: 0.5036 - val_loss: 0.6922 - val_accuracy: 0.6721\n",
            "Epoch 7/100\n",
            "19/19 [==============================] - 56s 3s/step - loss: 0.6669 - accuracy: 0.4821 - val_loss: 0.6924 - val_accuracy: 0.7705\n",
            "Epoch 8/100\n",
            "19/19 [==============================] - 56s 3s/step - loss: 0.6541 - accuracy: 0.5125 - val_loss: 0.6918 - val_accuracy: 0.6885\n",
            "Epoch 9/100\n",
            "19/19 [==============================] - 56s 3s/step - loss: 0.6376 - accuracy: 0.5839 - val_loss: 0.6898 - val_accuracy: 0.7213\n",
            "Epoch 10/100\n",
            "19/19 [==============================] - 56s 3s/step - loss: 0.6099 - accuracy: 0.6750 - val_loss: 0.6885 - val_accuracy: 0.6885\n",
            "Epoch 11/100\n",
            "19/19 [==============================] - 56s 3s/step - loss: 0.5648 - accuracy: 0.7714 - val_loss: 0.6831 - val_accuracy: 0.6885\n",
            "Epoch 12/100\n",
            "19/19 [==============================] - 55s 3s/step - loss: 0.4815 - accuracy: 0.8375 - val_loss: 0.6671 - val_accuracy: 0.7213\n",
            "Epoch 13/100\n",
            "19/19 [==============================] - 58s 3s/step - loss: 0.3858 - accuracy: 0.8571 - val_loss: 0.6277 - val_accuracy: 0.7213\n",
            "Epoch 14/100\n",
            "19/19 [==============================] - 57s 3s/step - loss: 0.3791 - accuracy: 0.8482 - val_loss: 0.6188 - val_accuracy: 0.7213\n",
            "Epoch 15/100\n",
            "19/19 [==============================] - 57s 3s/step - loss: 0.3135 - accuracy: 0.8893 - val_loss: 0.5866 - val_accuracy: 0.7377\n",
            "Epoch 16/100\n",
            "19/19 [==============================] - 57s 3s/step - loss: 0.3133 - accuracy: 0.8679 - val_loss: 0.5568 - val_accuracy: 0.7377\n",
            "Epoch 17/100\n",
            "19/19 [==============================] - 57s 3s/step - loss: 0.3064 - accuracy: 0.8893 - val_loss: 0.5699 - val_accuracy: 0.7541\n",
            "Epoch 18/100\n",
            "19/19 [==============================] - 59s 3s/step - loss: 0.3048 - accuracy: 0.9089 - val_loss: 0.5271 - val_accuracy: 0.7705\n",
            "Epoch 19/100\n",
            "19/19 [==============================] - 57s 3s/step - loss: 0.2582 - accuracy: 0.9232 - val_loss: 0.5213 - val_accuracy: 0.7869\n",
            "Epoch 20/100\n",
            "19/19 [==============================] - 56s 3s/step - loss: 0.2713 - accuracy: 0.8911 - val_loss: 0.4805 - val_accuracy: 0.7705\n",
            "Epoch 21/100\n",
            "19/19 [==============================] - 56s 3s/step - loss: 0.2746 - accuracy: 0.9018 - val_loss: 0.4887 - val_accuracy: 0.8033\n",
            "Epoch 22/100\n",
            "19/19 [==============================] - 56s 3s/step - loss: 0.2408 - accuracy: 0.9107 - val_loss: 0.4779 - val_accuracy: 0.8197\n",
            "Epoch 23/100\n",
            "19/19 [==============================] - 54s 3s/step - loss: 0.2243 - accuracy: 0.9089 - val_loss: 0.4363 - val_accuracy: 0.7541\n",
            "Epoch 24/100\n",
            "19/19 [==============================] - 55s 3s/step - loss: 0.2604 - accuracy: 0.9107 - val_loss: 0.4824 - val_accuracy: 0.8361\n",
            "Epoch 25/100\n",
            "19/19 [==============================] - 55s 3s/step - loss: 0.2314 - accuracy: 0.9071 - val_loss: 0.4292 - val_accuracy: 0.8689\n",
            "Epoch 26/100\n",
            "19/19 [==============================] - 56s 3s/step - loss: 0.1839 - accuracy: 0.9268 - val_loss: 0.4010 - val_accuracy: 0.8852\n",
            "Epoch 27/100\n",
            "19/19 [==============================] - 55s 3s/step - loss: 0.1569 - accuracy: 0.9393 - val_loss: 0.3735 - val_accuracy: 0.8525\n",
            "Epoch 28/100\n",
            "19/19 [==============================] - 54s 3s/step - loss: 0.1869 - accuracy: 0.9304 - val_loss: 0.3711 - val_accuracy: 0.9016\n",
            "Epoch 29/100\n",
            "19/19 [==============================] - 54s 3s/step - loss: 0.1439 - accuracy: 0.9482 - val_loss: 0.3497 - val_accuracy: 0.9016\n",
            "Epoch 30/100\n",
            "19/19 [==============================] - 59s 3s/step - loss: 0.1403 - accuracy: 0.9518 - val_loss: 0.3539 - val_accuracy: 0.9672\n",
            "Epoch 31/100\n",
            "19/19 [==============================] - 58s 3s/step - loss: 0.1419 - accuracy: 0.9357 - val_loss: 0.3336 - val_accuracy: 0.9508\n",
            "Epoch 32/100\n",
            "19/19 [==============================] - 55s 3s/step - loss: 0.1205 - accuracy: 0.9464 - val_loss: 0.3195 - val_accuracy: 0.9016\n",
            "Epoch 33/100\n",
            "19/19 [==============================] - 55s 3s/step - loss: 0.1277 - accuracy: 0.9482 - val_loss: 0.3238 - val_accuracy: 0.9836\n",
            "Epoch 34/100\n",
            "19/19 [==============================] - 56s 3s/step - loss: 0.1346 - accuracy: 0.9536 - val_loss: 0.3073 - val_accuracy: 0.9836\n",
            "Epoch 35/100\n",
            "19/19 [==============================] - 54s 3s/step - loss: 0.1015 - accuracy: 0.9661 - val_loss: 0.2972 - val_accuracy: 1.0000\n",
            "Epoch 36/100\n",
            "19/19 [==============================] - 54s 3s/step - loss: 0.1333 - accuracy: 0.9411 - val_loss: 0.2878 - val_accuracy: 0.9180\n",
            "Epoch 37/100\n",
            "19/19 [==============================] - 54s 3s/step - loss: 0.1272 - accuracy: 0.9446 - val_loss: 0.2641 - val_accuracy: 0.9344\n",
            "Epoch 38/100\n",
            "19/19 [==============================] - 54s 3s/step - loss: 0.1879 - accuracy: 0.9232 - val_loss: 0.3190 - val_accuracy: 0.9672\n",
            "Epoch 39/100\n",
            "19/19 [==============================] - 54s 3s/step - loss: 0.1518 - accuracy: 0.9429 - val_loss: 0.2824 - val_accuracy: 1.0000\n",
            "Epoch 40/100\n",
            "19/19 [==============================] - 54s 3s/step - loss: 0.1215 - accuracy: 0.9536 - val_loss: 0.2709 - val_accuracy: 1.0000\n",
            "Epoch 41/100\n",
            "19/19 [==============================] - 54s 3s/step - loss: 0.1252 - accuracy: 0.9429 - val_loss: 0.2574 - val_accuracy: 0.9836\n",
            "Epoch 42/100\n",
            "19/19 [==============================] - 57s 3s/step - loss: 0.1110 - accuracy: 0.9446 - val_loss: 0.2423 - val_accuracy: 0.9836\n",
            "Epoch 43/100\n",
            "19/19 [==============================] - 55s 3s/step - loss: 0.0959 - accuracy: 0.9625 - val_loss: 0.2231 - val_accuracy: 0.9836\n",
            "Epoch 44/100\n",
            "19/19 [==============================] - 55s 3s/step - loss: 0.0942 - accuracy: 0.9607 - val_loss: 0.2254 - val_accuracy: 1.0000\n",
            "Epoch 45/100\n",
            "19/19 [==============================] - 55s 3s/step - loss: 0.0966 - accuracy: 0.9589 - val_loss: 0.2238 - val_accuracy: 1.0000\n",
            "Epoch 46/100\n",
            "19/19 [==============================] - 54s 3s/step - loss: 0.1175 - accuracy: 0.9625 - val_loss: 0.2194 - val_accuracy: 0.9836\n",
            "Epoch 47/100\n",
            "19/19 [==============================] - 54s 3s/step - loss: 0.1468 - accuracy: 0.9357 - val_loss: 0.3063 - val_accuracy: 0.8525\n",
            "Epoch 48/100\n",
            "19/19 [==============================] - 57s 3s/step - loss: 0.1534 - accuracy: 0.9464 - val_loss: 0.2586 - val_accuracy: 0.9672\n",
            "Epoch 49/100\n",
            "19/19 [==============================] - 55s 3s/step - loss: 0.0982 - accuracy: 0.9571 - val_loss: 0.2395 - val_accuracy: 0.8852\n",
            "Epoch 50/100\n",
            "19/19 [==============================] - 58s 3s/step - loss: 0.1362 - accuracy: 0.9411 - val_loss: 0.1988 - val_accuracy: 0.9836\n",
            "Epoch 51/100\n",
            "19/19 [==============================] - 54s 3s/step - loss: 0.0897 - accuracy: 0.9732 - val_loss: 0.1979 - val_accuracy: 0.9836\n",
            "Epoch 52/100\n",
            "19/19 [==============================] - 54s 3s/step - loss: 0.0829 - accuracy: 0.9679 - val_loss: 0.1845 - val_accuracy: 0.9836\n",
            "Epoch 53/100\n",
            "19/19 [==============================] - 55s 3s/step - loss: 0.0681 - accuracy: 0.9732 - val_loss: 0.1762 - val_accuracy: 1.0000\n",
            "Epoch 54/100\n",
            "19/19 [==============================] - 54s 3s/step - loss: 0.0786 - accuracy: 0.9714 - val_loss: 0.1588 - val_accuracy: 0.9836\n",
            "Epoch 55/100\n",
            "19/19 [==============================] - 54s 3s/step - loss: 0.0839 - accuracy: 0.9696 - val_loss: 0.1521 - val_accuracy: 0.9836\n",
            "Epoch 56/100\n",
            "19/19 [==============================] - 54s 3s/step - loss: 0.1309 - accuracy: 0.9554 - val_loss: 0.1799 - val_accuracy: 1.0000\n",
            "Epoch 57/100\n",
            "19/19 [==============================] - 58s 3s/step - loss: 0.0902 - accuracy: 0.9714 - val_loss: 0.1732 - val_accuracy: 0.9836\n",
            "Epoch 58/100\n",
            "19/19 [==============================] - 55s 3s/step - loss: 0.0779 - accuracy: 0.9750 - val_loss: 0.1461 - val_accuracy: 1.0000\n",
            "Epoch 59/100\n",
            "19/19 [==============================] - 54s 3s/step - loss: 0.0754 - accuracy: 0.9625 - val_loss: 0.1628 - val_accuracy: 0.9672\n",
            "Epoch 60/100\n",
            "19/19 [==============================] - 54s 3s/step - loss: 0.0823 - accuracy: 0.9625 - val_loss: 0.1768 - val_accuracy: 0.9836\n",
            "Epoch 61/100\n",
            "19/19 [==============================] - 55s 3s/step - loss: 0.0739 - accuracy: 0.9750 - val_loss: 0.1554 - val_accuracy: 0.9836\n",
            "Epoch 62/100\n",
            "19/19 [==============================] - 55s 3s/step - loss: 0.0485 - accuracy: 0.9857 - val_loss: 0.1351 - val_accuracy: 1.0000\n",
            "Epoch 63/100\n",
            "19/19 [==============================] - 55s 3s/step - loss: 0.0636 - accuracy: 0.9661 - val_loss: 0.1397 - val_accuracy: 1.0000\n",
            "Epoch 64/100\n",
            "19/19 [==============================] - 54s 3s/step - loss: 0.0653 - accuracy: 0.9839 - val_loss: 0.1359 - val_accuracy: 0.9836\n",
            "Epoch 65/100\n",
            "19/19 [==============================] - 54s 3s/step - loss: 0.0511 - accuracy: 0.9857 - val_loss: 0.1217 - val_accuracy: 0.9836\n",
            "Epoch 66/100\n",
            "19/19 [==============================] - 56s 3s/step - loss: 0.0481 - accuracy: 0.9821 - val_loss: 0.1420 - val_accuracy: 0.9836\n",
            "Epoch 67/100\n",
            "19/19 [==============================] - 55s 3s/step - loss: 0.0677 - accuracy: 0.9714 - val_loss: 0.1234 - val_accuracy: 0.9836\n",
            "Epoch 68/100\n",
            "19/19 [==============================] - 58s 3s/step - loss: 0.0817 - accuracy: 0.9732 - val_loss: 0.1306 - val_accuracy: 0.9836\n",
            "Epoch 69/100\n",
            "19/19 [==============================] - 55s 3s/step - loss: 0.0641 - accuracy: 0.9768 - val_loss: 0.1060 - val_accuracy: 1.0000\n",
            "Epoch 70/100\n",
            "19/19 [==============================] - 54s 3s/step - loss: 0.0607 - accuracy: 0.9714 - val_loss: 0.1277 - val_accuracy: 0.9836\n",
            "Epoch 71/100\n",
            "19/19 [==============================] - 55s 3s/step - loss: 0.0455 - accuracy: 0.9893 - val_loss: 0.0986 - val_accuracy: 1.0000\n",
            "Epoch 72/100\n",
            "19/19 [==============================] - 55s 3s/step - loss: 0.0801 - accuracy: 0.9732 - val_loss: 0.1546 - val_accuracy: 0.9508\n",
            "Epoch 73/100\n",
            "19/19 [==============================] - 55s 3s/step - loss: 0.0662 - accuracy: 0.9714 - val_loss: 0.1292 - val_accuracy: 1.0000\n",
            "Epoch 74/100\n",
            "19/19 [==============================] - 56s 3s/step - loss: 0.0453 - accuracy: 0.9857 - val_loss: 0.1149 - val_accuracy: 1.0000\n",
            "Epoch 75/100\n",
            "19/19 [==============================] - 55s 3s/step - loss: 0.0624 - accuracy: 0.9786 - val_loss: 0.0879 - val_accuracy: 1.0000\n",
            "Epoch 76/100\n",
            "19/19 [==============================] - 54s 3s/step - loss: 0.0453 - accuracy: 0.9821 - val_loss: 0.0887 - val_accuracy: 0.9836\n",
            "Epoch 77/100\n",
            "19/19 [==============================] - 57s 3s/step - loss: 0.0502 - accuracy: 0.9839 - val_loss: 0.0879 - val_accuracy: 0.9836\n",
            "Epoch 78/100\n",
            "19/19 [==============================] - 55s 3s/step - loss: 0.0429 - accuracy: 0.9857 - val_loss: 0.0832 - val_accuracy: 1.0000\n",
            "Epoch 79/100\n",
            "19/19 [==============================] - 55s 3s/step - loss: 0.0858 - accuracy: 0.9714 - val_loss: 0.1003 - val_accuracy: 0.9836\n",
            "Epoch 80/100\n",
            "19/19 [==============================] - 54s 3s/step - loss: 0.0804 - accuracy: 0.9661 - val_loss: 0.1136 - val_accuracy: 0.9836\n",
            "Epoch 81/100\n",
            "19/19 [==============================] - 54s 3s/step - loss: 0.0581 - accuracy: 0.9804 - val_loss: 0.1056 - val_accuracy: 0.9836\n",
            "Epoch 82/100\n",
            "19/19 [==============================] - 56s 3s/step - loss: 0.0532 - accuracy: 0.9839 - val_loss: 0.0862 - val_accuracy: 0.9836\n",
            "Epoch 83/100\n",
            "19/19 [==============================] - 55s 3s/step - loss: 0.0431 - accuracy: 0.9839 - val_loss: 0.0675 - val_accuracy: 0.9836\n",
            "Epoch 84/100\n",
            "19/19 [==============================] - 55s 3s/step - loss: 0.0321 - accuracy: 0.9875 - val_loss: 0.0560 - val_accuracy: 0.9836\n",
            "Epoch 85/100\n",
            "19/19 [==============================] - 54s 3s/step - loss: 0.0415 - accuracy: 0.9804 - val_loss: 0.0562 - val_accuracy: 0.9836\n",
            "Epoch 86/100\n",
            "19/19 [==============================] - 54s 3s/step - loss: 0.0493 - accuracy: 0.9821 - val_loss: 0.0615 - val_accuracy: 0.9836\n",
            "Epoch 87/100\n",
            "19/19 [==============================] - 55s 3s/step - loss: 0.0666 - accuracy: 0.9714 - val_loss: 0.1054 - val_accuracy: 0.9836\n",
            "Epoch 88/100\n",
            "19/19 [==============================] - 55s 3s/step - loss: 0.0580 - accuracy: 0.9804 - val_loss: 0.1196 - val_accuracy: 0.9836\n",
            "Epoch 89/100\n",
            "19/19 [==============================] - 54s 3s/step - loss: 0.0497 - accuracy: 0.9911 - val_loss: 0.0779 - val_accuracy: 0.9836\n",
            "Epoch 90/100\n",
            "19/19 [==============================] - 55s 3s/step - loss: 0.0275 - accuracy: 0.9911 - val_loss: 0.0571 - val_accuracy: 0.9836\n",
            "Epoch 91/100\n",
            "19/19 [==============================] - 54s 3s/step - loss: 0.0774 - accuracy: 0.9661 - val_loss: 0.0692 - val_accuracy: 1.0000\n",
            "Epoch 92/100\n",
            "19/19 [==============================] - 54s 3s/step - loss: 0.0484 - accuracy: 0.9839 - val_loss: 0.0832 - val_accuracy: 0.9836\n",
            "Epoch 93/100\n",
            "19/19 [==============================] - 54s 3s/step - loss: 0.0434 - accuracy: 0.9875 - val_loss: 0.0600 - val_accuracy: 0.9836\n",
            "Epoch 94/100\n",
            "19/19 [==============================] - 55s 3s/step - loss: 0.0378 - accuracy: 0.9857 - val_loss: 0.0697 - val_accuracy: 0.9836\n",
            "Epoch 95/100\n",
            "19/19 [==============================] - 55s 3s/step - loss: 0.0470 - accuracy: 0.9839 - val_loss: 0.0724 - val_accuracy: 0.9836\n",
            "Epoch 96/100\n",
            "19/19 [==============================] - 54s 3s/step - loss: 0.0396 - accuracy: 0.9804 - val_loss: 0.0744 - val_accuracy: 0.9836\n",
            "Epoch 97/100\n",
            "19/19 [==============================] - 54s 3s/step - loss: 0.0394 - accuracy: 0.9857 - val_loss: 0.0591 - val_accuracy: 0.9836\n",
            "Epoch 98/100\n",
            "19/19 [==============================] - 54s 3s/step - loss: 0.0186 - accuracy: 0.9964 - val_loss: 0.0533 - val_accuracy: 0.9836\n",
            "Epoch 99/100\n",
            "19/19 [==============================] - 56s 3s/step - loss: 0.0350 - accuracy: 0.9821 - val_loss: 0.0552 - val_accuracy: 0.9836\n",
            "Epoch 100/100\n",
            "19/19 [==============================] - 54s 3s/step - loss: 0.0575 - accuracy: 0.9750 - val_loss: 0.0854 - val_accuracy: 0.9836\n"
          ]
        }
      ]
    },
    {
      "cell_type": "code",
      "source": [
        "plt.plot(history.history['accuracy'], label='accuracy')\n",
        "plt.plot(history.history['val_accuracy'], label='validation_accuracy')\n",
        "plt.legend()\n",
        "plt.grid()\n",
        "plt.show()"
      ],
      "metadata": {
        "colab": {
          "base_uri": "https://localhost:8080/",
          "height": 265
        },
        "id": "35-do4jJ9xEb",
        "outputId": "b6ecb907-74c5-47c3-c18d-8296bfb850a5"
      },
      "execution_count": 14,
      "outputs": [
        {
          "output_type": "display_data",
          "data": {
            "text/plain": [
              "<Figure size 432x288 with 1 Axes>"
            ],
            "image/png": "[encoded data removed]"
          },
          "metadata": {
            "needs_background": "light"
          }
        }
      ]
    },
    {
      "cell_type": "code",
      "source": [
        "plt.plot(history.history['loss'], label='loss')\n",
        "plt.plot(history.history['val_loss'], label='val_loss')\n",
        "plt.legend()\n",
        "plt.grid()\n",
        "plt.show()"
      ],
      "metadata": {
        "colab": {
          "base_uri": "https://localhost:8080/",
          "height": 265
        },
        "id": "cEFeIwbr9rK2",
        "outputId": "e13a61a2-71a4-411c-ac5e-1494bdbc026b"
      },
      "execution_count": 15,
      "outputs": [
        {
          "output_type": "display_data",
          "data": {
            "text/plain": [
              "<Figure size 432x288 with 1 Axes>"
            ],
            "image/png": "[encoded data removed]"
          },
          "metadata": {
            "needs_background": "light"
          }
        }
      ]
    },
    {
      "cell_type": "code",
      "source": [
        "from sklearn.metrics import classification_report, confusion_matrix\n",
        "\n",
        "target_names = []\n",
        "\n",
        "for key in train_gen.class_indices:\n",
        "    target_names.append(key)\n",
        "\n",
        "\n",
        "y_pred = model.predict_generator(valid_gen)\n",
        "y_pred = np.argmax(y_pred, axis=1)\n",
        "print('Confusion Matrix')\n",
        "cm = confusion_matrix(valid_gen.classes, y_pred)\n",
        "print (cm)\n",
        "\n",
        "\n",
        "print('Classification Report')\n",
        "print(classification_report(valid_gen.classes, y_pred, target_names=target_names))\n"
      ],
      "metadata": {
        "colab": {
          "base_uri": "https://localhost:8080/"
        },
        "id": "cf0fY68I9rad",
        "outputId": "669b7a50-d3b5-43e8-ba4d-d766aac80b41"
      },
      "execution_count": 104,
      "outputs": [
        {
          "output_type": "stream",
          "name": "stderr",
          "text": [
            "/usr/local/lib/python3.7/dist-packages/ipykernel_launcher.py:9: UserWarning: `Model.predict_generator` is deprecated and will be removed in a future version. Please use `Model.predict`, which supports generators.\n",
            "  if __name__ == '__main__':\n"
          ]
        },
        {
          "output_type": "stream",
          "name": "stdout",
          "text": [
            "Confusion Matrix\n",
            "[[18 12]\n",
            " [11 20]]\n",
            "Classification Report\n",
            "              precision    recall  f1-score   support\n",
            "\n",
            "      Normal       0.62      0.60      0.61        30\n",
            "     Seizure       0.62      0.65      0.63        31\n",
            "\n",
            "    accuracy                           0.62        61\n",
            "   macro avg       0.62      0.62      0.62        61\n",
            "weighted avg       0.62      0.62      0.62        61\n",
            "\n"
          ]
        }
      ]
    },
    {
      "cell_type": "code",
      "source": [
        "ax = sns.heatmap(cm, annot=True)\n",
        "\n",
        "ax.set_title('Confusion Matrix with labels\\n\\n');\n",
        "ax.set_xlabel('\\nPredicted Values')\n",
        "ax.set_ylabel('\\nActual Values\\n');\n",
        "\n",
        "## Ticket labels - List must be in alphabetical order\n",
        "ax.xaxis.set_ticklabels(['Normal','Seizure'])\n",
        "ax.yaxis.set_ticklabels(['Normal','Seizure'])\n",
        "\n",
        "## Display the visualization of the Confusion Matrix.\n",
        "plt.show()"
      ],
      "metadata": {
        "colab": {
          "base_uri": "https://localhost:8080/",
          "height": 337
        },
        "id": "NqkVuUeNCzBm",
        "outputId": "4ce76678-5e54-4d07-dc75-98728dbdd4d3"
      },
      "execution_count": 116,
      "outputs": [
        {
          "output_type": "display_data",
          "data": {
            "text/plain": [
              "<Figure size 432x288 with 2 Axes>"
            ],
            "image/png": "[encoded data removed]"
          },
          "metadata": {
            "needs_background": "light"
          }
        }
      ]
    }
  ]
}